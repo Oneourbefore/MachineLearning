{
  "cells": [
    {
      "cell_type": "code",
      "execution_count": 1,
      "metadata": {
        "id": "rmi13Z01DOET"
      },
      "outputs": [],
      "source": [
        "from sklearn.datasets import load_iris\n",
        "import pandas as pd\n",
        "import numpy as np\n",
        "from sklearn.tree import DecisionTreeClassifier\n",
        "from sklearn.model_selection import train_test_split\n",
        "from sklearn.metrics import confusion_matrix\n",
        "from sklearn import metrics\n",
        "from sklearn.tree import export_graphviz"
      ]
    },
    {
      "cell_type": "code",
      "execution_count": 2,
      "metadata": {
        "id": "K0_n8TkipkoV",
        "colab": {
          "base_uri": "https://localhost:8080/"
        },
        "outputId": "aeaf4d4c-eb3d-4da0-870b-9976908c91c9"
      },
      "outputs": [
        {
          "output_type": "stream",
          "name": "stdout",
          "text": [
            "Looking in indexes: https://pypi.org/simple, https://us-python.pkg.dev/colab-wheels/public/simple/\n",
            "Requirement already satisfied: graphviz in /usr/local/lib/python3.10/dist-packages (0.20.1)\n"
          ]
        }
      ],
      "source": [
        "pip install graphviz"
      ]
    },
    {
      "cell_type": "code",
      "execution_count": 3,
      "metadata": {
        "id": "tDjWBJ0VZAKc"
      },
      "outputs": [],
      "source": [
        "import graphviz"
      ]
    },
    {
      "cell_type": "code",
      "execution_count": 4,
      "metadata": {
        "id": "7QKfcwRoDOEY",
        "colab": {
          "base_uri": "https://localhost:8080/",
          "height": 423
        },
        "outputId": "390b56c9-a038-4a15-8b28-e0b524506660"
      },
      "outputs": [
        {
          "output_type": "execute_result",
          "data": {
            "text/plain": [
              "     sepal length (cm)  sepal width (cm)  petal length (cm)  petal width (cm)  \\\n",
              "0                  5.1               3.5                1.4               0.2   \n",
              "1                  4.9               3.0                1.4               0.2   \n",
              "2                  4.7               3.2                1.3               0.2   \n",
              "3                  4.6               3.1                1.5               0.2   \n",
              "4                  5.0               3.6                1.4               0.2   \n",
              "..                 ...               ...                ...               ...   \n",
              "145                6.7               3.0                5.2               2.3   \n",
              "146                6.3               2.5                5.0               1.9   \n",
              "147                6.5               3.0                5.2               2.0   \n",
              "148                6.2               3.4                5.4               2.3   \n",
              "149                5.9               3.0                5.1               1.8   \n",
              "\n",
              "     species  \n",
              "0          0  \n",
              "1          0  \n",
              "2          0  \n",
              "3          0  \n",
              "4          0  \n",
              "..       ...  \n",
              "145        2  \n",
              "146        2  \n",
              "147        2  \n",
              "148        2  \n",
              "149        2  \n",
              "\n",
              "[150 rows x 5 columns]"
            ],
            "text/html": [
              "\n",
              "  <div id=\"df-799a84a5-a7cd-4641-9ec0-5d2c006436ad\">\n",
              "    <div class=\"colab-df-container\">\n",
              "      <div>\n",
              "<style scoped>\n",
              "    .dataframe tbody tr th:only-of-type {\n",
              "        vertical-align: middle;\n",
              "    }\n",
              "\n",
              "    .dataframe tbody tr th {\n",
              "        vertical-align: top;\n",
              "    }\n",
              "\n",
              "    .dataframe thead th {\n",
              "        text-align: right;\n",
              "    }\n",
              "</style>\n",
              "<table border=\"1\" class=\"dataframe\">\n",
              "  <thead>\n",
              "    <tr style=\"text-align: right;\">\n",
              "      <th></th>\n",
              "      <th>sepal length (cm)</th>\n",
              "      <th>sepal width (cm)</th>\n",
              "      <th>petal length (cm)</th>\n",
              "      <th>petal width (cm)</th>\n",
              "      <th>species</th>\n",
              "    </tr>\n",
              "  </thead>\n",
              "  <tbody>\n",
              "    <tr>\n",
              "      <th>0</th>\n",
              "      <td>5.1</td>\n",
              "      <td>3.5</td>\n",
              "      <td>1.4</td>\n",
              "      <td>0.2</td>\n",
              "      <td>0</td>\n",
              "    </tr>\n",
              "    <tr>\n",
              "      <th>1</th>\n",
              "      <td>4.9</td>\n",
              "      <td>3.0</td>\n",
              "      <td>1.4</td>\n",
              "      <td>0.2</td>\n",
              "      <td>0</td>\n",
              "    </tr>\n",
              "    <tr>\n",
              "      <th>2</th>\n",
              "      <td>4.7</td>\n",
              "      <td>3.2</td>\n",
              "      <td>1.3</td>\n",
              "      <td>0.2</td>\n",
              "      <td>0</td>\n",
              "    </tr>\n",
              "    <tr>\n",
              "      <th>3</th>\n",
              "      <td>4.6</td>\n",
              "      <td>3.1</td>\n",
              "      <td>1.5</td>\n",
              "      <td>0.2</td>\n",
              "      <td>0</td>\n",
              "    </tr>\n",
              "    <tr>\n",
              "      <th>4</th>\n",
              "      <td>5.0</td>\n",
              "      <td>3.6</td>\n",
              "      <td>1.4</td>\n",
              "      <td>0.2</td>\n",
              "      <td>0</td>\n",
              "    </tr>\n",
              "    <tr>\n",
              "      <th>...</th>\n",
              "      <td>...</td>\n",
              "      <td>...</td>\n",
              "      <td>...</td>\n",
              "      <td>...</td>\n",
              "      <td>...</td>\n",
              "    </tr>\n",
              "    <tr>\n",
              "      <th>145</th>\n",
              "      <td>6.7</td>\n",
              "      <td>3.0</td>\n",
              "      <td>5.2</td>\n",
              "      <td>2.3</td>\n",
              "      <td>2</td>\n",
              "    </tr>\n",
              "    <tr>\n",
              "      <th>146</th>\n",
              "      <td>6.3</td>\n",
              "      <td>2.5</td>\n",
              "      <td>5.0</td>\n",
              "      <td>1.9</td>\n",
              "      <td>2</td>\n",
              "    </tr>\n",
              "    <tr>\n",
              "      <th>147</th>\n",
              "      <td>6.5</td>\n",
              "      <td>3.0</td>\n",
              "      <td>5.2</td>\n",
              "      <td>2.0</td>\n",
              "      <td>2</td>\n",
              "    </tr>\n",
              "    <tr>\n",
              "      <th>148</th>\n",
              "      <td>6.2</td>\n",
              "      <td>3.4</td>\n",
              "      <td>5.4</td>\n",
              "      <td>2.3</td>\n",
              "      <td>2</td>\n",
              "    </tr>\n",
              "    <tr>\n",
              "      <th>149</th>\n",
              "      <td>5.9</td>\n",
              "      <td>3.0</td>\n",
              "      <td>5.1</td>\n",
              "      <td>1.8</td>\n",
              "      <td>2</td>\n",
              "    </tr>\n",
              "  </tbody>\n",
              "</table>\n",
              "<p>150 rows × 5 columns</p>\n",
              "</div>\n",
              "      <button class=\"colab-df-convert\" onclick=\"convertToInteractive('df-799a84a5-a7cd-4641-9ec0-5d2c006436ad')\"\n",
              "              title=\"Convert this dataframe to an interactive table.\"\n",
              "              style=\"display:none;\">\n",
              "        \n",
              "  <svg xmlns=\"http://www.w3.org/2000/svg\" height=\"24px\"viewBox=\"0 0 24 24\"\n",
              "       width=\"24px\">\n",
              "    <path d=\"M0 0h24v24H0V0z\" fill=\"none\"/>\n",
              "    <path d=\"M18.56 5.44l.94 2.06.94-2.06 2.06-.94-2.06-.94-.94-2.06-.94 2.06-2.06.94zm-11 1L8.5 8.5l.94-2.06 2.06-.94-2.06-.94L8.5 2.5l-.94 2.06-2.06.94zm10 10l.94 2.06.94-2.06 2.06-.94-2.06-.94-.94-2.06-.94 2.06-2.06.94z\"/><path d=\"M17.41 7.96l-1.37-1.37c-.4-.4-.92-.59-1.43-.59-.52 0-1.04.2-1.43.59L10.3 9.45l-7.72 7.72c-.78.78-.78 2.05 0 2.83L4 21.41c.39.39.9.59 1.41.59.51 0 1.02-.2 1.41-.59l7.78-7.78 2.81-2.81c.8-.78.8-2.07 0-2.86zM5.41 20L4 18.59l7.72-7.72 1.47 1.35L5.41 20z\"/>\n",
              "  </svg>\n",
              "      </button>\n",
              "      \n",
              "  <style>\n",
              "    .colab-df-container {\n",
              "      display:flex;\n",
              "      flex-wrap:wrap;\n",
              "      gap: 12px;\n",
              "    }\n",
              "\n",
              "    .colab-df-convert {\n",
              "      background-color: #E8F0FE;\n",
              "      border: none;\n",
              "      border-radius: 50%;\n",
              "      cursor: pointer;\n",
              "      display: none;\n",
              "      fill: #1967D2;\n",
              "      height: 32px;\n",
              "      padding: 0 0 0 0;\n",
              "      width: 32px;\n",
              "    }\n",
              "\n",
              "    .colab-df-convert:hover {\n",
              "      background-color: #E2EBFA;\n",
              "      box-shadow: 0px 1px 2px rgba(60, 64, 67, 0.3), 0px 1px 3px 1px rgba(60, 64, 67, 0.15);\n",
              "      fill: #174EA6;\n",
              "    }\n",
              "\n",
              "    [theme=dark] .colab-df-convert {\n",
              "      background-color: #3B4455;\n",
              "      fill: #D2E3FC;\n",
              "    }\n",
              "\n",
              "    [theme=dark] .colab-df-convert:hover {\n",
              "      background-color: #434B5C;\n",
              "      box-shadow: 0px 1px 3px 1px rgba(0, 0, 0, 0.15);\n",
              "      filter: drop-shadow(0px 1px 2px rgba(0, 0, 0, 0.3));\n",
              "      fill: #FFFFFF;\n",
              "    }\n",
              "  </style>\n",
              "\n",
              "      <script>\n",
              "        const buttonEl =\n",
              "          document.querySelector('#df-799a84a5-a7cd-4641-9ec0-5d2c006436ad button.colab-df-convert');\n",
              "        buttonEl.style.display =\n",
              "          google.colab.kernel.accessAllowed ? 'block' : 'none';\n",
              "\n",
              "        async function convertToInteractive(key) {\n",
              "          const element = document.querySelector('#df-799a84a5-a7cd-4641-9ec0-5d2c006436ad');\n",
              "          const dataTable =\n",
              "            await google.colab.kernel.invokeFunction('convertToInteractive',\n",
              "                                                     [key], {});\n",
              "          if (!dataTable) return;\n",
              "\n",
              "          const docLinkHtml = 'Like what you see? Visit the ' +\n",
              "            '<a target=\"_blank\" href=https://colab.research.google.com/notebooks/data_table.ipynb>data table notebook</a>'\n",
              "            + ' to learn more about interactive tables.';\n",
              "          element.innerHTML = '';\n",
              "          dataTable['output_type'] = 'display_data';\n",
              "          await google.colab.output.renderOutput(dataTable, element);\n",
              "          const docLink = document.createElement('div');\n",
              "          docLink.innerHTML = docLinkHtml;\n",
              "          element.appendChild(docLink);\n",
              "        }\n",
              "      </script>\n",
              "    </div>\n",
              "  </div>\n",
              "  "
            ]
          },
          "metadata": {},
          "execution_count": 4
        }
      ],
      "source": [
        "iris = load_iris()\n",
        "iris_df = pd.DataFrame(iris.data, columns=iris.feature_names)\n",
        "iris_df['species'] = iris.target\n",
        "iris_df"
      ]
    },
    {
      "cell_type": "code",
      "execution_count": 5,
      "metadata": {
        "id": "RyRXBYRA4z_e",
        "colab": {
          "base_uri": "https://localhost:8080/"
        },
        "outputId": "bb85c172-e522-46f0-d37a-dd8e7d47df5e"
      },
      "outputs": [
        {
          "output_type": "stream",
          "name": "stdout",
          "text": [
            "True : [0 1 1 0 2 1 2 0 0 2 1 0 2 1 1 0 1 1 0 0 1 1 1 0 2 1 0 0 1 2]\n",
            "Pred : [0 1 1 0 2 1 2 0 0 2 1 0 2 1 1 0 1 1 0 0 1 1 2 0 2 1 0 0 1 2]\n"
          ]
        }
      ],
      "source": [
        "X_train, X_test, Y_train, Y_test = train_test_split(iris.data, iris.target, test_size=0.2, random_state=1)\n",
        "\n",
        "Decision_Tree = DecisionTreeClassifier()\n",
        "Decision_Tree.fit(X_train, Y_train)\n",
        "\n",
        "Y_pred = Decision_Tree.predict(X_test)\n",
        "\n",
        "print(f'True : {Y_test}\\nPred : {Y_pred}')"
      ]
    },
    {
      "cell_type": "code",
      "execution_count": 6,
      "metadata": {
        "id": "bT_CRvZTaTdT",
        "colab": {
          "base_uri": "https://localhost:8080/"
        },
        "outputId": "999382b7-22c5-46b5-d5f6-ab2eb0a730ed"
      },
      "outputs": [
        {
          "output_type": "stream",
          "name": "stdout",
          "text": [
            "Accuracy: 0.9666666666666667\n"
          ]
        }
      ],
      "source": [
        "print(\"Accuracy:\",metrics.accuracy_score(Y_test, Y_pred))"
      ]
    },
    {
      "cell_type": "code",
      "execution_count": 7,
      "metadata": {
        "id": "Jp7ASMCdag8q",
        "colab": {
          "base_uri": "https://localhost:8080/",
          "height": 143
        },
        "outputId": "aeb480a8-eaa5-4717-be0f-b2e7c705c45d"
      },
      "outputs": [
        {
          "output_type": "execute_result",
          "data": {
            "text/plain": [
              "        Pred_0  Pred_1  Pred_2\n",
              "True_0      11       0       0\n",
              "True_1       0      12       1\n",
              "True_2       0       0       6"
            ],
            "text/html": [
              "\n",
              "  <div id=\"df-ee01dbed-0581-4feb-89a0-a6f2eb30ce44\">\n",
              "    <div class=\"colab-df-container\">\n",
              "      <div>\n",
              "<style scoped>\n",
              "    .dataframe tbody tr th:only-of-type {\n",
              "        vertical-align: middle;\n",
              "    }\n",
              "\n",
              "    .dataframe tbody tr th {\n",
              "        vertical-align: top;\n",
              "    }\n",
              "\n",
              "    .dataframe thead th {\n",
              "        text-align: right;\n",
              "    }\n",
              "</style>\n",
              "<table border=\"1\" class=\"dataframe\">\n",
              "  <thead>\n",
              "    <tr style=\"text-align: right;\">\n",
              "      <th></th>\n",
              "      <th>Pred_0</th>\n",
              "      <th>Pred_1</th>\n",
              "      <th>Pred_2</th>\n",
              "    </tr>\n",
              "  </thead>\n",
              "  <tbody>\n",
              "    <tr>\n",
              "      <th>True_0</th>\n",
              "      <td>11</td>\n",
              "      <td>0</td>\n",
              "      <td>0</td>\n",
              "    </tr>\n",
              "    <tr>\n",
              "      <th>True_1</th>\n",
              "      <td>0</td>\n",
              "      <td>12</td>\n",
              "      <td>1</td>\n",
              "    </tr>\n",
              "    <tr>\n",
              "      <th>True_2</th>\n",
              "      <td>0</td>\n",
              "      <td>0</td>\n",
              "      <td>6</td>\n",
              "    </tr>\n",
              "  </tbody>\n",
              "</table>\n",
              "</div>\n",
              "      <button class=\"colab-df-convert\" onclick=\"convertToInteractive('df-ee01dbed-0581-4feb-89a0-a6f2eb30ce44')\"\n",
              "              title=\"Convert this dataframe to an interactive table.\"\n",
              "              style=\"display:none;\">\n",
              "        \n",
              "  <svg xmlns=\"http://www.w3.org/2000/svg\" height=\"24px\"viewBox=\"0 0 24 24\"\n",
              "       width=\"24px\">\n",
              "    <path d=\"M0 0h24v24H0V0z\" fill=\"none\"/>\n",
              "    <path d=\"M18.56 5.44l.94 2.06.94-2.06 2.06-.94-2.06-.94-.94-2.06-.94 2.06-2.06.94zm-11 1L8.5 8.5l.94-2.06 2.06-.94-2.06-.94L8.5 2.5l-.94 2.06-2.06.94zm10 10l.94 2.06.94-2.06 2.06-.94-2.06-.94-.94-2.06-.94 2.06-2.06.94z\"/><path d=\"M17.41 7.96l-1.37-1.37c-.4-.4-.92-.59-1.43-.59-.52 0-1.04.2-1.43.59L10.3 9.45l-7.72 7.72c-.78.78-.78 2.05 0 2.83L4 21.41c.39.39.9.59 1.41.59.51 0 1.02-.2 1.41-.59l7.78-7.78 2.81-2.81c.8-.78.8-2.07 0-2.86zM5.41 20L4 18.59l7.72-7.72 1.47 1.35L5.41 20z\"/>\n",
              "  </svg>\n",
              "      </button>\n",
              "      \n",
              "  <style>\n",
              "    .colab-df-container {\n",
              "      display:flex;\n",
              "      flex-wrap:wrap;\n",
              "      gap: 12px;\n",
              "    }\n",
              "\n",
              "    .colab-df-convert {\n",
              "      background-color: #E8F0FE;\n",
              "      border: none;\n",
              "      border-radius: 50%;\n",
              "      cursor: pointer;\n",
              "      display: none;\n",
              "      fill: #1967D2;\n",
              "      height: 32px;\n",
              "      padding: 0 0 0 0;\n",
              "      width: 32px;\n",
              "    }\n",
              "\n",
              "    .colab-df-convert:hover {\n",
              "      background-color: #E2EBFA;\n",
              "      box-shadow: 0px 1px 2px rgba(60, 64, 67, 0.3), 0px 1px 3px 1px rgba(60, 64, 67, 0.15);\n",
              "      fill: #174EA6;\n",
              "    }\n",
              "\n",
              "    [theme=dark] .colab-df-convert {\n",
              "      background-color: #3B4455;\n",
              "      fill: #D2E3FC;\n",
              "    }\n",
              "\n",
              "    [theme=dark] .colab-df-convert:hover {\n",
              "      background-color: #434B5C;\n",
              "      box-shadow: 0px 1px 3px 1px rgba(0, 0, 0, 0.15);\n",
              "      filter: drop-shadow(0px 1px 2px rgba(0, 0, 0, 0.3));\n",
              "      fill: #FFFFFF;\n",
              "    }\n",
              "  </style>\n",
              "\n",
              "      <script>\n",
              "        const buttonEl =\n",
              "          document.querySelector('#df-ee01dbed-0581-4feb-89a0-a6f2eb30ce44 button.colab-df-convert');\n",
              "        buttonEl.style.display =\n",
              "          google.colab.kernel.accessAllowed ? 'block' : 'none';\n",
              "\n",
              "        async function convertToInteractive(key) {\n",
              "          const element = document.querySelector('#df-ee01dbed-0581-4feb-89a0-a6f2eb30ce44');\n",
              "          const dataTable =\n",
              "            await google.colab.kernel.invokeFunction('convertToInteractive',\n",
              "                                                     [key], {});\n",
              "          if (!dataTable) return;\n",
              "\n",
              "          const docLinkHtml = 'Like what you see? Visit the ' +\n",
              "            '<a target=\"_blank\" href=https://colab.research.google.com/notebooks/data_table.ipynb>data table notebook</a>'\n",
              "            + ' to learn more about interactive tables.';\n",
              "          element.innerHTML = '';\n",
              "          dataTable['output_type'] = 'display_data';\n",
              "          await google.colab.output.renderOutput(dataTable, element);\n",
              "          const docLink = document.createElement('div');\n",
              "          docLink.innerHTML = docLinkHtml;\n",
              "          element.appendChild(docLink);\n",
              "        }\n",
              "      </script>\n",
              "    </div>\n",
              "  </div>\n",
              "  "
            ]
          },
          "metadata": {},
          "execution_count": 7
        }
      ],
      "source": [
        "confusion = confusion_matrix(Y_test, Y_pred)\n",
        "confusion_DF = pd.DataFrame(confusion, columns = ['Pred_0', 'Pred_1', 'Pred_2'])\n",
        "confusion_DF.index = ['True_0', 'True_1', 'True_2']\n",
        "\n",
        "confusion_DF"
      ]
    },
    {
      "cell_type": "code",
      "execution_count": 8,
      "metadata": {
        "id": "lrAg9nivavyb"
      },
      "outputs": [],
      "source": [
        "# .dot 파일로 export 해 줌\n",
        "export_graphviz(Decision_Tree, out_file='tree.dot', \n",
        "                class_names = iris.target_names, \n",
        "                feature_names=iris.feature_names, \n",
        "                impurity=True, # gini 출력\n",
        "                filled =True) # class별 color 채우기"
      ]
    },
    {
      "cell_type": "code",
      "execution_count": 9,
      "metadata": {
        "id": "zTWzAd-Qb_wn",
        "colab": {
          "base_uri": "https://localhost:8080/",
          "height": 915
        },
        "outputId": "fc8dbc83-ce7a-45b9-d4cb-5db6520cf1c4"
      },
      "outputs": [
        {
          "output_type": "execute_result",
          "data": {
            "image/svg+xml": "<?xml version=\"1.0\" encoding=\"UTF-8\" standalone=\"no\"?>\n<!DOCTYPE svg PUBLIC \"-//W3C//DTD SVG 1.1//EN\"\n \"http://www.w3.org/Graphics/SVG/1.1/DTD/svg11.dtd\">\n<!-- Generated by graphviz version 2.43.0 (0)\n -->\n<!-- Title: Tree Pages: 1 -->\n<svg width=\"624pt\" height=\"671pt\"\n viewBox=\"0.00 0.00 624.00 671.00\" xmlns=\"http://www.w3.org/2000/svg\" xmlns:xlink=\"http://www.w3.org/1999/xlink\">\n<g id=\"graph0\" class=\"graph\" transform=\"scale(1 1) rotate(0) translate(4 667)\">\n<title>Tree</title>\n<polygon fill=\"white\" stroke=\"transparent\" points=\"-4,4 -4,-667 620,-667 620,4 -4,4\"/>\n<!-- 0 -->\n<g id=\"node1\" class=\"node\">\n<title>0</title>\n<polygon fill=\"#f7f3fd\" stroke=\"black\" points=\"309,-663 154,-663 154,-580 309,-580 309,-663\"/>\n<text text-anchor=\"middle\" x=\"231.5\" y=\"-647.8\" font-family=\"Helvetica,sans-Serif\" font-size=\"14.00\">petal width (cm) &lt;= 0.8</text>\n<text text-anchor=\"middle\" x=\"231.5\" y=\"-632.8\" font-family=\"Helvetica,sans-Serif\" font-size=\"14.00\">gini = 0.665</text>\n<text text-anchor=\"middle\" x=\"231.5\" y=\"-617.8\" font-family=\"Helvetica,sans-Serif\" font-size=\"14.00\">samples = 120</text>\n<text text-anchor=\"middle\" x=\"231.5\" y=\"-602.8\" font-family=\"Helvetica,sans-Serif\" font-size=\"14.00\">value = [39, 37, 44]</text>\n<text text-anchor=\"middle\" x=\"231.5\" y=\"-587.8\" font-family=\"Helvetica,sans-Serif\" font-size=\"14.00\">class = virginica</text>\n</g>\n<!-- 1 -->\n<g id=\"node2\" class=\"node\">\n<title>1</title>\n<polygon fill=\"#e58139\" stroke=\"black\" points=\"211,-536.5 94,-536.5 94,-468.5 211,-468.5 211,-536.5\"/>\n<text text-anchor=\"middle\" x=\"152.5\" y=\"-521.3\" font-family=\"Helvetica,sans-Serif\" font-size=\"14.00\">gini = 0.0</text>\n<text text-anchor=\"middle\" x=\"152.5\" y=\"-506.3\" font-family=\"Helvetica,sans-Serif\" font-size=\"14.00\">samples = 39</text>\n<text text-anchor=\"middle\" x=\"152.5\" y=\"-491.3\" font-family=\"Helvetica,sans-Serif\" font-size=\"14.00\">value = [39, 0, 0]</text>\n<text text-anchor=\"middle\" x=\"152.5\" y=\"-476.3\" font-family=\"Helvetica,sans-Serif\" font-size=\"14.00\">class = setosa</text>\n</g>\n<!-- 0&#45;&gt;1 -->\n<g id=\"edge1\" class=\"edge\">\n<title>0&#45;&gt;1</title>\n<path fill=\"none\" stroke=\"black\" d=\"M204.09,-579.91C196.49,-568.65 188.23,-556.42 180.59,-545.11\"/>\n<polygon fill=\"black\" stroke=\"black\" points=\"183.39,-543 174.89,-536.67 177.59,-546.91 183.39,-543\"/>\n<text text-anchor=\"middle\" x=\"170.14\" y=\"-557.51\" font-family=\"Helvetica,sans-Serif\" font-size=\"14.00\">True</text>\n</g>\n<!-- 2 -->\n<g id=\"node3\" class=\"node\">\n<title>2</title>\n<polygon fill=\"#ebe0fb\" stroke=\"black\" points=\"392,-544 229,-544 229,-461 392,-461 392,-544\"/>\n<text text-anchor=\"middle\" x=\"310.5\" y=\"-528.8\" font-family=\"Helvetica,sans-Serif\" font-size=\"14.00\">petal width (cm) &lt;= 1.65</text>\n<text text-anchor=\"middle\" x=\"310.5\" y=\"-513.8\" font-family=\"Helvetica,sans-Serif\" font-size=\"14.00\">gini = 0.496</text>\n<text text-anchor=\"middle\" x=\"310.5\" y=\"-498.8\" font-family=\"Helvetica,sans-Serif\" font-size=\"14.00\">samples = 81</text>\n<text text-anchor=\"middle\" x=\"310.5\" y=\"-483.8\" font-family=\"Helvetica,sans-Serif\" font-size=\"14.00\">value = [0, 37, 44]</text>\n<text text-anchor=\"middle\" x=\"310.5\" y=\"-468.8\" font-family=\"Helvetica,sans-Serif\" font-size=\"14.00\">class = virginica</text>\n</g>\n<!-- 0&#45;&gt;2 -->\n<g id=\"edge2\" class=\"edge\">\n<title>0&#45;&gt;2</title>\n<path fill=\"none\" stroke=\"black\" d=\"M258.91,-579.91C264.91,-571.01 271.33,-561.51 277.53,-552.33\"/>\n<polygon fill=\"black\" stroke=\"black\" points=\"280.44,-554.27 283.14,-544.02 274.64,-550.35 280.44,-554.27\"/>\n<text text-anchor=\"middle\" x=\"287.9\" y=\"-564.86\" font-family=\"Helvetica,sans-Serif\" font-size=\"14.00\">False</text>\n</g>\n<!-- 3 -->\n<g id=\"node4\" class=\"node\">\n<title>3</title>\n<polygon fill=\"#4fe88f\" stroke=\"black\" points=\"301.5,-425 133.5,-425 133.5,-342 301.5,-342 301.5,-425\"/>\n<text text-anchor=\"middle\" x=\"217.5\" y=\"-409.8\" font-family=\"Helvetica,sans-Serif\" font-size=\"14.00\">petal length (cm) &lt;= 4.95</text>\n<text text-anchor=\"middle\" x=\"217.5\" y=\"-394.8\" font-family=\"Helvetica,sans-Serif\" font-size=\"14.00\">gini = 0.18</text>\n<text text-anchor=\"middle\" x=\"217.5\" y=\"-379.8\" font-family=\"Helvetica,sans-Serif\" font-size=\"14.00\">samples = 40</text>\n<text text-anchor=\"middle\" x=\"217.5\" y=\"-364.8\" font-family=\"Helvetica,sans-Serif\" font-size=\"14.00\">value = [0, 36, 4]</text>\n<text text-anchor=\"middle\" x=\"217.5\" y=\"-349.8\" font-family=\"Helvetica,sans-Serif\" font-size=\"14.00\">class = versicolor</text>\n</g>\n<!-- 2&#45;&gt;3 -->\n<g id=\"edge3\" class=\"edge\">\n<title>2&#45;&gt;3</title>\n<path fill=\"none\" stroke=\"black\" d=\"M278.23,-460.91C271.09,-451.92 263.46,-442.32 256.09,-433.05\"/>\n<polygon fill=\"black\" stroke=\"black\" points=\"258.67,-430.67 249.71,-425.02 253.19,-435.03 258.67,-430.67\"/>\n</g>\n<!-- 10 -->\n<g id=\"node11\" class=\"node\">\n<title>10</title>\n<polygon fill=\"#843ee6\" stroke=\"black\" points=\"487.5,-425 319.5,-425 319.5,-342 487.5,-342 487.5,-425\"/>\n<text text-anchor=\"middle\" x=\"403.5\" y=\"-409.8\" font-family=\"Helvetica,sans-Serif\" font-size=\"14.00\">petal length (cm) &lt;= 4.85</text>\n<text text-anchor=\"middle\" x=\"403.5\" y=\"-394.8\" font-family=\"Helvetica,sans-Serif\" font-size=\"14.00\">gini = 0.048</text>\n<text text-anchor=\"middle\" x=\"403.5\" y=\"-379.8\" font-family=\"Helvetica,sans-Serif\" font-size=\"14.00\">samples = 41</text>\n<text text-anchor=\"middle\" x=\"403.5\" y=\"-364.8\" font-family=\"Helvetica,sans-Serif\" font-size=\"14.00\">value = [0, 1, 40]</text>\n<text text-anchor=\"middle\" x=\"403.5\" y=\"-349.8\" font-family=\"Helvetica,sans-Serif\" font-size=\"14.00\">class = virginica</text>\n</g>\n<!-- 2&#45;&gt;10 -->\n<g id=\"edge10\" class=\"edge\">\n<title>2&#45;&gt;10</title>\n<path fill=\"none\" stroke=\"black\" d=\"M342.77,-460.91C349.91,-451.92 357.54,-442.32 364.91,-433.05\"/>\n<polygon fill=\"black\" stroke=\"black\" points=\"367.81,-435.03 371.29,-425.02 362.33,-430.67 367.81,-435.03\"/>\n</g>\n<!-- 4 -->\n<g id=\"node5\" class=\"node\">\n<title>4</title>\n<polygon fill=\"#39e581\" stroke=\"black\" points=\"121,-298.5 0,-298.5 0,-230.5 121,-230.5 121,-298.5\"/>\n<text text-anchor=\"middle\" x=\"60.5\" y=\"-283.3\" font-family=\"Helvetica,sans-Serif\" font-size=\"14.00\">gini = 0.0</text>\n<text text-anchor=\"middle\" x=\"60.5\" y=\"-268.3\" font-family=\"Helvetica,sans-Serif\" font-size=\"14.00\">samples = 35</text>\n<text text-anchor=\"middle\" x=\"60.5\" y=\"-253.3\" font-family=\"Helvetica,sans-Serif\" font-size=\"14.00\">value = [0, 35, 0]</text>\n<text text-anchor=\"middle\" x=\"60.5\" y=\"-238.3\" font-family=\"Helvetica,sans-Serif\" font-size=\"14.00\">class = versicolor</text>\n</g>\n<!-- 3&#45;&gt;4 -->\n<g id=\"edge4\" class=\"edge\">\n<title>3&#45;&gt;4</title>\n<path fill=\"none\" stroke=\"black\" d=\"M163.03,-341.91C146.89,-329.88 129.25,-316.73 113.22,-304.79\"/>\n<polygon fill=\"black\" stroke=\"black\" points=\"115.12,-301.84 105.01,-298.67 110.93,-307.45 115.12,-301.84\"/>\n</g>\n<!-- 5 -->\n<g id=\"node6\" class=\"node\">\n<title>5</title>\n<polygon fill=\"#a06aec\" stroke=\"black\" points=\"302,-306 139,-306 139,-223 302,-223 302,-306\"/>\n<text text-anchor=\"middle\" x=\"220.5\" y=\"-290.8\" font-family=\"Helvetica,sans-Serif\" font-size=\"14.00\">petal width (cm) &lt;= 1.55</text>\n<text text-anchor=\"middle\" x=\"220.5\" y=\"-275.8\" font-family=\"Helvetica,sans-Serif\" font-size=\"14.00\">gini = 0.32</text>\n<text text-anchor=\"middle\" x=\"220.5\" y=\"-260.8\" font-family=\"Helvetica,sans-Serif\" font-size=\"14.00\">samples = 5</text>\n<text text-anchor=\"middle\" x=\"220.5\" y=\"-245.8\" font-family=\"Helvetica,sans-Serif\" font-size=\"14.00\">value = [0, 1, 4]</text>\n<text text-anchor=\"middle\" x=\"220.5\" y=\"-230.8\" font-family=\"Helvetica,sans-Serif\" font-size=\"14.00\">class = virginica</text>\n</g>\n<!-- 3&#45;&gt;5 -->\n<g id=\"edge5\" class=\"edge\">\n<title>3&#45;&gt;5</title>\n<path fill=\"none\" stroke=\"black\" d=\"M218.54,-341.91C218.75,-333.56 218.98,-324.67 219.2,-316.02\"/>\n<polygon fill=\"black\" stroke=\"black\" points=\"222.7,-316.11 219.46,-306.02 215.71,-315.93 222.7,-316.11\"/>\n</g>\n<!-- 6 -->\n<g id=\"node7\" class=\"node\">\n<title>6</title>\n<polygon fill=\"#8139e5\" stroke=\"black\" points=\"126,-179.5 13,-179.5 13,-111.5 126,-111.5 126,-179.5\"/>\n<text text-anchor=\"middle\" x=\"69.5\" y=\"-164.3\" font-family=\"Helvetica,sans-Serif\" font-size=\"14.00\">gini = 0.0</text>\n<text text-anchor=\"middle\" x=\"69.5\" y=\"-149.3\" font-family=\"Helvetica,sans-Serif\" font-size=\"14.00\">samples = 3</text>\n<text text-anchor=\"middle\" x=\"69.5\" y=\"-134.3\" font-family=\"Helvetica,sans-Serif\" font-size=\"14.00\">value = [0, 0, 3]</text>\n<text text-anchor=\"middle\" x=\"69.5\" y=\"-119.3\" font-family=\"Helvetica,sans-Serif\" font-size=\"14.00\">class = virginica</text>\n</g>\n<!-- 5&#45;&gt;6 -->\n<g id=\"edge6\" class=\"edge\">\n<title>5&#45;&gt;6</title>\n<path fill=\"none\" stroke=\"black\" d=\"M168.11,-222.91C152.73,-210.99 135.93,-197.98 120.63,-186.12\"/>\n<polygon fill=\"black\" stroke=\"black\" points=\"122.35,-183.03 112.31,-179.67 118.07,-188.56 122.35,-183.03\"/>\n</g>\n<!-- 7 -->\n<g id=\"node8\" class=\"node\">\n<title>7</title>\n<polygon fill=\"#ffffff\" stroke=\"black\" points=\"308.5,-187 144.5,-187 144.5,-104 308.5,-104 308.5,-187\"/>\n<text text-anchor=\"middle\" x=\"226.5\" y=\"-171.8\" font-family=\"Helvetica,sans-Serif\" font-size=\"14.00\">sepal length (cm) &lt;= 6.6</text>\n<text text-anchor=\"middle\" x=\"226.5\" y=\"-156.8\" font-family=\"Helvetica,sans-Serif\" font-size=\"14.00\">gini = 0.5</text>\n<text text-anchor=\"middle\" x=\"226.5\" y=\"-141.8\" font-family=\"Helvetica,sans-Serif\" font-size=\"14.00\">samples = 2</text>\n<text text-anchor=\"middle\" x=\"226.5\" y=\"-126.8\" font-family=\"Helvetica,sans-Serif\" font-size=\"14.00\">value = [0, 1, 1]</text>\n<text text-anchor=\"middle\" x=\"226.5\" y=\"-111.8\" font-family=\"Helvetica,sans-Serif\" font-size=\"14.00\">class = versicolor</text>\n</g>\n<!-- 5&#45;&gt;7 -->\n<g id=\"edge7\" class=\"edge\">\n<title>5&#45;&gt;7</title>\n<path fill=\"none\" stroke=\"black\" d=\"M222.58,-222.91C223.01,-214.56 223.47,-205.67 223.91,-197.02\"/>\n<polygon fill=\"black\" stroke=\"black\" points=\"227.41,-197.19 224.42,-187.02 220.41,-196.83 227.41,-197.19\"/>\n</g>\n<!-- 8 -->\n<g id=\"node9\" class=\"node\">\n<title>8</title>\n<polygon fill=\"#39e581\" stroke=\"black\" points=\"220,-68 99,-68 99,0 220,0 220,-68\"/>\n<text text-anchor=\"middle\" x=\"159.5\" y=\"-52.8\" font-family=\"Helvetica,sans-Serif\" font-size=\"14.00\">gini = 0.0</text>\n<text text-anchor=\"middle\" x=\"159.5\" y=\"-37.8\" font-family=\"Helvetica,sans-Serif\" font-size=\"14.00\">samples = 1</text>\n<text text-anchor=\"middle\" x=\"159.5\" y=\"-22.8\" font-family=\"Helvetica,sans-Serif\" font-size=\"14.00\">value = [0, 1, 0]</text>\n<text text-anchor=\"middle\" x=\"159.5\" y=\"-7.8\" font-family=\"Helvetica,sans-Serif\" font-size=\"14.00\">class = versicolor</text>\n</g>\n<!-- 7&#45;&gt;8 -->\n<g id=\"edge8\" class=\"edge\">\n<title>7&#45;&gt;8</title>\n<path fill=\"none\" stroke=\"black\" d=\"M201.55,-103.73C196.19,-94.97 190.52,-85.7 185.14,-76.91\"/>\n<polygon fill=\"black\" stroke=\"black\" points=\"188.08,-75 179.88,-68.3 182.11,-78.66 188.08,-75\"/>\n</g>\n<!-- 9 -->\n<g id=\"node10\" class=\"node\">\n<title>9</title>\n<polygon fill=\"#8139e5\" stroke=\"black\" points=\"351,-68 238,-68 238,0 351,0 351,-68\"/>\n<text text-anchor=\"middle\" x=\"294.5\" y=\"-52.8\" font-family=\"Helvetica,sans-Serif\" font-size=\"14.00\">gini = 0.0</text>\n<text text-anchor=\"middle\" x=\"294.5\" y=\"-37.8\" font-family=\"Helvetica,sans-Serif\" font-size=\"14.00\">samples = 1</text>\n<text text-anchor=\"middle\" x=\"294.5\" y=\"-22.8\" font-family=\"Helvetica,sans-Serif\" font-size=\"14.00\">value = [0, 0, 1]</text>\n<text text-anchor=\"middle\" x=\"294.5\" y=\"-7.8\" font-family=\"Helvetica,sans-Serif\" font-size=\"14.00\">class = virginica</text>\n</g>\n<!-- 7&#45;&gt;9 -->\n<g id=\"edge9\" class=\"edge\">\n<title>7&#45;&gt;9</title>\n<path fill=\"none\" stroke=\"black\" d=\"M251.82,-103.73C257.26,-94.97 263.01,-85.7 268.48,-76.91\"/>\n<polygon fill=\"black\" stroke=\"black\" points=\"271.52,-78.64 273.82,-68.3 265.57,-74.95 271.52,-78.64\"/>\n</g>\n<!-- 11 -->\n<g id=\"node12\" class=\"node\">\n<title>11</title>\n<polygon fill=\"#ab7bee\" stroke=\"black\" points=\"480.5,-306 322.5,-306 322.5,-223 480.5,-223 480.5,-306\"/>\n<text text-anchor=\"middle\" x=\"401.5\" y=\"-290.8\" font-family=\"Helvetica,sans-Serif\" font-size=\"14.00\">sepal width (cm) &lt;= 3.1</text>\n<text text-anchor=\"middle\" x=\"401.5\" y=\"-275.8\" font-family=\"Helvetica,sans-Serif\" font-size=\"14.00\">gini = 0.375</text>\n<text text-anchor=\"middle\" x=\"401.5\" y=\"-260.8\" font-family=\"Helvetica,sans-Serif\" font-size=\"14.00\">samples = 4</text>\n<text text-anchor=\"middle\" x=\"401.5\" y=\"-245.8\" font-family=\"Helvetica,sans-Serif\" font-size=\"14.00\">value = [0, 1, 3]</text>\n<text text-anchor=\"middle\" x=\"401.5\" y=\"-230.8\" font-family=\"Helvetica,sans-Serif\" font-size=\"14.00\">class = virginica</text>\n</g>\n<!-- 10&#45;&gt;11 -->\n<g id=\"edge11\" class=\"edge\">\n<title>10&#45;&gt;11</title>\n<path fill=\"none\" stroke=\"black\" d=\"M402.81,-341.91C402.66,-333.56 402.51,-324.67 402.36,-316.02\"/>\n<polygon fill=\"black\" stroke=\"black\" points=\"405.86,-315.96 402.19,-306.02 398.86,-316.08 405.86,-315.96\"/>\n</g>\n<!-- 14 -->\n<g id=\"node15\" class=\"node\">\n<title>14</title>\n<polygon fill=\"#8139e5\" stroke=\"black\" points=\"616,-298.5 499,-298.5 499,-230.5 616,-230.5 616,-298.5\"/>\n<text text-anchor=\"middle\" x=\"557.5\" y=\"-283.3\" font-family=\"Helvetica,sans-Serif\" font-size=\"14.00\">gini = 0.0</text>\n<text text-anchor=\"middle\" x=\"557.5\" y=\"-268.3\" font-family=\"Helvetica,sans-Serif\" font-size=\"14.00\">samples = 37</text>\n<text text-anchor=\"middle\" x=\"557.5\" y=\"-253.3\" font-family=\"Helvetica,sans-Serif\" font-size=\"14.00\">value = [0, 0, 37]</text>\n<text text-anchor=\"middle\" x=\"557.5\" y=\"-238.3\" font-family=\"Helvetica,sans-Serif\" font-size=\"14.00\">class = virginica</text>\n</g>\n<!-- 10&#45;&gt;14 -->\n<g id=\"edge14\" class=\"edge\">\n<title>10&#45;&gt;14</title>\n<path fill=\"none\" stroke=\"black\" d=\"M456.93,-341.91C472.76,-329.88 490.06,-316.73 505.78,-304.79\"/>\n<polygon fill=\"black\" stroke=\"black\" points=\"508,-307.5 513.84,-298.67 503.76,-301.93 508,-307.5\"/>\n</g>\n<!-- 12 -->\n<g id=\"node13\" class=\"node\">\n<title>12</title>\n<polygon fill=\"#8139e5\" stroke=\"black\" points=\"454,-179.5 341,-179.5 341,-111.5 454,-111.5 454,-179.5\"/>\n<text text-anchor=\"middle\" x=\"397.5\" y=\"-164.3\" font-family=\"Helvetica,sans-Serif\" font-size=\"14.00\">gini = 0.0</text>\n<text text-anchor=\"middle\" x=\"397.5\" y=\"-149.3\" font-family=\"Helvetica,sans-Serif\" font-size=\"14.00\">samples = 3</text>\n<text text-anchor=\"middle\" x=\"397.5\" y=\"-134.3\" font-family=\"Helvetica,sans-Serif\" font-size=\"14.00\">value = [0, 0, 3]</text>\n<text text-anchor=\"middle\" x=\"397.5\" y=\"-119.3\" font-family=\"Helvetica,sans-Serif\" font-size=\"14.00\">class = virginica</text>\n</g>\n<!-- 11&#45;&gt;12 -->\n<g id=\"edge12\" class=\"edge\">\n<title>11&#45;&gt;12</title>\n<path fill=\"none\" stroke=\"black\" d=\"M400.11,-222.91C399.75,-212.2 399.35,-200.62 398.98,-189.78\"/>\n<polygon fill=\"black\" stroke=\"black\" points=\"402.47,-189.54 398.63,-179.67 395.48,-189.78 402.47,-189.54\"/>\n</g>\n<!-- 13 -->\n<g id=\"node14\" class=\"node\">\n<title>13</title>\n<polygon fill=\"#39e581\" stroke=\"black\" points=\"593,-179.5 472,-179.5 472,-111.5 593,-111.5 593,-179.5\"/>\n<text text-anchor=\"middle\" x=\"532.5\" y=\"-164.3\" font-family=\"Helvetica,sans-Serif\" font-size=\"14.00\">gini = 0.0</text>\n<text text-anchor=\"middle\" x=\"532.5\" y=\"-149.3\" font-family=\"Helvetica,sans-Serif\" font-size=\"14.00\">samples = 1</text>\n<text text-anchor=\"middle\" x=\"532.5\" y=\"-134.3\" font-family=\"Helvetica,sans-Serif\" font-size=\"14.00\">value = [0, 1, 0]</text>\n<text text-anchor=\"middle\" x=\"532.5\" y=\"-119.3\" font-family=\"Helvetica,sans-Serif\" font-size=\"14.00\">class = versicolor</text>\n</g>\n<!-- 11&#45;&gt;13 -->\n<g id=\"edge13\" class=\"edge\">\n<title>11&#45;&gt;13</title>\n<path fill=\"none\" stroke=\"black\" d=\"M446.95,-222.91C460.17,-211.1 474.6,-198.22 487.77,-186.45\"/>\n<polygon fill=\"black\" stroke=\"black\" points=\"490.24,-188.94 495.36,-179.67 485.57,-183.72 490.24,-188.94\"/>\n</g>\n</g>\n</svg>\n",
            "text/plain": [
              "<graphviz.sources.Source at 0x7f440ad0f730>"
            ]
          },
          "metadata": {},
          "execution_count": 9
        }
      ],
      "source": [
        "with open('./tree.dot') as f:\n",
        "  dot_graph = f.read()\n",
        "\n",
        "graphviz.Source(dot_graph) #dot_graph의 source저장"
      ]
    },
    {
      "cell_type": "markdown",
      "metadata": {
        "id": "2-UZ78Fhb_Sv"
      },
      "source": [
        "\n",
        "\n",
        "---\n",
        "\n",
        "\n",
        "\n",
        "---\n",
        "\n"
      ]
    },
    {
      "cell_type": "markdown",
      "metadata": {
        "id": "wnl40vR_cB9N"
      },
      "source": [
        "## **Decision Tree의 과적합 방지**\n",
        "\n",
        "\n",
        "*   max_depth : 트리 최대 깊이\n",
        "*   mean_samples_split : 분할되기 위해 노드가 가져야 하는 최소 샘플 수\n",
        "*   mean_samples_leaf : leaf node가 가지고 있어야 할 최소 샘플 수\n",
        "\n",
        "\n",
        "\n",
        "![image.png](data:image/png;base64,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)\n",
        "\n",
        "\n"
      ]
    },
    {
      "cell_type": "code",
      "execution_count": 10,
      "metadata": {
        "id": "nGyP7TSVYKSt",
        "colab": {
          "base_uri": "https://localhost:8080/",
          "height": 74
        },
        "outputId": "f831b55e-4ac5-44ea-eeb8-10c6f7a0e777"
      },
      "outputs": [
        {
          "output_type": "execute_result",
          "data": {
            "text/plain": [
              "DecisionTreeClassifier(max_depth=3, random_state=1)"
            ],
            "text/html": [
              "<style>#sk-container-id-1 {color: black;background-color: white;}#sk-container-id-1 pre{padding: 0;}#sk-container-id-1 div.sk-toggleable {background-color: white;}#sk-container-id-1 label.sk-toggleable__label {cursor: pointer;display: block;width: 100%;margin-bottom: 0;padding: 0.3em;box-sizing: border-box;text-align: center;}#sk-container-id-1 label.sk-toggleable__label-arrow:before {content: \"▸\";float: left;margin-right: 0.25em;color: #696969;}#sk-container-id-1 label.sk-toggleable__label-arrow:hover:before {color: black;}#sk-container-id-1 div.sk-estimator:hover label.sk-toggleable__label-arrow:before {color: black;}#sk-container-id-1 div.sk-toggleable__content {max-height: 0;max-width: 0;overflow: hidden;text-align: left;background-color: #f0f8ff;}#sk-container-id-1 div.sk-toggleable__content pre {margin: 0.2em;color: black;border-radius: 0.25em;background-color: #f0f8ff;}#sk-container-id-1 input.sk-toggleable__control:checked~div.sk-toggleable__content {max-height: 200px;max-width: 100%;overflow: auto;}#sk-container-id-1 input.sk-toggleable__control:checked~label.sk-toggleable__label-arrow:before {content: \"▾\";}#sk-container-id-1 div.sk-estimator input.sk-toggleable__control:checked~label.sk-toggleable__label {background-color: #d4ebff;}#sk-container-id-1 div.sk-label input.sk-toggleable__control:checked~label.sk-toggleable__label {background-color: #d4ebff;}#sk-container-id-1 input.sk-hidden--visually {border: 0;clip: rect(1px 1px 1px 1px);clip: rect(1px, 1px, 1px, 1px);height: 1px;margin: -1px;overflow: hidden;padding: 0;position: absolute;width: 1px;}#sk-container-id-1 div.sk-estimator {font-family: monospace;background-color: #f0f8ff;border: 1px dotted black;border-radius: 0.25em;box-sizing: border-box;margin-bottom: 0.5em;}#sk-container-id-1 div.sk-estimator:hover {background-color: #d4ebff;}#sk-container-id-1 div.sk-parallel-item::after {content: \"\";width: 100%;border-bottom: 1px solid gray;flex-grow: 1;}#sk-container-id-1 div.sk-label:hover label.sk-toggleable__label {background-color: #d4ebff;}#sk-container-id-1 div.sk-serial::before {content: \"\";position: absolute;border-left: 1px solid gray;box-sizing: border-box;top: 0;bottom: 0;left: 50%;z-index: 0;}#sk-container-id-1 div.sk-serial {display: flex;flex-direction: column;align-items: center;background-color: white;padding-right: 0.2em;padding-left: 0.2em;position: relative;}#sk-container-id-1 div.sk-item {position: relative;z-index: 1;}#sk-container-id-1 div.sk-parallel {display: flex;align-items: stretch;justify-content: center;background-color: white;position: relative;}#sk-container-id-1 div.sk-item::before, #sk-container-id-1 div.sk-parallel-item::before {content: \"\";position: absolute;border-left: 1px solid gray;box-sizing: border-box;top: 0;bottom: 0;left: 50%;z-index: -1;}#sk-container-id-1 div.sk-parallel-item {display: flex;flex-direction: column;z-index: 1;position: relative;background-color: white;}#sk-container-id-1 div.sk-parallel-item:first-child::after {align-self: flex-end;width: 50%;}#sk-container-id-1 div.sk-parallel-item:last-child::after {align-self: flex-start;width: 50%;}#sk-container-id-1 div.sk-parallel-item:only-child::after {width: 0;}#sk-container-id-1 div.sk-dashed-wrapped {border: 1px dashed gray;margin: 0 0.4em 0.5em 0.4em;box-sizing: border-box;padding-bottom: 0.4em;background-color: white;}#sk-container-id-1 div.sk-label label {font-family: monospace;font-weight: bold;display: inline-block;line-height: 1.2em;}#sk-container-id-1 div.sk-label-container {text-align: center;}#sk-container-id-1 div.sk-container {/* jupyter's `normalize.less` sets `[hidden] { display: none; }` but bootstrap.min.css set `[hidden] { display: none !important; }` so we also need the `!important` here to be able to override the default hidden behavior on the sphinx rendered scikit-learn.org. See: https://github.com/scikit-learn/scikit-learn/issues/21755 */display: inline-block !important;position: relative;}#sk-container-id-1 div.sk-text-repr-fallback {display: none;}</style><div id=\"sk-container-id-1\" class=\"sk-top-container\"><div class=\"sk-text-repr-fallback\"><pre>DecisionTreeClassifier(max_depth=3, random_state=1)</pre><b>In a Jupyter environment, please rerun this cell to show the HTML representation or trust the notebook. <br />On GitHub, the HTML representation is unable to render, please try loading this page with nbviewer.org.</b></div><div class=\"sk-container\" hidden><div class=\"sk-item\"><div class=\"sk-estimator sk-toggleable\"><input class=\"sk-toggleable__control sk-hidden--visually\" id=\"sk-estimator-id-1\" type=\"checkbox\" checked><label for=\"sk-estimator-id-1\" class=\"sk-toggleable__label sk-toggleable__label-arrow\">DecisionTreeClassifier</label><div class=\"sk-toggleable__content\"><pre>DecisionTreeClassifier(max_depth=3, random_state=1)</pre></div></div></div></div></div>"
            ]
          },
          "metadata": {},
          "execution_count": 10
        }
      ],
      "source": [
        "Decision_Tree_md = DecisionTreeClassifier(max_depth=3 ,random_state=1)\n",
        "Decision_Tree_md.fit(X_train, Y_train)"
      ]
    },
    {
      "cell_type": "code",
      "execution_count": 11,
      "metadata": {
        "id": "_XmwGcvDYp-2",
        "colab": {
          "base_uri": "https://localhost:8080/",
          "height": 597
        },
        "outputId": "7b7112c9-b403-4711-d181-f9ffd32075f0"
      },
      "outputs": [
        {
          "output_type": "execute_result",
          "data": {
            "image/svg+xml": "<?xml version=\"1.0\" encoding=\"UTF-8\" standalone=\"no\"?>\n<!DOCTYPE svg PUBLIC \"-//W3C//DTD SVG 1.1//EN\"\n \"http://www.w3.org/Graphics/SVG/1.1/DTD/svg11.dtd\">\n<!-- Generated by graphviz version 2.43.0 (0)\n -->\n<!-- Title: Tree Pages: 1 -->\n<svg width=\"553pt\" height=\"433pt\"\n viewBox=\"0.00 0.00 553.00 433.00\" xmlns=\"http://www.w3.org/2000/svg\" xmlns:xlink=\"http://www.w3.org/1999/xlink\">\n<g id=\"graph0\" class=\"graph\" transform=\"scale(1 1) rotate(0) translate(4 429)\">\n<title>Tree</title>\n<polygon fill=\"white\" stroke=\"transparent\" points=\"-4,4 -4,-429 549,-429 549,4 -4,4\"/>\n<!-- 0 -->\n<g id=\"node1\" class=\"node\">\n<title>0</title>\n<polygon fill=\"#f7f3fd\" stroke=\"black\" points=\"273,-425 118,-425 118,-342 273,-342 273,-425\"/>\n<text text-anchor=\"middle\" x=\"195.5\" y=\"-409.8\" font-family=\"Helvetica,sans-Serif\" font-size=\"14.00\">petal width (cm) &lt;= 0.8</text>\n<text text-anchor=\"middle\" x=\"195.5\" y=\"-394.8\" font-family=\"Helvetica,sans-Serif\" font-size=\"14.00\">gini = 0.665</text>\n<text text-anchor=\"middle\" x=\"195.5\" y=\"-379.8\" font-family=\"Helvetica,sans-Serif\" font-size=\"14.00\">samples = 120</text>\n<text text-anchor=\"middle\" x=\"195.5\" y=\"-364.8\" font-family=\"Helvetica,sans-Serif\" font-size=\"14.00\">value = [39, 37, 44]</text>\n<text text-anchor=\"middle\" x=\"195.5\" y=\"-349.8\" font-family=\"Helvetica,sans-Serif\" font-size=\"14.00\">class = virginica</text>\n</g>\n<!-- 1 -->\n<g id=\"node2\" class=\"node\">\n<title>1</title>\n<polygon fill=\"#e58139\" stroke=\"black\" points=\"175,-298.5 58,-298.5 58,-230.5 175,-230.5 175,-298.5\"/>\n<text text-anchor=\"middle\" x=\"116.5\" y=\"-283.3\" font-family=\"Helvetica,sans-Serif\" font-size=\"14.00\">gini = 0.0</text>\n<text text-anchor=\"middle\" x=\"116.5\" y=\"-268.3\" font-family=\"Helvetica,sans-Serif\" font-size=\"14.00\">samples = 39</text>\n<text text-anchor=\"middle\" x=\"116.5\" y=\"-253.3\" font-family=\"Helvetica,sans-Serif\" font-size=\"14.00\">value = [39, 0, 0]</text>\n<text text-anchor=\"middle\" x=\"116.5\" y=\"-238.3\" font-family=\"Helvetica,sans-Serif\" font-size=\"14.00\">class = setosa</text>\n</g>\n<!-- 0&#45;&gt;1 -->\n<g id=\"edge1\" class=\"edge\">\n<title>0&#45;&gt;1</title>\n<path fill=\"none\" stroke=\"black\" d=\"M168.09,-341.91C160.49,-330.65 152.23,-318.42 144.59,-307.11\"/>\n<polygon fill=\"black\" stroke=\"black\" points=\"147.39,-305 138.89,-298.67 141.59,-308.91 147.39,-305\"/>\n<text text-anchor=\"middle\" x=\"134.14\" y=\"-319.51\" font-family=\"Helvetica,sans-Serif\" font-size=\"14.00\">True</text>\n</g>\n<!-- 2 -->\n<g id=\"node3\" class=\"node\">\n<title>2</title>\n<polygon fill=\"#ebe0fb\" stroke=\"black\" points=\"356,-306 193,-306 193,-223 356,-223 356,-306\"/>\n<text text-anchor=\"middle\" x=\"274.5\" y=\"-290.8\" font-family=\"Helvetica,sans-Serif\" font-size=\"14.00\">petal width (cm) &lt;= 1.65</text>\n<text text-anchor=\"middle\" x=\"274.5\" y=\"-275.8\" font-family=\"Helvetica,sans-Serif\" font-size=\"14.00\">gini = 0.496</text>\n<text text-anchor=\"middle\" x=\"274.5\" y=\"-260.8\" font-family=\"Helvetica,sans-Serif\" font-size=\"14.00\">samples = 81</text>\n<text text-anchor=\"middle\" x=\"274.5\" y=\"-245.8\" font-family=\"Helvetica,sans-Serif\" font-size=\"14.00\">value = [0, 37, 44]</text>\n<text text-anchor=\"middle\" x=\"274.5\" y=\"-230.8\" font-family=\"Helvetica,sans-Serif\" font-size=\"14.00\">class = virginica</text>\n</g>\n<!-- 0&#45;&gt;2 -->\n<g id=\"edge2\" class=\"edge\">\n<title>0&#45;&gt;2</title>\n<path fill=\"none\" stroke=\"black\" d=\"M222.91,-341.91C228.91,-333.01 235.33,-323.51 241.53,-314.33\"/>\n<polygon fill=\"black\" stroke=\"black\" points=\"244.44,-316.27 247.14,-306.02 238.64,-312.35 244.44,-316.27\"/>\n<text text-anchor=\"middle\" x=\"251.9\" y=\"-326.86\" font-family=\"Helvetica,sans-Serif\" font-size=\"14.00\">False</text>\n</g>\n<!-- 3 -->\n<g id=\"node4\" class=\"node\">\n<title>3</title>\n<polygon fill=\"#4fe88f\" stroke=\"black\" points=\"265.5,-187 97.5,-187 97.5,-104 265.5,-104 265.5,-187\"/>\n<text text-anchor=\"middle\" x=\"181.5\" y=\"-171.8\" font-family=\"Helvetica,sans-Serif\" font-size=\"14.00\">petal length (cm) &lt;= 4.95</text>\n<text text-anchor=\"middle\" x=\"181.5\" y=\"-156.8\" font-family=\"Helvetica,sans-Serif\" font-size=\"14.00\">gini = 0.18</text>\n<text text-anchor=\"middle\" x=\"181.5\" y=\"-141.8\" font-family=\"Helvetica,sans-Serif\" font-size=\"14.00\">samples = 40</text>\n<text text-anchor=\"middle\" x=\"181.5\" y=\"-126.8\" font-family=\"Helvetica,sans-Serif\" font-size=\"14.00\">value = [0, 36, 4]</text>\n<text text-anchor=\"middle\" x=\"181.5\" y=\"-111.8\" font-family=\"Helvetica,sans-Serif\" font-size=\"14.00\">class = versicolor</text>\n</g>\n<!-- 2&#45;&gt;3 -->\n<g id=\"edge3\" class=\"edge\">\n<title>2&#45;&gt;3</title>\n<path fill=\"none\" stroke=\"black\" d=\"M242.23,-222.91C235.09,-213.92 227.46,-204.32 220.09,-195.05\"/>\n<polygon fill=\"black\" stroke=\"black\" points=\"222.67,-192.67 213.71,-187.02 217.19,-197.03 222.67,-192.67\"/>\n</g>\n<!-- 6 -->\n<g id=\"node7\" class=\"node\">\n<title>6</title>\n<polygon fill=\"#843ee6\" stroke=\"black\" points=\"451.5,-187 283.5,-187 283.5,-104 451.5,-104 451.5,-187\"/>\n<text text-anchor=\"middle\" x=\"367.5\" y=\"-171.8\" font-family=\"Helvetica,sans-Serif\" font-size=\"14.00\">petal length (cm) &lt;= 4.85</text>\n<text text-anchor=\"middle\" x=\"367.5\" y=\"-156.8\" font-family=\"Helvetica,sans-Serif\" font-size=\"14.00\">gini = 0.048</text>\n<text text-anchor=\"middle\" x=\"367.5\" y=\"-141.8\" font-family=\"Helvetica,sans-Serif\" font-size=\"14.00\">samples = 41</text>\n<text text-anchor=\"middle\" x=\"367.5\" y=\"-126.8\" font-family=\"Helvetica,sans-Serif\" font-size=\"14.00\">value = [0, 1, 40]</text>\n<text text-anchor=\"middle\" x=\"367.5\" y=\"-111.8\" font-family=\"Helvetica,sans-Serif\" font-size=\"14.00\">class = virginica</text>\n</g>\n<!-- 2&#45;&gt;6 -->\n<g id=\"edge6\" class=\"edge\">\n<title>2&#45;&gt;6</title>\n<path fill=\"none\" stroke=\"black\" d=\"M306.77,-222.91C313.91,-213.92 321.54,-204.32 328.91,-195.05\"/>\n<polygon fill=\"black\" stroke=\"black\" points=\"331.81,-197.03 335.29,-187.02 326.33,-192.67 331.81,-197.03\"/>\n</g>\n<!-- 4 -->\n<g id=\"node5\" class=\"node\">\n<title>4</title>\n<polygon fill=\"#39e581\" stroke=\"black\" points=\"121,-68 0,-68 0,0 121,0 121,-68\"/>\n<text text-anchor=\"middle\" x=\"60.5\" y=\"-52.8\" font-family=\"Helvetica,sans-Serif\" font-size=\"14.00\">gini = 0.0</text>\n<text text-anchor=\"middle\" x=\"60.5\" y=\"-37.8\" font-family=\"Helvetica,sans-Serif\" font-size=\"14.00\">samples = 35</text>\n<text text-anchor=\"middle\" x=\"60.5\" y=\"-22.8\" font-family=\"Helvetica,sans-Serif\" font-size=\"14.00\">value = [0, 35, 0]</text>\n<text text-anchor=\"middle\" x=\"60.5\" y=\"-7.8\" font-family=\"Helvetica,sans-Serif\" font-size=\"14.00\">class = versicolor</text>\n</g>\n<!-- 3&#45;&gt;4 -->\n<g id=\"edge4\" class=\"edge\">\n<title>3&#45;&gt;4</title>\n<path fill=\"none\" stroke=\"black\" d=\"M136.44,-103.73C126.16,-94.42 115.25,-84.54 104.99,-75.26\"/>\n<polygon fill=\"black\" stroke=\"black\" points=\"107.06,-72.41 97.3,-68.3 102.36,-77.6 107.06,-72.41\"/>\n</g>\n<!-- 5 -->\n<g id=\"node6\" class=\"node\">\n<title>5</title>\n<polygon fill=\"#a06aec\" stroke=\"black\" points=\"252,-68 139,-68 139,0 252,0 252,-68\"/>\n<text text-anchor=\"middle\" x=\"195.5\" y=\"-52.8\" font-family=\"Helvetica,sans-Serif\" font-size=\"14.00\">gini = 0.32</text>\n<text text-anchor=\"middle\" x=\"195.5\" y=\"-37.8\" font-family=\"Helvetica,sans-Serif\" font-size=\"14.00\">samples = 5</text>\n<text text-anchor=\"middle\" x=\"195.5\" y=\"-22.8\" font-family=\"Helvetica,sans-Serif\" font-size=\"14.00\">value = [0, 1, 4]</text>\n<text text-anchor=\"middle\" x=\"195.5\" y=\"-7.8\" font-family=\"Helvetica,sans-Serif\" font-size=\"14.00\">class = virginica</text>\n</g>\n<!-- 3&#45;&gt;5 -->\n<g id=\"edge5\" class=\"edge\">\n<title>3&#45;&gt;5</title>\n<path fill=\"none\" stroke=\"black\" d=\"M186.71,-103.73C187.77,-95.43 188.89,-86.67 189.97,-78.28\"/>\n<polygon fill=\"black\" stroke=\"black\" points=\"193.45,-78.66 191.24,-68.3 186.5,-77.77 193.45,-78.66\"/>\n</g>\n<!-- 7 -->\n<g id=\"node8\" class=\"node\">\n<title>7</title>\n<polygon fill=\"#ab7bee\" stroke=\"black\" points=\"410,-68 297,-68 297,0 410,0 410,-68\"/>\n<text text-anchor=\"middle\" x=\"353.5\" y=\"-52.8\" font-family=\"Helvetica,sans-Serif\" font-size=\"14.00\">gini = 0.375</text>\n<text text-anchor=\"middle\" x=\"353.5\" y=\"-37.8\" font-family=\"Helvetica,sans-Serif\" font-size=\"14.00\">samples = 4</text>\n<text text-anchor=\"middle\" x=\"353.5\" y=\"-22.8\" font-family=\"Helvetica,sans-Serif\" font-size=\"14.00\">value = [0, 1, 3]</text>\n<text text-anchor=\"middle\" x=\"353.5\" y=\"-7.8\" font-family=\"Helvetica,sans-Serif\" font-size=\"14.00\">class = virginica</text>\n</g>\n<!-- 6&#45;&gt;7 -->\n<g id=\"edge7\" class=\"edge\">\n<title>6&#45;&gt;7</title>\n<path fill=\"none\" stroke=\"black\" d=\"M362.29,-103.73C361.23,-95.43 360.11,-86.67 359.03,-78.28\"/>\n<polygon fill=\"black\" stroke=\"black\" points=\"362.5,-77.77 357.76,-68.3 355.55,-78.66 362.5,-77.77\"/>\n</g>\n<!-- 8 -->\n<g id=\"node9\" class=\"node\">\n<title>8</title>\n<polygon fill=\"#8139e5\" stroke=\"black\" points=\"545,-68 428,-68 428,0 545,0 545,-68\"/>\n<text text-anchor=\"middle\" x=\"486.5\" y=\"-52.8\" font-family=\"Helvetica,sans-Serif\" font-size=\"14.00\">gini = 0.0</text>\n<text text-anchor=\"middle\" x=\"486.5\" y=\"-37.8\" font-family=\"Helvetica,sans-Serif\" font-size=\"14.00\">samples = 37</text>\n<text text-anchor=\"middle\" x=\"486.5\" y=\"-22.8\" font-family=\"Helvetica,sans-Serif\" font-size=\"14.00\">value = [0, 0, 37]</text>\n<text text-anchor=\"middle\" x=\"486.5\" y=\"-7.8\" font-family=\"Helvetica,sans-Serif\" font-size=\"14.00\">class = virginica</text>\n</g>\n<!-- 6&#45;&gt;8 -->\n<g id=\"edge8\" class=\"edge\">\n<title>6&#45;&gt;8</title>\n<path fill=\"none\" stroke=\"black\" d=\"M411.81,-103.73C421.92,-94.42 432.66,-84.54 442.75,-75.26\"/>\n<polygon fill=\"black\" stroke=\"black\" points=\"445.32,-77.65 450.31,-68.3 440.58,-72.5 445.32,-77.65\"/>\n</g>\n</g>\n</svg>\n",
            "text/plain": [
              "<graphviz.sources.Source at 0x7f440b04b910>"
            ]
          },
          "metadata": {},
          "execution_count": 11
        }
      ],
      "source": [
        "export_graphviz(Decision_Tree_md, out_file=\"tree.dot\", \n",
        "                class_names = iris.target_names, \n",
        "                feature_names = iris.feature_names, \n",
        "                impurity=True, filled=True)\n",
        "\n",
        "with open(\"tree.dot\") as f:\n",
        "    dot_graph = f.read()\n",
        "graphviz.Source(dot_graph)"
      ]
    },
    {
      "cell_type": "markdown",
      "metadata": {
        "id": "25tt5GzEdXQ5"
      },
      "source": [
        "\n",
        "\n",
        "---\n",
        "\n"
      ]
    },
    {
      "cell_type": "code",
      "execution_count": 12,
      "metadata": {
        "id": "4bTlNGKiaTNL",
        "colab": {
          "base_uri": "https://localhost:8080/",
          "height": 74
        },
        "outputId": "6a4a8526-56f6-4dce-86d0-bf1edce2dd7e"
      },
      "outputs": [
        {
          "output_type": "execute_result",
          "data": {
            "text/plain": [
              "DecisionTreeClassifier(min_samples_split=4, random_state=1)"
            ],
            "text/html": [
              "<style>#sk-container-id-2 {color: black;background-color: white;}#sk-container-id-2 pre{padding: 0;}#sk-container-id-2 div.sk-toggleable {background-color: white;}#sk-container-id-2 label.sk-toggleable__label {cursor: pointer;display: block;width: 100%;margin-bottom: 0;padding: 0.3em;box-sizing: border-box;text-align: center;}#sk-container-id-2 label.sk-toggleable__label-arrow:before {content: \"▸\";float: left;margin-right: 0.25em;color: #696969;}#sk-container-id-2 label.sk-toggleable__label-arrow:hover:before {color: black;}#sk-container-id-2 div.sk-estimator:hover label.sk-toggleable__label-arrow:before {color: black;}#sk-container-id-2 div.sk-toggleable__content {max-height: 0;max-width: 0;overflow: hidden;text-align: left;background-color: #f0f8ff;}#sk-container-id-2 div.sk-toggleable__content pre {margin: 0.2em;color: black;border-radius: 0.25em;background-color: #f0f8ff;}#sk-container-id-2 input.sk-toggleable__control:checked~div.sk-toggleable__content {max-height: 200px;max-width: 100%;overflow: auto;}#sk-container-id-2 input.sk-toggleable__control:checked~label.sk-toggleable__label-arrow:before {content: \"▾\";}#sk-container-id-2 div.sk-estimator input.sk-toggleable__control:checked~label.sk-toggleable__label {background-color: #d4ebff;}#sk-container-id-2 div.sk-label input.sk-toggleable__control:checked~label.sk-toggleable__label {background-color: #d4ebff;}#sk-container-id-2 input.sk-hidden--visually {border: 0;clip: rect(1px 1px 1px 1px);clip: rect(1px, 1px, 1px, 1px);height: 1px;margin: -1px;overflow: hidden;padding: 0;position: absolute;width: 1px;}#sk-container-id-2 div.sk-estimator {font-family: monospace;background-color: #f0f8ff;border: 1px dotted black;border-radius: 0.25em;box-sizing: border-box;margin-bottom: 0.5em;}#sk-container-id-2 div.sk-estimator:hover {background-color: #d4ebff;}#sk-container-id-2 div.sk-parallel-item::after {content: \"\";width: 100%;border-bottom: 1px solid gray;flex-grow: 1;}#sk-container-id-2 div.sk-label:hover label.sk-toggleable__label {background-color: #d4ebff;}#sk-container-id-2 div.sk-serial::before {content: \"\";position: absolute;border-left: 1px solid gray;box-sizing: border-box;top: 0;bottom: 0;left: 50%;z-index: 0;}#sk-container-id-2 div.sk-serial {display: flex;flex-direction: column;align-items: center;background-color: white;padding-right: 0.2em;padding-left: 0.2em;position: relative;}#sk-container-id-2 div.sk-item {position: relative;z-index: 1;}#sk-container-id-2 div.sk-parallel {display: flex;align-items: stretch;justify-content: center;background-color: white;position: relative;}#sk-container-id-2 div.sk-item::before, #sk-container-id-2 div.sk-parallel-item::before {content: \"\";position: absolute;border-left: 1px solid gray;box-sizing: border-box;top: 0;bottom: 0;left: 50%;z-index: -1;}#sk-container-id-2 div.sk-parallel-item {display: flex;flex-direction: column;z-index: 1;position: relative;background-color: white;}#sk-container-id-2 div.sk-parallel-item:first-child::after {align-self: flex-end;width: 50%;}#sk-container-id-2 div.sk-parallel-item:last-child::after {align-self: flex-start;width: 50%;}#sk-container-id-2 div.sk-parallel-item:only-child::after {width: 0;}#sk-container-id-2 div.sk-dashed-wrapped {border: 1px dashed gray;margin: 0 0.4em 0.5em 0.4em;box-sizing: border-box;padding-bottom: 0.4em;background-color: white;}#sk-container-id-2 div.sk-label label {font-family: monospace;font-weight: bold;display: inline-block;line-height: 1.2em;}#sk-container-id-2 div.sk-label-container {text-align: center;}#sk-container-id-2 div.sk-container {/* jupyter's `normalize.less` sets `[hidden] { display: none; }` but bootstrap.min.css set `[hidden] { display: none !important; }` so we also need the `!important` here to be able to override the default hidden behavior on the sphinx rendered scikit-learn.org. See: https://github.com/scikit-learn/scikit-learn/issues/21755 */display: inline-block !important;position: relative;}#sk-container-id-2 div.sk-text-repr-fallback {display: none;}</style><div id=\"sk-container-id-2\" class=\"sk-top-container\"><div class=\"sk-text-repr-fallback\"><pre>DecisionTreeClassifier(min_samples_split=4, random_state=1)</pre><b>In a Jupyter environment, please rerun this cell to show the HTML representation or trust the notebook. <br />On GitHub, the HTML representation is unable to render, please try loading this page with nbviewer.org.</b></div><div class=\"sk-container\" hidden><div class=\"sk-item\"><div class=\"sk-estimator sk-toggleable\"><input class=\"sk-toggleable__control sk-hidden--visually\" id=\"sk-estimator-id-2\" type=\"checkbox\" checked><label for=\"sk-estimator-id-2\" class=\"sk-toggleable__label sk-toggleable__label-arrow\">DecisionTreeClassifier</label><div class=\"sk-toggleable__content\"><pre>DecisionTreeClassifier(min_samples_split=4, random_state=1)</pre></div></div></div></div></div>"
            ]
          },
          "metadata": {},
          "execution_count": 12
        }
      ],
      "source": [
        "Decision_Tree_ms = DecisionTreeClassifier(min_samples_split=4 ,random_state=1) \n",
        "Decision_Tree_ms.fit(X_train, Y_train)"
      ]
    },
    {
      "cell_type": "code",
      "execution_count": 13,
      "metadata": {
        "id": "3wj_tDLNabsM",
        "colab": {
          "base_uri": "https://localhost:8080/",
          "height": 756
        },
        "outputId": "2e5be239-1df5-4290-ef68-fee63a9419fa"
      },
      "outputs": [
        {
          "output_type": "execute_result",
          "data": {
            "image/svg+xml": "<?xml version=\"1.0\" encoding=\"UTF-8\" standalone=\"no\"?>\n<!DOCTYPE svg PUBLIC \"-//W3C//DTD SVG 1.1//EN\"\n \"http://www.w3.org/Graphics/SVG/1.1/DTD/svg11.dtd\">\n<!-- Generated by graphviz version 2.43.0 (0)\n -->\n<!-- Title: Tree Pages: 1 -->\n<svg width=\"631pt\" height=\"552pt\"\n viewBox=\"0.00 0.00 631.00 552.00\" xmlns=\"http://www.w3.org/2000/svg\" xmlns:xlink=\"http://www.w3.org/1999/xlink\">\n<g id=\"graph0\" class=\"graph\" transform=\"scale(1 1) rotate(0) translate(4 548)\">\n<title>Tree</title>\n<polygon fill=\"white\" stroke=\"transparent\" points=\"-4,4 -4,-548 627,-548 627,4 -4,4\"/>\n<!-- 0 -->\n<g id=\"node1\" class=\"node\">\n<title>0</title>\n<polygon fill=\"#f7f3fd\" stroke=\"black\" points=\"315,-544 160,-544 160,-461 315,-461 315,-544\"/>\n<text text-anchor=\"middle\" x=\"237.5\" y=\"-528.8\" font-family=\"Helvetica,sans-Serif\" font-size=\"14.00\">petal width (cm) &lt;= 0.8</text>\n<text text-anchor=\"middle\" x=\"237.5\" y=\"-513.8\" font-family=\"Helvetica,sans-Serif\" font-size=\"14.00\">gini = 0.665</text>\n<text text-anchor=\"middle\" x=\"237.5\" y=\"-498.8\" font-family=\"Helvetica,sans-Serif\" font-size=\"14.00\">samples = 120</text>\n<text text-anchor=\"middle\" x=\"237.5\" y=\"-483.8\" font-family=\"Helvetica,sans-Serif\" font-size=\"14.00\">value = [39, 37, 44]</text>\n<text text-anchor=\"middle\" x=\"237.5\" y=\"-468.8\" font-family=\"Helvetica,sans-Serif\" font-size=\"14.00\">class = virginica</text>\n</g>\n<!-- 1 -->\n<g id=\"node2\" class=\"node\">\n<title>1</title>\n<polygon fill=\"#e58139\" stroke=\"black\" points=\"217,-417.5 100,-417.5 100,-349.5 217,-349.5 217,-417.5\"/>\n<text text-anchor=\"middle\" x=\"158.5\" y=\"-402.3\" font-family=\"Helvetica,sans-Serif\" font-size=\"14.00\">gini = 0.0</text>\n<text text-anchor=\"middle\" x=\"158.5\" y=\"-387.3\" font-family=\"Helvetica,sans-Serif\" font-size=\"14.00\">samples = 39</text>\n<text text-anchor=\"middle\" x=\"158.5\" y=\"-372.3\" font-family=\"Helvetica,sans-Serif\" font-size=\"14.00\">value = [39, 0, 0]</text>\n<text text-anchor=\"middle\" x=\"158.5\" y=\"-357.3\" font-family=\"Helvetica,sans-Serif\" font-size=\"14.00\">class = setosa</text>\n</g>\n<!-- 0&#45;&gt;1 -->\n<g id=\"edge1\" class=\"edge\">\n<title>0&#45;&gt;1</title>\n<path fill=\"none\" stroke=\"black\" d=\"M210.09,-460.91C202.49,-449.65 194.23,-437.42 186.59,-426.11\"/>\n<polygon fill=\"black\" stroke=\"black\" points=\"189.39,-424 180.89,-417.67 183.59,-427.91 189.39,-424\"/>\n<text text-anchor=\"middle\" x=\"176.14\" y=\"-438.51\" font-family=\"Helvetica,sans-Serif\" font-size=\"14.00\">True</text>\n</g>\n<!-- 2 -->\n<g id=\"node3\" class=\"node\">\n<title>2</title>\n<polygon fill=\"#ebe0fb\" stroke=\"black\" points=\"398,-425 235,-425 235,-342 398,-342 398,-425\"/>\n<text text-anchor=\"middle\" x=\"316.5\" y=\"-409.8\" font-family=\"Helvetica,sans-Serif\" font-size=\"14.00\">petal width (cm) &lt;= 1.65</text>\n<text text-anchor=\"middle\" x=\"316.5\" y=\"-394.8\" font-family=\"Helvetica,sans-Serif\" font-size=\"14.00\">gini = 0.496</text>\n<text text-anchor=\"middle\" x=\"316.5\" y=\"-379.8\" font-family=\"Helvetica,sans-Serif\" font-size=\"14.00\">samples = 81</text>\n<text text-anchor=\"middle\" x=\"316.5\" y=\"-364.8\" font-family=\"Helvetica,sans-Serif\" font-size=\"14.00\">value = [0, 37, 44]</text>\n<text text-anchor=\"middle\" x=\"316.5\" y=\"-349.8\" font-family=\"Helvetica,sans-Serif\" font-size=\"14.00\">class = virginica</text>\n</g>\n<!-- 0&#45;&gt;2 -->\n<g id=\"edge2\" class=\"edge\">\n<title>0&#45;&gt;2</title>\n<path fill=\"none\" stroke=\"black\" d=\"M264.91,-460.91C270.91,-452.01 277.33,-442.51 283.53,-433.33\"/>\n<polygon fill=\"black\" stroke=\"black\" points=\"286.44,-435.27 289.14,-425.02 280.64,-431.35 286.44,-435.27\"/>\n<text text-anchor=\"middle\" x=\"293.9\" y=\"-445.86\" font-family=\"Helvetica,sans-Serif\" font-size=\"14.00\">False</text>\n</g>\n<!-- 3 -->\n<g id=\"node4\" class=\"node\">\n<title>3</title>\n<polygon fill=\"#4fe88f\" stroke=\"black\" points=\"307.5,-306 139.5,-306 139.5,-223 307.5,-223 307.5,-306\"/>\n<text text-anchor=\"middle\" x=\"223.5\" y=\"-290.8\" font-family=\"Helvetica,sans-Serif\" font-size=\"14.00\">petal length (cm) &lt;= 4.95</text>\n<text text-anchor=\"middle\" x=\"223.5\" y=\"-275.8\" font-family=\"Helvetica,sans-Serif\" font-size=\"14.00\">gini = 0.18</text>\n<text text-anchor=\"middle\" x=\"223.5\" y=\"-260.8\" font-family=\"Helvetica,sans-Serif\" font-size=\"14.00\">samples = 40</text>\n<text text-anchor=\"middle\" x=\"223.5\" y=\"-245.8\" font-family=\"Helvetica,sans-Serif\" font-size=\"14.00\">value = [0, 36, 4]</text>\n<text text-anchor=\"middle\" x=\"223.5\" y=\"-230.8\" font-family=\"Helvetica,sans-Serif\" font-size=\"14.00\">class = versicolor</text>\n</g>\n<!-- 2&#45;&gt;3 -->\n<g id=\"edge3\" class=\"edge\">\n<title>2&#45;&gt;3</title>\n<path fill=\"none\" stroke=\"black\" d=\"M284.23,-341.91C277.09,-332.92 269.46,-323.32 262.09,-314.05\"/>\n<polygon fill=\"black\" stroke=\"black\" points=\"264.67,-311.67 255.71,-306.02 259.19,-316.03 264.67,-311.67\"/>\n</g>\n<!-- 8 -->\n<g id=\"node9\" class=\"node\">\n<title>8</title>\n<polygon fill=\"#843ee6\" stroke=\"black\" points=\"493.5,-306 325.5,-306 325.5,-223 493.5,-223 493.5,-306\"/>\n<text text-anchor=\"middle\" x=\"409.5\" y=\"-290.8\" font-family=\"Helvetica,sans-Serif\" font-size=\"14.00\">petal length (cm) &lt;= 4.85</text>\n<text text-anchor=\"middle\" x=\"409.5\" y=\"-275.8\" font-family=\"Helvetica,sans-Serif\" font-size=\"14.00\">gini = 0.048</text>\n<text text-anchor=\"middle\" x=\"409.5\" y=\"-260.8\" font-family=\"Helvetica,sans-Serif\" font-size=\"14.00\">samples = 41</text>\n<text text-anchor=\"middle\" x=\"409.5\" y=\"-245.8\" font-family=\"Helvetica,sans-Serif\" font-size=\"14.00\">value = [0, 1, 40]</text>\n<text text-anchor=\"middle\" x=\"409.5\" y=\"-230.8\" font-family=\"Helvetica,sans-Serif\" font-size=\"14.00\">class = virginica</text>\n</g>\n<!-- 2&#45;&gt;8 -->\n<g id=\"edge8\" class=\"edge\">\n<title>2&#45;&gt;8</title>\n<path fill=\"none\" stroke=\"black\" d=\"M348.77,-341.91C355.91,-332.92 363.54,-323.32 370.91,-314.05\"/>\n<polygon fill=\"black\" stroke=\"black\" points=\"373.81,-316.03 377.29,-306.02 368.33,-311.67 373.81,-316.03\"/>\n</g>\n<!-- 4 -->\n<g id=\"node5\" class=\"node\">\n<title>4</title>\n<polygon fill=\"#39e581\" stroke=\"black\" points=\"121,-179.5 0,-179.5 0,-111.5 121,-111.5 121,-179.5\"/>\n<text text-anchor=\"middle\" x=\"60.5\" y=\"-164.3\" font-family=\"Helvetica,sans-Serif\" font-size=\"14.00\">gini = 0.0</text>\n<text text-anchor=\"middle\" x=\"60.5\" y=\"-149.3\" font-family=\"Helvetica,sans-Serif\" font-size=\"14.00\">samples = 35</text>\n<text text-anchor=\"middle\" x=\"60.5\" y=\"-134.3\" font-family=\"Helvetica,sans-Serif\" font-size=\"14.00\">value = [0, 35, 0]</text>\n<text text-anchor=\"middle\" x=\"60.5\" y=\"-119.3\" font-family=\"Helvetica,sans-Serif\" font-size=\"14.00\">class = versicolor</text>\n</g>\n<!-- 3&#45;&gt;4 -->\n<g id=\"edge4\" class=\"edge\">\n<title>3&#45;&gt;4</title>\n<path fill=\"none\" stroke=\"black\" d=\"M166.95,-222.91C150.19,-210.88 131.88,-197.73 115.24,-185.79\"/>\n<polygon fill=\"black\" stroke=\"black\" points=\"116.87,-182.65 106.71,-179.67 112.79,-188.34 116.87,-182.65\"/>\n</g>\n<!-- 5 -->\n<g id=\"node6\" class=\"node\">\n<title>5</title>\n<polygon fill=\"#a06aec\" stroke=\"black\" points=\"310,-187 139,-187 139,-104 310,-104 310,-187\"/>\n<text text-anchor=\"middle\" x=\"224.5\" y=\"-171.8\" font-family=\"Helvetica,sans-Serif\" font-size=\"14.00\">sepal length (cm) &lt;= 6.05</text>\n<text text-anchor=\"middle\" x=\"224.5\" y=\"-156.8\" font-family=\"Helvetica,sans-Serif\" font-size=\"14.00\">gini = 0.32</text>\n<text text-anchor=\"middle\" x=\"224.5\" y=\"-141.8\" font-family=\"Helvetica,sans-Serif\" font-size=\"14.00\">samples = 5</text>\n<text text-anchor=\"middle\" x=\"224.5\" y=\"-126.8\" font-family=\"Helvetica,sans-Serif\" font-size=\"14.00\">value = [0, 1, 4]</text>\n<text text-anchor=\"middle\" x=\"224.5\" y=\"-111.8\" font-family=\"Helvetica,sans-Serif\" font-size=\"14.00\">class = virginica</text>\n</g>\n<!-- 3&#45;&gt;5 -->\n<g id=\"edge5\" class=\"edge\">\n<title>3&#45;&gt;5</title>\n<path fill=\"none\" stroke=\"black\" d=\"M223.85,-222.91C223.92,-214.65 223.99,-205.86 224.07,-197.3\"/>\n<polygon fill=\"black\" stroke=\"black\" points=\"227.57,-197.05 224.15,-187.02 220.57,-196.99 227.57,-197.05\"/>\n</g>\n<!-- 6 -->\n<g id=\"node7\" class=\"node\">\n<title>6</title>\n<polygon fill=\"#ffffff\" stroke=\"black\" points=\"163,-68 42,-68 42,0 163,0 163,-68\"/>\n<text text-anchor=\"middle\" x=\"102.5\" y=\"-52.8\" font-family=\"Helvetica,sans-Serif\" font-size=\"14.00\">gini = 0.5</text>\n<text text-anchor=\"middle\" x=\"102.5\" y=\"-37.8\" font-family=\"Helvetica,sans-Serif\" font-size=\"14.00\">samples = 2</text>\n<text text-anchor=\"middle\" x=\"102.5\" y=\"-22.8\" font-family=\"Helvetica,sans-Serif\" font-size=\"14.00\">value = [0, 1, 1]</text>\n<text text-anchor=\"middle\" x=\"102.5\" y=\"-7.8\" font-family=\"Helvetica,sans-Serif\" font-size=\"14.00\">class = versicolor</text>\n</g>\n<!-- 5&#45;&gt;6 -->\n<g id=\"edge6\" class=\"edge\">\n<title>5&#45;&gt;6</title>\n<path fill=\"none\" stroke=\"black\" d=\"M179.07,-103.73C168.6,-94.33 157.48,-84.35 147.05,-74.99\"/>\n<polygon fill=\"black\" stroke=\"black\" points=\"149.38,-72.37 139.6,-68.3 144.71,-77.58 149.38,-72.37\"/>\n</g>\n<!-- 7 -->\n<g id=\"node8\" class=\"node\">\n<title>7</title>\n<polygon fill=\"#8139e5\" stroke=\"black\" points=\"294,-68 181,-68 181,0 294,0 294,-68\"/>\n<text text-anchor=\"middle\" x=\"237.5\" y=\"-52.8\" font-family=\"Helvetica,sans-Serif\" font-size=\"14.00\">gini = 0.0</text>\n<text text-anchor=\"middle\" x=\"237.5\" y=\"-37.8\" font-family=\"Helvetica,sans-Serif\" font-size=\"14.00\">samples = 3</text>\n<text text-anchor=\"middle\" x=\"237.5\" y=\"-22.8\" font-family=\"Helvetica,sans-Serif\" font-size=\"14.00\">value = [0, 0, 3]</text>\n<text text-anchor=\"middle\" x=\"237.5\" y=\"-7.8\" font-family=\"Helvetica,sans-Serif\" font-size=\"14.00\">class = virginica</text>\n</g>\n<!-- 5&#45;&gt;7 -->\n<g id=\"edge7\" class=\"edge\">\n<title>5&#45;&gt;7</title>\n<path fill=\"none\" stroke=\"black\" d=\"M229.34,-103.73C230.33,-95.43 231.37,-86.67 232.36,-78.28\"/>\n<polygon fill=\"black\" stroke=\"black\" points=\"235.84,-78.64 233.55,-68.3 228.89,-77.82 235.84,-78.64\"/>\n</g>\n<!-- 9 -->\n<g id=\"node10\" class=\"node\">\n<title>9</title>\n<polygon fill=\"#ab7bee\" stroke=\"black\" points=\"487.5,-187 329.5,-187 329.5,-104 487.5,-104 487.5,-187\"/>\n<text text-anchor=\"middle\" x=\"408.5\" y=\"-171.8\" font-family=\"Helvetica,sans-Serif\" font-size=\"14.00\">sepal width (cm) &lt;= 3.1</text>\n<text text-anchor=\"middle\" x=\"408.5\" y=\"-156.8\" font-family=\"Helvetica,sans-Serif\" font-size=\"14.00\">gini = 0.375</text>\n<text text-anchor=\"middle\" x=\"408.5\" y=\"-141.8\" font-family=\"Helvetica,sans-Serif\" font-size=\"14.00\">samples = 4</text>\n<text text-anchor=\"middle\" x=\"408.5\" y=\"-126.8\" font-family=\"Helvetica,sans-Serif\" font-size=\"14.00\">value = [0, 1, 3]</text>\n<text text-anchor=\"middle\" x=\"408.5\" y=\"-111.8\" font-family=\"Helvetica,sans-Serif\" font-size=\"14.00\">class = virginica</text>\n</g>\n<!-- 8&#45;&gt;9 -->\n<g id=\"edge9\" class=\"edge\">\n<title>8&#45;&gt;9</title>\n<path fill=\"none\" stroke=\"black\" d=\"M409.15,-222.91C409.08,-214.65 409.01,-205.86 408.93,-197.3\"/>\n<polygon fill=\"black\" stroke=\"black\" points=\"412.43,-196.99 408.85,-187.02 405.43,-197.05 412.43,-196.99\"/>\n</g>\n<!-- 12 -->\n<g id=\"node13\" class=\"node\">\n<title>12</title>\n<polygon fill=\"#8139e5\" stroke=\"black\" points=\"623,-179.5 506,-179.5 506,-111.5 623,-111.5 623,-179.5\"/>\n<text text-anchor=\"middle\" x=\"564.5\" y=\"-164.3\" font-family=\"Helvetica,sans-Serif\" font-size=\"14.00\">gini = 0.0</text>\n<text text-anchor=\"middle\" x=\"564.5\" y=\"-149.3\" font-family=\"Helvetica,sans-Serif\" font-size=\"14.00\">samples = 37</text>\n<text text-anchor=\"middle\" x=\"564.5\" y=\"-134.3\" font-family=\"Helvetica,sans-Serif\" font-size=\"14.00\">value = [0, 0, 37]</text>\n<text text-anchor=\"middle\" x=\"564.5\" y=\"-119.3\" font-family=\"Helvetica,sans-Serif\" font-size=\"14.00\">class = virginica</text>\n</g>\n<!-- 8&#45;&gt;12 -->\n<g id=\"edge12\" class=\"edge\">\n<title>8&#45;&gt;12</title>\n<path fill=\"none\" stroke=\"black\" d=\"M463.28,-222.91C479.21,-210.88 496.63,-197.73 512.45,-185.79\"/>\n<polygon fill=\"black\" stroke=\"black\" points=\"514.69,-188.49 520.56,-179.67 510.47,-182.9 514.69,-188.49\"/>\n</g>\n<!-- 10 -->\n<g id=\"node11\" class=\"node\">\n<title>10</title>\n<polygon fill=\"#8139e5\" stroke=\"black\" points=\"452,-68 339,-68 339,0 452,0 452,-68\"/>\n<text text-anchor=\"middle\" x=\"395.5\" y=\"-52.8\" font-family=\"Helvetica,sans-Serif\" font-size=\"14.00\">gini = 0.0</text>\n<text text-anchor=\"middle\" x=\"395.5\" y=\"-37.8\" font-family=\"Helvetica,sans-Serif\" font-size=\"14.00\">samples = 3</text>\n<text text-anchor=\"middle\" x=\"395.5\" y=\"-22.8\" font-family=\"Helvetica,sans-Serif\" font-size=\"14.00\">value = [0, 0, 3]</text>\n<text text-anchor=\"middle\" x=\"395.5\" y=\"-7.8\" font-family=\"Helvetica,sans-Serif\" font-size=\"14.00\">class = virginica</text>\n</g>\n<!-- 9&#45;&gt;10 -->\n<g id=\"edge10\" class=\"edge\">\n<title>9&#45;&gt;10</title>\n<path fill=\"none\" stroke=\"black\" d=\"M403.66,-103.73C402.67,-95.43 401.63,-86.67 400.64,-78.28\"/>\n<polygon fill=\"black\" stroke=\"black\" points=\"404.11,-77.82 399.45,-68.3 397.16,-78.64 404.11,-77.82\"/>\n</g>\n<!-- 11 -->\n<g id=\"node12\" class=\"node\">\n<title>11</title>\n<polygon fill=\"#39e581\" stroke=\"black\" points=\"591,-68 470,-68 470,0 591,0 591,-68\"/>\n<text text-anchor=\"middle\" x=\"530.5\" y=\"-52.8\" font-family=\"Helvetica,sans-Serif\" font-size=\"14.00\">gini = 0.0</text>\n<text text-anchor=\"middle\" x=\"530.5\" y=\"-37.8\" font-family=\"Helvetica,sans-Serif\" font-size=\"14.00\">samples = 1</text>\n<text text-anchor=\"middle\" x=\"530.5\" y=\"-22.8\" font-family=\"Helvetica,sans-Serif\" font-size=\"14.00\">value = [0, 1, 0]</text>\n<text text-anchor=\"middle\" x=\"530.5\" y=\"-7.8\" font-family=\"Helvetica,sans-Serif\" font-size=\"14.00\">class = versicolor</text>\n</g>\n<!-- 9&#45;&gt;11 -->\n<g id=\"edge11\" class=\"edge\">\n<title>9&#45;&gt;11</title>\n<path fill=\"none\" stroke=\"black\" d=\"M453.93,-103.73C464.4,-94.33 475.52,-84.35 485.95,-74.99\"/>\n<polygon fill=\"black\" stroke=\"black\" points=\"488.29,-77.58 493.4,-68.3 483.62,-72.37 488.29,-77.58\"/>\n</g>\n</g>\n</svg>\n",
            "text/plain": [
              "<graphviz.sources.Source at 0x7f440b04bf70>"
            ]
          },
          "metadata": {},
          "execution_count": 13
        }
      ],
      "source": [
        "export_graphviz(Decision_Tree_ms, out_file=\"tree.dot\", \n",
        "                class_names = iris.target_names, \n",
        "                feature_names = iris.feature_names, \n",
        "                impurity=True, filled=True)\n",
        "\n",
        "with open(\"tree.dot\") as f:\n",
        "    dot_graph = f.read()\n",
        "graphviz.Source(dot_graph)\n",
        "\n",
        "#sample 갯수가 3인 경우 샘플 내 상이한 값이 있어도 더 이상 분할하지 않음"
      ]
    },
    {
      "cell_type": "markdown",
      "metadata": {
        "id": "8YERA_c2daWF"
      },
      "source": [
        "\n",
        "\n",
        "---\n",
        "\n"
      ]
    },
    {
      "cell_type": "code",
      "execution_count": 14,
      "metadata": {
        "id": "KgY5EjcdawM5",
        "colab": {
          "base_uri": "https://localhost:8080/",
          "height": 74
        },
        "outputId": "77b808ae-e1e2-4ec7-81db-d9e48752ed56"
      },
      "outputs": [
        {
          "output_type": "execute_result",
          "data": {
            "text/plain": [
              "DecisionTreeClassifier(min_samples_leaf=4, random_state=1)"
            ],
            "text/html": [
              "<style>#sk-container-id-3 {color: black;background-color: white;}#sk-container-id-3 pre{padding: 0;}#sk-container-id-3 div.sk-toggleable {background-color: white;}#sk-container-id-3 label.sk-toggleable__label {cursor: pointer;display: block;width: 100%;margin-bottom: 0;padding: 0.3em;box-sizing: border-box;text-align: center;}#sk-container-id-3 label.sk-toggleable__label-arrow:before {content: \"▸\";float: left;margin-right: 0.25em;color: #696969;}#sk-container-id-3 label.sk-toggleable__label-arrow:hover:before {color: black;}#sk-container-id-3 div.sk-estimator:hover label.sk-toggleable__label-arrow:before {color: black;}#sk-container-id-3 div.sk-toggleable__content {max-height: 0;max-width: 0;overflow: hidden;text-align: left;background-color: #f0f8ff;}#sk-container-id-3 div.sk-toggleable__content pre {margin: 0.2em;color: black;border-radius: 0.25em;background-color: #f0f8ff;}#sk-container-id-3 input.sk-toggleable__control:checked~div.sk-toggleable__content {max-height: 200px;max-width: 100%;overflow: auto;}#sk-container-id-3 input.sk-toggleable__control:checked~label.sk-toggleable__label-arrow:before {content: \"▾\";}#sk-container-id-3 div.sk-estimator input.sk-toggleable__control:checked~label.sk-toggleable__label {background-color: #d4ebff;}#sk-container-id-3 div.sk-label input.sk-toggleable__control:checked~label.sk-toggleable__label {background-color: #d4ebff;}#sk-container-id-3 input.sk-hidden--visually {border: 0;clip: rect(1px 1px 1px 1px);clip: rect(1px, 1px, 1px, 1px);height: 1px;margin: -1px;overflow: hidden;padding: 0;position: absolute;width: 1px;}#sk-container-id-3 div.sk-estimator {font-family: monospace;background-color: #f0f8ff;border: 1px dotted black;border-radius: 0.25em;box-sizing: border-box;margin-bottom: 0.5em;}#sk-container-id-3 div.sk-estimator:hover {background-color: #d4ebff;}#sk-container-id-3 div.sk-parallel-item::after {content: \"\";width: 100%;border-bottom: 1px solid gray;flex-grow: 1;}#sk-container-id-3 div.sk-label:hover label.sk-toggleable__label {background-color: #d4ebff;}#sk-container-id-3 div.sk-serial::before {content: \"\";position: absolute;border-left: 1px solid gray;box-sizing: border-box;top: 0;bottom: 0;left: 50%;z-index: 0;}#sk-container-id-3 div.sk-serial {display: flex;flex-direction: column;align-items: center;background-color: white;padding-right: 0.2em;padding-left: 0.2em;position: relative;}#sk-container-id-3 div.sk-item {position: relative;z-index: 1;}#sk-container-id-3 div.sk-parallel {display: flex;align-items: stretch;justify-content: center;background-color: white;position: relative;}#sk-container-id-3 div.sk-item::before, #sk-container-id-3 div.sk-parallel-item::before {content: \"\";position: absolute;border-left: 1px solid gray;box-sizing: border-box;top: 0;bottom: 0;left: 50%;z-index: -1;}#sk-container-id-3 div.sk-parallel-item {display: flex;flex-direction: column;z-index: 1;position: relative;background-color: white;}#sk-container-id-3 div.sk-parallel-item:first-child::after {align-self: flex-end;width: 50%;}#sk-container-id-3 div.sk-parallel-item:last-child::after {align-self: flex-start;width: 50%;}#sk-container-id-3 div.sk-parallel-item:only-child::after {width: 0;}#sk-container-id-3 div.sk-dashed-wrapped {border: 1px dashed gray;margin: 0 0.4em 0.5em 0.4em;box-sizing: border-box;padding-bottom: 0.4em;background-color: white;}#sk-container-id-3 div.sk-label label {font-family: monospace;font-weight: bold;display: inline-block;line-height: 1.2em;}#sk-container-id-3 div.sk-label-container {text-align: center;}#sk-container-id-3 div.sk-container {/* jupyter's `normalize.less` sets `[hidden] { display: none; }` but bootstrap.min.css set `[hidden] { display: none !important; }` so we also need the `!important` here to be able to override the default hidden behavior on the sphinx rendered scikit-learn.org. See: https://github.com/scikit-learn/scikit-learn/issues/21755 */display: inline-block !important;position: relative;}#sk-container-id-3 div.sk-text-repr-fallback {display: none;}</style><div id=\"sk-container-id-3\" class=\"sk-top-container\"><div class=\"sk-text-repr-fallback\"><pre>DecisionTreeClassifier(min_samples_leaf=4, random_state=1)</pre><b>In a Jupyter environment, please rerun this cell to show the HTML representation or trust the notebook. <br />On GitHub, the HTML representation is unable to render, please try loading this page with nbviewer.org.</b></div><div class=\"sk-container\" hidden><div class=\"sk-item\"><div class=\"sk-estimator sk-toggleable\"><input class=\"sk-toggleable__control sk-hidden--visually\" id=\"sk-estimator-id-3\" type=\"checkbox\" checked><label for=\"sk-estimator-id-3\" class=\"sk-toggleable__label sk-toggleable__label-arrow\">DecisionTreeClassifier</label><div class=\"sk-toggleable__content\"><pre>DecisionTreeClassifier(min_samples_leaf=4, random_state=1)</pre></div></div></div></div></div>"
            ]
          },
          "metadata": {},
          "execution_count": 14
        }
      ],
      "source": [
        "Decision_Tree_ml = DecisionTreeClassifier(min_samples_leaf=4 ,random_state=1) #leaf node가 될 수 있는 샘플 데이터의 최소 갯수 지정\n",
        "Decision_Tree_ml.fit(X_train, Y_train)"
      ]
    },
    {
      "cell_type": "code",
      "execution_count": 15,
      "metadata": {
        "id": "v0cVApQna20Q",
        "colab": {
          "base_uri": "https://localhost:8080/",
          "height": 597
        },
        "outputId": "b040ac13-1b75-4164-f36f-e10f58e7fc68"
      },
      "outputs": [
        {
          "output_type": "execute_result",
          "data": {
            "image/svg+xml": "<?xml version=\"1.0\" encoding=\"UTF-8\" standalone=\"no\"?>\n<!DOCTYPE svg PUBLIC \"-//W3C//DTD SVG 1.1//EN\"\n \"http://www.w3.org/Graphics/SVG/1.1/DTD/svg11.dtd\">\n<!-- Generated by graphviz version 2.43.0 (0)\n -->\n<!-- Title: Tree Pages: 1 -->\n<svg width=\"553pt\" height=\"433pt\"\n viewBox=\"0.00 0.00 553.00 433.00\" xmlns=\"http://www.w3.org/2000/svg\" xmlns:xlink=\"http://www.w3.org/1999/xlink\">\n<g id=\"graph0\" class=\"graph\" transform=\"scale(1 1) rotate(0) translate(4 429)\">\n<title>Tree</title>\n<polygon fill=\"white\" stroke=\"transparent\" points=\"-4,4 -4,-429 549,-429 549,4 -4,4\"/>\n<!-- 0 -->\n<g id=\"node1\" class=\"node\">\n<title>0</title>\n<polygon fill=\"#f7f3fd\" stroke=\"black\" points=\"273,-425 118,-425 118,-342 273,-342 273,-425\"/>\n<text text-anchor=\"middle\" x=\"195.5\" y=\"-409.8\" font-family=\"Helvetica,sans-Serif\" font-size=\"14.00\">petal width (cm) &lt;= 0.8</text>\n<text text-anchor=\"middle\" x=\"195.5\" y=\"-394.8\" font-family=\"Helvetica,sans-Serif\" font-size=\"14.00\">gini = 0.665</text>\n<text text-anchor=\"middle\" x=\"195.5\" y=\"-379.8\" font-family=\"Helvetica,sans-Serif\" font-size=\"14.00\">samples = 120</text>\n<text text-anchor=\"middle\" x=\"195.5\" y=\"-364.8\" font-family=\"Helvetica,sans-Serif\" font-size=\"14.00\">value = [39, 37, 44]</text>\n<text text-anchor=\"middle\" x=\"195.5\" y=\"-349.8\" font-family=\"Helvetica,sans-Serif\" font-size=\"14.00\">class = virginica</text>\n</g>\n<!-- 1 -->\n<g id=\"node2\" class=\"node\">\n<title>1</title>\n<polygon fill=\"#e58139\" stroke=\"black\" points=\"175,-298.5 58,-298.5 58,-230.5 175,-230.5 175,-298.5\"/>\n<text text-anchor=\"middle\" x=\"116.5\" y=\"-283.3\" font-family=\"Helvetica,sans-Serif\" font-size=\"14.00\">gini = 0.0</text>\n<text text-anchor=\"middle\" x=\"116.5\" y=\"-268.3\" font-family=\"Helvetica,sans-Serif\" font-size=\"14.00\">samples = 39</text>\n<text text-anchor=\"middle\" x=\"116.5\" y=\"-253.3\" font-family=\"Helvetica,sans-Serif\" font-size=\"14.00\">value = [39, 0, 0]</text>\n<text text-anchor=\"middle\" x=\"116.5\" y=\"-238.3\" font-family=\"Helvetica,sans-Serif\" font-size=\"14.00\">class = setosa</text>\n</g>\n<!-- 0&#45;&gt;1 -->\n<g id=\"edge1\" class=\"edge\">\n<title>0&#45;&gt;1</title>\n<path fill=\"none\" stroke=\"black\" d=\"M168.09,-341.91C160.49,-330.65 152.23,-318.42 144.59,-307.11\"/>\n<polygon fill=\"black\" stroke=\"black\" points=\"147.39,-305 138.89,-298.67 141.59,-308.91 147.39,-305\"/>\n<text text-anchor=\"middle\" x=\"134.14\" y=\"-319.51\" font-family=\"Helvetica,sans-Serif\" font-size=\"14.00\">True</text>\n</g>\n<!-- 2 -->\n<g id=\"node3\" class=\"node\">\n<title>2</title>\n<polygon fill=\"#ebe0fb\" stroke=\"black\" points=\"356,-306 193,-306 193,-223 356,-223 356,-306\"/>\n<text text-anchor=\"middle\" x=\"274.5\" y=\"-290.8\" font-family=\"Helvetica,sans-Serif\" font-size=\"14.00\">petal width (cm) &lt;= 1.65</text>\n<text text-anchor=\"middle\" x=\"274.5\" y=\"-275.8\" font-family=\"Helvetica,sans-Serif\" font-size=\"14.00\">gini = 0.496</text>\n<text text-anchor=\"middle\" x=\"274.5\" y=\"-260.8\" font-family=\"Helvetica,sans-Serif\" font-size=\"14.00\">samples = 81</text>\n<text text-anchor=\"middle\" x=\"274.5\" y=\"-245.8\" font-family=\"Helvetica,sans-Serif\" font-size=\"14.00\">value = [0, 37, 44]</text>\n<text text-anchor=\"middle\" x=\"274.5\" y=\"-230.8\" font-family=\"Helvetica,sans-Serif\" font-size=\"14.00\">class = virginica</text>\n</g>\n<!-- 0&#45;&gt;2 -->\n<g id=\"edge2\" class=\"edge\">\n<title>0&#45;&gt;2</title>\n<path fill=\"none\" stroke=\"black\" d=\"M222.91,-341.91C228.91,-333.01 235.33,-323.51 241.53,-314.33\"/>\n<polygon fill=\"black\" stroke=\"black\" points=\"244.44,-316.27 247.14,-306.02 238.64,-312.35 244.44,-316.27\"/>\n<text text-anchor=\"middle\" x=\"251.9\" y=\"-326.86\" font-family=\"Helvetica,sans-Serif\" font-size=\"14.00\">False</text>\n</g>\n<!-- 3 -->\n<g id=\"node4\" class=\"node\">\n<title>3</title>\n<polygon fill=\"#4fe88f\" stroke=\"black\" points=\"265.5,-187 97.5,-187 97.5,-104 265.5,-104 265.5,-187\"/>\n<text text-anchor=\"middle\" x=\"181.5\" y=\"-171.8\" font-family=\"Helvetica,sans-Serif\" font-size=\"14.00\">petal length (cm) &lt;= 4.95</text>\n<text text-anchor=\"middle\" x=\"181.5\" y=\"-156.8\" font-family=\"Helvetica,sans-Serif\" font-size=\"14.00\">gini = 0.18</text>\n<text text-anchor=\"middle\" x=\"181.5\" y=\"-141.8\" font-family=\"Helvetica,sans-Serif\" font-size=\"14.00\">samples = 40</text>\n<text text-anchor=\"middle\" x=\"181.5\" y=\"-126.8\" font-family=\"Helvetica,sans-Serif\" font-size=\"14.00\">value = [0, 36, 4]</text>\n<text text-anchor=\"middle\" x=\"181.5\" y=\"-111.8\" font-family=\"Helvetica,sans-Serif\" font-size=\"14.00\">class = versicolor</text>\n</g>\n<!-- 2&#45;&gt;3 -->\n<g id=\"edge3\" class=\"edge\">\n<title>2&#45;&gt;3</title>\n<path fill=\"none\" stroke=\"black\" d=\"M242.23,-222.91C235.09,-213.92 227.46,-204.32 220.09,-195.05\"/>\n<polygon fill=\"black\" stroke=\"black\" points=\"222.67,-192.67 213.71,-187.02 217.19,-197.03 222.67,-192.67\"/>\n</g>\n<!-- 6 -->\n<g id=\"node7\" class=\"node\">\n<title>6</title>\n<polygon fill=\"#843ee6\" stroke=\"black\" points=\"451.5,-187 283.5,-187 283.5,-104 451.5,-104 451.5,-187\"/>\n<text text-anchor=\"middle\" x=\"367.5\" y=\"-171.8\" font-family=\"Helvetica,sans-Serif\" font-size=\"14.00\">petal length (cm) &lt;= 4.85</text>\n<text text-anchor=\"middle\" x=\"367.5\" y=\"-156.8\" font-family=\"Helvetica,sans-Serif\" font-size=\"14.00\">gini = 0.048</text>\n<text text-anchor=\"middle\" x=\"367.5\" y=\"-141.8\" font-family=\"Helvetica,sans-Serif\" font-size=\"14.00\">samples = 41</text>\n<text text-anchor=\"middle\" x=\"367.5\" y=\"-126.8\" font-family=\"Helvetica,sans-Serif\" font-size=\"14.00\">value = [0, 1, 40]</text>\n<text text-anchor=\"middle\" x=\"367.5\" y=\"-111.8\" font-family=\"Helvetica,sans-Serif\" font-size=\"14.00\">class = virginica</text>\n</g>\n<!-- 2&#45;&gt;6 -->\n<g id=\"edge6\" class=\"edge\">\n<title>2&#45;&gt;6</title>\n<path fill=\"none\" stroke=\"black\" d=\"M306.77,-222.91C313.91,-213.92 321.54,-204.32 328.91,-195.05\"/>\n<polygon fill=\"black\" stroke=\"black\" points=\"331.81,-197.03 335.29,-187.02 326.33,-192.67 331.81,-197.03\"/>\n</g>\n<!-- 4 -->\n<g id=\"node5\" class=\"node\">\n<title>4</title>\n<polygon fill=\"#39e581\" stroke=\"black\" points=\"121,-68 0,-68 0,0 121,0 121,-68\"/>\n<text text-anchor=\"middle\" x=\"60.5\" y=\"-52.8\" font-family=\"Helvetica,sans-Serif\" font-size=\"14.00\">gini = 0.0</text>\n<text text-anchor=\"middle\" x=\"60.5\" y=\"-37.8\" font-family=\"Helvetica,sans-Serif\" font-size=\"14.00\">samples = 35</text>\n<text text-anchor=\"middle\" x=\"60.5\" y=\"-22.8\" font-family=\"Helvetica,sans-Serif\" font-size=\"14.00\">value = [0, 35, 0]</text>\n<text text-anchor=\"middle\" x=\"60.5\" y=\"-7.8\" font-family=\"Helvetica,sans-Serif\" font-size=\"14.00\">class = versicolor</text>\n</g>\n<!-- 3&#45;&gt;4 -->\n<g id=\"edge4\" class=\"edge\">\n<title>3&#45;&gt;4</title>\n<path fill=\"none\" stroke=\"black\" d=\"M136.44,-103.73C126.16,-94.42 115.25,-84.54 104.99,-75.26\"/>\n<polygon fill=\"black\" stroke=\"black\" points=\"107.06,-72.41 97.3,-68.3 102.36,-77.6 107.06,-72.41\"/>\n</g>\n<!-- 5 -->\n<g id=\"node6\" class=\"node\">\n<title>5</title>\n<polygon fill=\"#a06aec\" stroke=\"black\" points=\"252,-68 139,-68 139,0 252,0 252,-68\"/>\n<text text-anchor=\"middle\" x=\"195.5\" y=\"-52.8\" font-family=\"Helvetica,sans-Serif\" font-size=\"14.00\">gini = 0.32</text>\n<text text-anchor=\"middle\" x=\"195.5\" y=\"-37.8\" font-family=\"Helvetica,sans-Serif\" font-size=\"14.00\">samples = 5</text>\n<text text-anchor=\"middle\" x=\"195.5\" y=\"-22.8\" font-family=\"Helvetica,sans-Serif\" font-size=\"14.00\">value = [0, 1, 4]</text>\n<text text-anchor=\"middle\" x=\"195.5\" y=\"-7.8\" font-family=\"Helvetica,sans-Serif\" font-size=\"14.00\">class = virginica</text>\n</g>\n<!-- 3&#45;&gt;5 -->\n<g id=\"edge5\" class=\"edge\">\n<title>3&#45;&gt;5</title>\n<path fill=\"none\" stroke=\"black\" d=\"M186.71,-103.73C187.77,-95.43 188.89,-86.67 189.97,-78.28\"/>\n<polygon fill=\"black\" stroke=\"black\" points=\"193.45,-78.66 191.24,-68.3 186.5,-77.77 193.45,-78.66\"/>\n</g>\n<!-- 7 -->\n<g id=\"node8\" class=\"node\">\n<title>7</title>\n<polygon fill=\"#ab7bee\" stroke=\"black\" points=\"410,-68 297,-68 297,0 410,0 410,-68\"/>\n<text text-anchor=\"middle\" x=\"353.5\" y=\"-52.8\" font-family=\"Helvetica,sans-Serif\" font-size=\"14.00\">gini = 0.375</text>\n<text text-anchor=\"middle\" x=\"353.5\" y=\"-37.8\" font-family=\"Helvetica,sans-Serif\" font-size=\"14.00\">samples = 4</text>\n<text text-anchor=\"middle\" x=\"353.5\" y=\"-22.8\" font-family=\"Helvetica,sans-Serif\" font-size=\"14.00\">value = [0, 1, 3]</text>\n<text text-anchor=\"middle\" x=\"353.5\" y=\"-7.8\" font-family=\"Helvetica,sans-Serif\" font-size=\"14.00\">class = virginica</text>\n</g>\n<!-- 6&#45;&gt;7 -->\n<g id=\"edge7\" class=\"edge\">\n<title>6&#45;&gt;7</title>\n<path fill=\"none\" stroke=\"black\" d=\"M362.29,-103.73C361.23,-95.43 360.11,-86.67 359.03,-78.28\"/>\n<polygon fill=\"black\" stroke=\"black\" points=\"362.5,-77.77 357.76,-68.3 355.55,-78.66 362.5,-77.77\"/>\n</g>\n<!-- 8 -->\n<g id=\"node9\" class=\"node\">\n<title>8</title>\n<polygon fill=\"#8139e5\" stroke=\"black\" points=\"545,-68 428,-68 428,0 545,0 545,-68\"/>\n<text text-anchor=\"middle\" x=\"486.5\" y=\"-52.8\" font-family=\"Helvetica,sans-Serif\" font-size=\"14.00\">gini = 0.0</text>\n<text text-anchor=\"middle\" x=\"486.5\" y=\"-37.8\" font-family=\"Helvetica,sans-Serif\" font-size=\"14.00\">samples = 37</text>\n<text text-anchor=\"middle\" x=\"486.5\" y=\"-22.8\" font-family=\"Helvetica,sans-Serif\" font-size=\"14.00\">value = [0, 0, 37]</text>\n<text text-anchor=\"middle\" x=\"486.5\" y=\"-7.8\" font-family=\"Helvetica,sans-Serif\" font-size=\"14.00\">class = virginica</text>\n</g>\n<!-- 6&#45;&gt;8 -->\n<g id=\"edge8\" class=\"edge\">\n<title>6&#45;&gt;8</title>\n<path fill=\"none\" stroke=\"black\" d=\"M411.81,-103.73C421.92,-94.42 432.66,-84.54 442.75,-75.26\"/>\n<polygon fill=\"black\" stroke=\"black\" points=\"445.32,-77.65 450.31,-68.3 440.58,-72.5 445.32,-77.65\"/>\n</g>\n</g>\n</svg>\n",
            "text/plain": [
              "<graphviz.sources.Source at 0x7f440ad0d630>"
            ]
          },
          "metadata": {},
          "execution_count": 15
        }
      ],
      "source": [
        "export_graphviz(Decision_Tree_ml, out_file=\"tree.dot\", \n",
        "                class_names = iris.target_names, \n",
        "                feature_names = iris.feature_names, \n",
        "                impurity=True, filled=True)\n",
        "\n",
        "with open(\"tree.dot\") as f:\n",
        "    dot_graph = f.read()\n",
        "graphviz.Source(dot_graph)"
      ]
    },
    {
      "cell_type": "markdown",
      "metadata": {
        "id": "QoKyieX7db1K"
      },
      "source": [
        "\n",
        "\n",
        "---\n",
        "\n",
        "\n",
        "\n"
      ]
    },
    {
      "cell_type": "markdown",
      "metadata": {
        "id": "MEbGhrdrgEjA"
      },
      "source": [
        "### **Using Entropy instead of Gini**"
      ]
    },
    {
      "cell_type": "code",
      "execution_count": 16,
      "metadata": {
        "id": "gxJyCpmlgAfk",
        "colab": {
          "base_uri": "https://localhost:8080/",
          "height": 74
        },
        "outputId": "3044247a-d04a-4461-92f7-3a39d6e57c53"
      },
      "outputs": [
        {
          "output_type": "execute_result",
          "data": {
            "text/plain": [
              "DecisionTreeClassifier(criterion='entropy', random_state=1)"
            ],
            "text/html": [
              "<style>#sk-container-id-4 {color: black;background-color: white;}#sk-container-id-4 pre{padding: 0;}#sk-container-id-4 div.sk-toggleable {background-color: white;}#sk-container-id-4 label.sk-toggleable__label {cursor: pointer;display: block;width: 100%;margin-bottom: 0;padding: 0.3em;box-sizing: border-box;text-align: center;}#sk-container-id-4 label.sk-toggleable__label-arrow:before {content: \"▸\";float: left;margin-right: 0.25em;color: #696969;}#sk-container-id-4 label.sk-toggleable__label-arrow:hover:before {color: black;}#sk-container-id-4 div.sk-estimator:hover label.sk-toggleable__label-arrow:before {color: black;}#sk-container-id-4 div.sk-toggleable__content {max-height: 0;max-width: 0;overflow: hidden;text-align: left;background-color: #f0f8ff;}#sk-container-id-4 div.sk-toggleable__content pre {margin: 0.2em;color: black;border-radius: 0.25em;background-color: #f0f8ff;}#sk-container-id-4 input.sk-toggleable__control:checked~div.sk-toggleable__content {max-height: 200px;max-width: 100%;overflow: auto;}#sk-container-id-4 input.sk-toggleable__control:checked~label.sk-toggleable__label-arrow:before {content: \"▾\";}#sk-container-id-4 div.sk-estimator input.sk-toggleable__control:checked~label.sk-toggleable__label {background-color: #d4ebff;}#sk-container-id-4 div.sk-label input.sk-toggleable__control:checked~label.sk-toggleable__label {background-color: #d4ebff;}#sk-container-id-4 input.sk-hidden--visually {border: 0;clip: rect(1px 1px 1px 1px);clip: rect(1px, 1px, 1px, 1px);height: 1px;margin: -1px;overflow: hidden;padding: 0;position: absolute;width: 1px;}#sk-container-id-4 div.sk-estimator {font-family: monospace;background-color: #f0f8ff;border: 1px dotted black;border-radius: 0.25em;box-sizing: border-box;margin-bottom: 0.5em;}#sk-container-id-4 div.sk-estimator:hover {background-color: #d4ebff;}#sk-container-id-4 div.sk-parallel-item::after {content: \"\";width: 100%;border-bottom: 1px solid gray;flex-grow: 1;}#sk-container-id-4 div.sk-label:hover label.sk-toggleable__label {background-color: #d4ebff;}#sk-container-id-4 div.sk-serial::before {content: \"\";position: absolute;border-left: 1px solid gray;box-sizing: border-box;top: 0;bottom: 0;left: 50%;z-index: 0;}#sk-container-id-4 div.sk-serial {display: flex;flex-direction: column;align-items: center;background-color: white;padding-right: 0.2em;padding-left: 0.2em;position: relative;}#sk-container-id-4 div.sk-item {position: relative;z-index: 1;}#sk-container-id-4 div.sk-parallel {display: flex;align-items: stretch;justify-content: center;background-color: white;position: relative;}#sk-container-id-4 div.sk-item::before, #sk-container-id-4 div.sk-parallel-item::before {content: \"\";position: absolute;border-left: 1px solid gray;box-sizing: border-box;top: 0;bottom: 0;left: 50%;z-index: -1;}#sk-container-id-4 div.sk-parallel-item {display: flex;flex-direction: column;z-index: 1;position: relative;background-color: white;}#sk-container-id-4 div.sk-parallel-item:first-child::after {align-self: flex-end;width: 50%;}#sk-container-id-4 div.sk-parallel-item:last-child::after {align-self: flex-start;width: 50%;}#sk-container-id-4 div.sk-parallel-item:only-child::after {width: 0;}#sk-container-id-4 div.sk-dashed-wrapped {border: 1px dashed gray;margin: 0 0.4em 0.5em 0.4em;box-sizing: border-box;padding-bottom: 0.4em;background-color: white;}#sk-container-id-4 div.sk-label label {font-family: monospace;font-weight: bold;display: inline-block;line-height: 1.2em;}#sk-container-id-4 div.sk-label-container {text-align: center;}#sk-container-id-4 div.sk-container {/* jupyter's `normalize.less` sets `[hidden] { display: none; }` but bootstrap.min.css set `[hidden] { display: none !important; }` so we also need the `!important` here to be able to override the default hidden behavior on the sphinx rendered scikit-learn.org. See: https://github.com/scikit-learn/scikit-learn/issues/21755 */display: inline-block !important;position: relative;}#sk-container-id-4 div.sk-text-repr-fallback {display: none;}</style><div id=\"sk-container-id-4\" class=\"sk-top-container\"><div class=\"sk-text-repr-fallback\"><pre>DecisionTreeClassifier(criterion=&#x27;entropy&#x27;, random_state=1)</pre><b>In a Jupyter environment, please rerun this cell to show the HTML representation or trust the notebook. <br />On GitHub, the HTML representation is unable to render, please try loading this page with nbviewer.org.</b></div><div class=\"sk-container\" hidden><div class=\"sk-item\"><div class=\"sk-estimator sk-toggleable\"><input class=\"sk-toggleable__control sk-hidden--visually\" id=\"sk-estimator-id-4\" type=\"checkbox\" checked><label for=\"sk-estimator-id-4\" class=\"sk-toggleable__label sk-toggleable__label-arrow\">DecisionTreeClassifier</label><div class=\"sk-toggleable__content\"><pre>DecisionTreeClassifier(criterion=&#x27;entropy&#x27;, random_state=1)</pre></div></div></div></div></div>"
            ]
          },
          "metadata": {},
          "execution_count": 16
        }
      ],
      "source": [
        "Decision_Tree_entropy = DecisionTreeClassifier(random_state=1, criterion=\"entropy\")\n",
        "Decision_Tree_entropy.fit(X_train, Y_train)"
      ]
    },
    {
      "cell_type": "code",
      "execution_count": 17,
      "metadata": {
        "id": "RmBqFRiMgAqF",
        "colab": {
          "base_uri": "https://localhost:8080/",
          "height": 915
        },
        "outputId": "4677d02a-343e-4a27-9fe6-671ddc630ee7"
      },
      "outputs": [
        {
          "output_type": "execute_result",
          "data": {
            "image/svg+xml": "<?xml version=\"1.0\" encoding=\"UTF-8\" standalone=\"no\"?>\n<!DOCTYPE svg PUBLIC \"-//W3C//DTD SVG 1.1//EN\"\n \"http://www.w3.org/Graphics/SVG/1.1/DTD/svg11.dtd\">\n<!-- Generated by graphviz version 2.43.0 (0)\n -->\n<!-- Title: Tree Pages: 1 -->\n<svg width=\"673pt\" height=\"671pt\"\n viewBox=\"0.00 0.00 673.00 671.00\" xmlns=\"http://www.w3.org/2000/svg\" xmlns:xlink=\"http://www.w3.org/1999/xlink\">\n<g id=\"graph0\" class=\"graph\" transform=\"scale(1 1) rotate(0) translate(4 667)\">\n<title>Tree</title>\n<polygon fill=\"white\" stroke=\"transparent\" points=\"-4,4 -4,-667 669,-667 669,4 -4,4\"/>\n<!-- 0 -->\n<g id=\"node1\" class=\"node\">\n<title>0</title>\n<polygon fill=\"#f7f3fd\" stroke=\"black\" points=\"357,-663 202,-663 202,-580 357,-580 357,-663\"/>\n<text text-anchor=\"middle\" x=\"279.5\" y=\"-647.8\" font-family=\"Helvetica,sans-Serif\" font-size=\"14.00\">petal width (cm) &lt;= 0.8</text>\n<text text-anchor=\"middle\" x=\"279.5\" y=\"-632.8\" font-family=\"Helvetica,sans-Serif\" font-size=\"14.00\">entropy = 1.581</text>\n<text text-anchor=\"middle\" x=\"279.5\" y=\"-617.8\" font-family=\"Helvetica,sans-Serif\" font-size=\"14.00\">samples = 120</text>\n<text text-anchor=\"middle\" x=\"279.5\" y=\"-602.8\" font-family=\"Helvetica,sans-Serif\" font-size=\"14.00\">value = [39, 37, 44]</text>\n<text text-anchor=\"middle\" x=\"279.5\" y=\"-587.8\" font-family=\"Helvetica,sans-Serif\" font-size=\"14.00\">class = virginica</text>\n</g>\n<!-- 1 -->\n<g id=\"node2\" class=\"node\">\n<title>1</title>\n<polygon fill=\"#e58139\" stroke=\"black\" points=\"259,-536.5 142,-536.5 142,-468.5 259,-468.5 259,-536.5\"/>\n<text text-anchor=\"middle\" x=\"200.5\" y=\"-521.3\" font-family=\"Helvetica,sans-Serif\" font-size=\"14.00\">entropy = 0.0</text>\n<text text-anchor=\"middle\" x=\"200.5\" y=\"-506.3\" font-family=\"Helvetica,sans-Serif\" font-size=\"14.00\">samples = 39</text>\n<text text-anchor=\"middle\" x=\"200.5\" y=\"-491.3\" font-family=\"Helvetica,sans-Serif\" font-size=\"14.00\">value = [39, 0, 0]</text>\n<text text-anchor=\"middle\" x=\"200.5\" y=\"-476.3\" font-family=\"Helvetica,sans-Serif\" font-size=\"14.00\">class = setosa</text>\n</g>\n<!-- 0&#45;&gt;1 -->\n<g id=\"edge1\" class=\"edge\">\n<title>0&#45;&gt;1</title>\n<path fill=\"none\" stroke=\"black\" d=\"M252.09,-579.91C244.49,-568.65 236.23,-556.42 228.59,-545.11\"/>\n<polygon fill=\"black\" stroke=\"black\" points=\"231.39,-543 222.89,-536.67 225.59,-546.91 231.39,-543\"/>\n<text text-anchor=\"middle\" x=\"218.14\" y=\"-557.51\" font-family=\"Helvetica,sans-Serif\" font-size=\"14.00\">True</text>\n</g>\n<!-- 2 -->\n<g id=\"node3\" class=\"node\">\n<title>2</title>\n<polygon fill=\"#ebe0fb\" stroke=\"black\" points=\"440,-544 277,-544 277,-461 440,-461 440,-544\"/>\n<text text-anchor=\"middle\" x=\"358.5\" y=\"-528.8\" font-family=\"Helvetica,sans-Serif\" font-size=\"14.00\">petal width (cm) &lt;= 1.65</text>\n<text text-anchor=\"middle\" x=\"358.5\" y=\"-513.8\" font-family=\"Helvetica,sans-Serif\" font-size=\"14.00\">entropy = 0.995</text>\n<text text-anchor=\"middle\" x=\"358.5\" y=\"-498.8\" font-family=\"Helvetica,sans-Serif\" font-size=\"14.00\">samples = 81</text>\n<text text-anchor=\"middle\" x=\"358.5\" y=\"-483.8\" font-family=\"Helvetica,sans-Serif\" font-size=\"14.00\">value = [0, 37, 44]</text>\n<text text-anchor=\"middle\" x=\"358.5\" y=\"-468.8\" font-family=\"Helvetica,sans-Serif\" font-size=\"14.00\">class = virginica</text>\n</g>\n<!-- 0&#45;&gt;2 -->\n<g id=\"edge2\" class=\"edge\">\n<title>0&#45;&gt;2</title>\n<path fill=\"none\" stroke=\"black\" d=\"M306.91,-579.91C312.91,-571.01 319.33,-561.51 325.53,-552.33\"/>\n<polygon fill=\"black\" stroke=\"black\" points=\"328.44,-554.27 331.14,-544.02 322.64,-550.35 328.44,-554.27\"/>\n<text text-anchor=\"middle\" x=\"335.9\" y=\"-564.86\" font-family=\"Helvetica,sans-Serif\" font-size=\"14.00\">False</text>\n</g>\n<!-- 3 -->\n<g id=\"node4\" class=\"node\">\n<title>3</title>\n<polygon fill=\"#4fe88f\" stroke=\"black\" points=\"349.5,-425 181.5,-425 181.5,-342 349.5,-342 349.5,-425\"/>\n<text text-anchor=\"middle\" x=\"265.5\" y=\"-409.8\" font-family=\"Helvetica,sans-Serif\" font-size=\"14.00\">petal length (cm) &lt;= 4.95</text>\n<text text-anchor=\"middle\" x=\"265.5\" y=\"-394.8\" font-family=\"Helvetica,sans-Serif\" font-size=\"14.00\">entropy = 0.469</text>\n<text text-anchor=\"middle\" x=\"265.5\" y=\"-379.8\" font-family=\"Helvetica,sans-Serif\" font-size=\"14.00\">samples = 40</text>\n<text text-anchor=\"middle\" x=\"265.5\" y=\"-364.8\" font-family=\"Helvetica,sans-Serif\" font-size=\"14.00\">value = [0, 36, 4]</text>\n<text text-anchor=\"middle\" x=\"265.5\" y=\"-349.8\" font-family=\"Helvetica,sans-Serif\" font-size=\"14.00\">class = versicolor</text>\n</g>\n<!-- 2&#45;&gt;3 -->\n<g id=\"edge3\" class=\"edge\">\n<title>2&#45;&gt;3</title>\n<path fill=\"none\" stroke=\"black\" d=\"M326.23,-460.91C319.09,-451.92 311.46,-442.32 304.09,-433.05\"/>\n<polygon fill=\"black\" stroke=\"black\" points=\"306.67,-430.67 297.71,-425.02 301.19,-435.03 306.67,-430.67\"/>\n</g>\n<!-- 10 -->\n<g id=\"node11\" class=\"node\">\n<title>10</title>\n<polygon fill=\"#843ee6\" stroke=\"black\" points=\"535.5,-425 367.5,-425 367.5,-342 535.5,-342 535.5,-425\"/>\n<text text-anchor=\"middle\" x=\"451.5\" y=\"-409.8\" font-family=\"Helvetica,sans-Serif\" font-size=\"14.00\">petal length (cm) &lt;= 4.85</text>\n<text text-anchor=\"middle\" x=\"451.5\" y=\"-394.8\" font-family=\"Helvetica,sans-Serif\" font-size=\"14.00\">entropy = 0.165</text>\n<text text-anchor=\"middle\" x=\"451.5\" y=\"-379.8\" font-family=\"Helvetica,sans-Serif\" font-size=\"14.00\">samples = 41</text>\n<text text-anchor=\"middle\" x=\"451.5\" y=\"-364.8\" font-family=\"Helvetica,sans-Serif\" font-size=\"14.00\">value = [0, 1, 40]</text>\n<text text-anchor=\"middle\" x=\"451.5\" y=\"-349.8\" font-family=\"Helvetica,sans-Serif\" font-size=\"14.00\">class = virginica</text>\n</g>\n<!-- 2&#45;&gt;10 -->\n<g id=\"edge10\" class=\"edge\">\n<title>2&#45;&gt;10</title>\n<path fill=\"none\" stroke=\"black\" d=\"M390.77,-460.91C397.91,-451.92 405.54,-442.32 412.91,-433.05\"/>\n<polygon fill=\"black\" stroke=\"black\" points=\"415.81,-435.03 419.29,-425.02 410.33,-430.67 415.81,-435.03\"/>\n</g>\n<!-- 4 -->\n<g id=\"node5\" class=\"node\">\n<title>4</title>\n<polygon fill=\"#39e581\" stroke=\"black\" points=\"163,-298.5 42,-298.5 42,-230.5 163,-230.5 163,-298.5\"/>\n<text text-anchor=\"middle\" x=\"102.5\" y=\"-283.3\" font-family=\"Helvetica,sans-Serif\" font-size=\"14.00\">entropy = 0.0</text>\n<text text-anchor=\"middle\" x=\"102.5\" y=\"-268.3\" font-family=\"Helvetica,sans-Serif\" font-size=\"14.00\">samples = 35</text>\n<text text-anchor=\"middle\" x=\"102.5\" y=\"-253.3\" font-family=\"Helvetica,sans-Serif\" font-size=\"14.00\">value = [0, 35, 0]</text>\n<text text-anchor=\"middle\" x=\"102.5\" y=\"-238.3\" font-family=\"Helvetica,sans-Serif\" font-size=\"14.00\">class = versicolor</text>\n</g>\n<!-- 3&#45;&gt;4 -->\n<g id=\"edge4\" class=\"edge\">\n<title>3&#45;&gt;4</title>\n<path fill=\"none\" stroke=\"black\" d=\"M208.95,-341.91C192.19,-329.88 173.88,-316.73 157.24,-304.79\"/>\n<polygon fill=\"black\" stroke=\"black\" points=\"158.87,-301.65 148.71,-298.67 154.79,-307.34 158.87,-301.65\"/>\n</g>\n<!-- 5 -->\n<g id=\"node6\" class=\"node\">\n<title>5</title>\n<polygon fill=\"#a06aec\" stroke=\"black\" points=\"352,-306 181,-306 181,-223 352,-223 352,-306\"/>\n<text text-anchor=\"middle\" x=\"266.5\" y=\"-290.8\" font-family=\"Helvetica,sans-Serif\" font-size=\"14.00\">sepal length (cm) &lt;= 6.05</text>\n<text text-anchor=\"middle\" x=\"266.5\" y=\"-275.8\" font-family=\"Helvetica,sans-Serif\" font-size=\"14.00\">entropy = 0.722</text>\n<text text-anchor=\"middle\" x=\"266.5\" y=\"-260.8\" font-family=\"Helvetica,sans-Serif\" font-size=\"14.00\">samples = 5</text>\n<text text-anchor=\"middle\" x=\"266.5\" y=\"-245.8\" font-family=\"Helvetica,sans-Serif\" font-size=\"14.00\">value = [0, 1, 4]</text>\n<text text-anchor=\"middle\" x=\"266.5\" y=\"-230.8\" font-family=\"Helvetica,sans-Serif\" font-size=\"14.00\">class = virginica</text>\n</g>\n<!-- 3&#45;&gt;5 -->\n<g id=\"edge5\" class=\"edge\">\n<title>3&#45;&gt;5</title>\n<path fill=\"none\" stroke=\"black\" d=\"M265.85,-341.91C265.92,-333.65 265.99,-324.86 266.07,-316.3\"/>\n<polygon fill=\"black\" stroke=\"black\" points=\"269.57,-316.05 266.15,-306.02 262.57,-315.99 269.57,-316.05\"/>\n</g>\n<!-- 6 -->\n<g id=\"node7\" class=\"node\">\n<title>6</title>\n<polygon fill=\"#ffffff\" stroke=\"black\" points=\"205,-187 42,-187 42,-104 205,-104 205,-187\"/>\n<text text-anchor=\"middle\" x=\"123.5\" y=\"-171.8\" font-family=\"Helvetica,sans-Serif\" font-size=\"14.00\">petal width (cm) &lt;= 1.55</text>\n<text text-anchor=\"middle\" x=\"123.5\" y=\"-156.8\" font-family=\"Helvetica,sans-Serif\" font-size=\"14.00\">entropy = 1.0</text>\n<text text-anchor=\"middle\" x=\"123.5\" y=\"-141.8\" font-family=\"Helvetica,sans-Serif\" font-size=\"14.00\">samples = 2</text>\n<text text-anchor=\"middle\" x=\"123.5\" y=\"-126.8\" font-family=\"Helvetica,sans-Serif\" font-size=\"14.00\">value = [0, 1, 1]</text>\n<text text-anchor=\"middle\" x=\"123.5\" y=\"-111.8\" font-family=\"Helvetica,sans-Serif\" font-size=\"14.00\">class = versicolor</text>\n</g>\n<!-- 5&#45;&gt;6 -->\n<g id=\"edge6\" class=\"edge\">\n<title>5&#45;&gt;6</title>\n<path fill=\"none\" stroke=\"black\" d=\"M216.89,-222.91C205.24,-213.38 192.74,-203.15 180.79,-193.37\"/>\n<polygon fill=\"black\" stroke=\"black\" points=\"182.98,-190.64 173.03,-187.02 178.55,-196.06 182.98,-190.64\"/>\n</g>\n<!-- 9 -->\n<g id=\"node10\" class=\"node\">\n<title>9</title>\n<polygon fill=\"#8139e5\" stroke=\"black\" points=\"336,-179.5 223,-179.5 223,-111.5 336,-111.5 336,-179.5\"/>\n<text text-anchor=\"middle\" x=\"279.5\" y=\"-164.3\" font-family=\"Helvetica,sans-Serif\" font-size=\"14.00\">entropy = 0.0</text>\n<text text-anchor=\"middle\" x=\"279.5\" y=\"-149.3\" font-family=\"Helvetica,sans-Serif\" font-size=\"14.00\">samples = 3</text>\n<text text-anchor=\"middle\" x=\"279.5\" y=\"-134.3\" font-family=\"Helvetica,sans-Serif\" font-size=\"14.00\">value = [0, 0, 3]</text>\n<text text-anchor=\"middle\" x=\"279.5\" y=\"-119.3\" font-family=\"Helvetica,sans-Serif\" font-size=\"14.00\">class = virginica</text>\n</g>\n<!-- 5&#45;&gt;9 -->\n<g id=\"edge9\" class=\"edge\">\n<title>5&#45;&gt;9</title>\n<path fill=\"none\" stroke=\"black\" d=\"M271.01,-222.91C272.2,-212.2 273.49,-200.62 274.69,-189.78\"/>\n<polygon fill=\"black\" stroke=\"black\" points=\"278.19,-189.99 275.81,-179.67 271.23,-189.22 278.19,-189.99\"/>\n</g>\n<!-- 7 -->\n<g id=\"node8\" class=\"node\">\n<title>7</title>\n<polygon fill=\"#8139e5\" stroke=\"black\" points=\"113,-68 0,-68 0,0 113,0 113,-68\"/>\n<text text-anchor=\"middle\" x=\"56.5\" y=\"-52.8\" font-family=\"Helvetica,sans-Serif\" font-size=\"14.00\">entropy = 0.0</text>\n<text text-anchor=\"middle\" x=\"56.5\" y=\"-37.8\" font-family=\"Helvetica,sans-Serif\" font-size=\"14.00\">samples = 1</text>\n<text text-anchor=\"middle\" x=\"56.5\" y=\"-22.8\" font-family=\"Helvetica,sans-Serif\" font-size=\"14.00\">value = [0, 0, 1]</text>\n<text text-anchor=\"middle\" x=\"56.5\" y=\"-7.8\" font-family=\"Helvetica,sans-Serif\" font-size=\"14.00\">class = virginica</text>\n</g>\n<!-- 6&#45;&gt;7 -->\n<g id=\"edge7\" class=\"edge\">\n<title>6&#45;&gt;7</title>\n<path fill=\"none\" stroke=\"black\" d=\"M98.55,-103.73C93.19,-94.97 87.52,-85.7 82.14,-76.91\"/>\n<polygon fill=\"black\" stroke=\"black\" points=\"85.08,-75 76.88,-68.3 79.11,-78.66 85.08,-75\"/>\n</g>\n<!-- 8 -->\n<g id=\"node9\" class=\"node\">\n<title>8</title>\n<polygon fill=\"#39e581\" stroke=\"black\" points=\"252,-68 131,-68 131,0 252,0 252,-68\"/>\n<text text-anchor=\"middle\" x=\"191.5\" y=\"-52.8\" font-family=\"Helvetica,sans-Serif\" font-size=\"14.00\">entropy = 0.0</text>\n<text text-anchor=\"middle\" x=\"191.5\" y=\"-37.8\" font-family=\"Helvetica,sans-Serif\" font-size=\"14.00\">samples = 1</text>\n<text text-anchor=\"middle\" x=\"191.5\" y=\"-22.8\" font-family=\"Helvetica,sans-Serif\" font-size=\"14.00\">value = [0, 1, 0]</text>\n<text text-anchor=\"middle\" x=\"191.5\" y=\"-7.8\" font-family=\"Helvetica,sans-Serif\" font-size=\"14.00\">class = versicolor</text>\n</g>\n<!-- 6&#45;&gt;8 -->\n<g id=\"edge8\" class=\"edge\">\n<title>6&#45;&gt;8</title>\n<path fill=\"none\" stroke=\"black\" d=\"M148.82,-103.73C154.26,-94.97 160.01,-85.7 165.48,-76.91\"/>\n<polygon fill=\"black\" stroke=\"black\" points=\"168.52,-78.64 170.82,-68.3 162.57,-74.95 168.52,-78.64\"/>\n</g>\n<!-- 11 -->\n<g id=\"node12\" class=\"node\">\n<title>11</title>\n<polygon fill=\"#ab7bee\" stroke=\"black\" points=\"529.5,-306 371.5,-306 371.5,-223 529.5,-223 529.5,-306\"/>\n<text text-anchor=\"middle\" x=\"450.5\" y=\"-290.8\" font-family=\"Helvetica,sans-Serif\" font-size=\"14.00\">sepal width (cm) &lt;= 3.1</text>\n<text text-anchor=\"middle\" x=\"450.5\" y=\"-275.8\" font-family=\"Helvetica,sans-Serif\" font-size=\"14.00\">entropy = 0.811</text>\n<text text-anchor=\"middle\" x=\"450.5\" y=\"-260.8\" font-family=\"Helvetica,sans-Serif\" font-size=\"14.00\">samples = 4</text>\n<text text-anchor=\"middle\" x=\"450.5\" y=\"-245.8\" font-family=\"Helvetica,sans-Serif\" font-size=\"14.00\">value = [0, 1, 3]</text>\n<text text-anchor=\"middle\" x=\"450.5\" y=\"-230.8\" font-family=\"Helvetica,sans-Serif\" font-size=\"14.00\">class = virginica</text>\n</g>\n<!-- 10&#45;&gt;11 -->\n<g id=\"edge11\" class=\"edge\">\n<title>10&#45;&gt;11</title>\n<path fill=\"none\" stroke=\"black\" d=\"M451.15,-341.91C451.08,-333.65 451.01,-324.86 450.93,-316.3\"/>\n<polygon fill=\"black\" stroke=\"black\" points=\"454.43,-315.99 450.85,-306.02 447.43,-316.05 454.43,-315.99\"/>\n</g>\n<!-- 14 -->\n<g id=\"node15\" class=\"node\">\n<title>14</title>\n<polygon fill=\"#8139e5\" stroke=\"black\" points=\"665,-298.5 548,-298.5 548,-230.5 665,-230.5 665,-298.5\"/>\n<text text-anchor=\"middle\" x=\"606.5\" y=\"-283.3\" font-family=\"Helvetica,sans-Serif\" font-size=\"14.00\">entropy = 0.0</text>\n<text text-anchor=\"middle\" x=\"606.5\" y=\"-268.3\" font-family=\"Helvetica,sans-Serif\" font-size=\"14.00\">samples = 37</text>\n<text text-anchor=\"middle\" x=\"606.5\" y=\"-253.3\" font-family=\"Helvetica,sans-Serif\" font-size=\"14.00\">value = [0, 0, 37]</text>\n<text text-anchor=\"middle\" x=\"606.5\" y=\"-238.3\" font-family=\"Helvetica,sans-Serif\" font-size=\"14.00\">class = virginica</text>\n</g>\n<!-- 10&#45;&gt;14 -->\n<g id=\"edge14\" class=\"edge\">\n<title>10&#45;&gt;14</title>\n<path fill=\"none\" stroke=\"black\" d=\"M505.28,-341.91C521.21,-329.88 538.63,-316.73 554.45,-304.79\"/>\n<polygon fill=\"black\" stroke=\"black\" points=\"556.69,-307.49 562.56,-298.67 552.47,-301.9 556.69,-307.49\"/>\n</g>\n<!-- 12 -->\n<g id=\"node13\" class=\"node\">\n<title>12</title>\n<polygon fill=\"#8139e5\" stroke=\"black\" points=\"494,-179.5 381,-179.5 381,-111.5 494,-111.5 494,-179.5\"/>\n<text text-anchor=\"middle\" x=\"437.5\" y=\"-164.3\" font-family=\"Helvetica,sans-Serif\" font-size=\"14.00\">entropy = 0.0</text>\n<text text-anchor=\"middle\" x=\"437.5\" y=\"-149.3\" font-family=\"Helvetica,sans-Serif\" font-size=\"14.00\">samples = 3</text>\n<text text-anchor=\"middle\" x=\"437.5\" y=\"-134.3\" font-family=\"Helvetica,sans-Serif\" font-size=\"14.00\">value = [0, 0, 3]</text>\n<text text-anchor=\"middle\" x=\"437.5\" y=\"-119.3\" font-family=\"Helvetica,sans-Serif\" font-size=\"14.00\">class = virginica</text>\n</g>\n<!-- 11&#45;&gt;12 -->\n<g id=\"edge12\" class=\"edge\">\n<title>11&#45;&gt;12</title>\n<path fill=\"none\" stroke=\"black\" d=\"M445.99,-222.91C444.8,-212.2 443.51,-200.62 442.31,-189.78\"/>\n<polygon fill=\"black\" stroke=\"black\" points=\"445.77,-189.22 441.19,-179.67 438.81,-189.99 445.77,-189.22\"/>\n</g>\n<!-- 13 -->\n<g id=\"node14\" class=\"node\">\n<title>13</title>\n<polygon fill=\"#39e581\" stroke=\"black\" points=\"633,-179.5 512,-179.5 512,-111.5 633,-111.5 633,-179.5\"/>\n<text text-anchor=\"middle\" x=\"572.5\" y=\"-164.3\" font-family=\"Helvetica,sans-Serif\" font-size=\"14.00\">entropy = 0.0</text>\n<text text-anchor=\"middle\" x=\"572.5\" y=\"-149.3\" font-family=\"Helvetica,sans-Serif\" font-size=\"14.00\">samples = 1</text>\n<text text-anchor=\"middle\" x=\"572.5\" y=\"-134.3\" font-family=\"Helvetica,sans-Serif\" font-size=\"14.00\">value = [0, 1, 0]</text>\n<text text-anchor=\"middle\" x=\"572.5\" y=\"-119.3\" font-family=\"Helvetica,sans-Serif\" font-size=\"14.00\">class = versicolor</text>\n</g>\n<!-- 11&#45;&gt;13 -->\n<g id=\"edge13\" class=\"edge\">\n<title>11&#45;&gt;13</title>\n<path fill=\"none\" stroke=\"black\" d=\"M492.83,-222.91C505.02,-211.21 518.32,-198.46 530.5,-186.78\"/>\n<polygon fill=\"black\" stroke=\"black\" points=\"533.12,-189.11 537.92,-179.67 528.28,-184.06 533.12,-189.11\"/>\n</g>\n</g>\n</svg>\n",
            "text/plain": [
              "<graphviz.sources.Source at 0x7f440ad0d6f0>"
            ]
          },
          "metadata": {},
          "execution_count": 17
        }
      ],
      "source": [
        "export_graphviz(Decision_Tree_entropy, out_file=\"tree.dot\", \n",
        "                class_names = iris.target_names, \n",
        "                feature_names = iris.feature_names, \n",
        "                impurity=True, filled=True)\n",
        "\n",
        "with open(\"tree.dot\") as f:\n",
        "    dot_graph = f.read()\n",
        "graphviz.Source(dot_graph)"
      ]
    },
    {
      "cell_type": "markdown",
      "metadata": {
        "id": "Mb-XvViGg1rB"
      },
      "source": [
        "## **Hyper-parameter Tuning**"
      ]
    },
    {
      "cell_type": "code",
      "execution_count": 18,
      "metadata": {
        "id": "WNsrOVsUgAtJ"
      },
      "outputs": [],
      "source": [
        "dt = DecisionTreeClassifier(random_state=1)"
      ]
    },
    {
      "cell_type": "code",
      "execution_count": 19,
      "metadata": {
        "id": "llz8J1iehAG8"
      },
      "outputs": [],
      "source": [
        "from sklearn.model_selection import GridSearchCV"
      ]
    },
    {
      "cell_type": "code",
      "execution_count": 20,
      "metadata": {
        "id": "aQykZvbphAO4"
      },
      "outputs": [],
      "source": [
        "params = {\n",
        "    'max_depth': [2, 3, 4, 7],\n",
        "    'min_samples_leaf': [3, 4, 7, 10, 20],\n",
        "    'criterion': [\"gini\", \"entropy\"]\n",
        "}"
      ]
    },
    {
      "cell_type": "code",
      "execution_count": 21,
      "metadata": {
        "id": "PNoVsmZahOuF"
      },
      "outputs": [],
      "source": [
        "grid_search = GridSearchCV(estimator=dt, \n",
        "                           param_grid=params,\n",
        "                           cv=4, scoring = \"accuracy\")"
      ]
    },
    {
      "cell_type": "code",
      "execution_count": 22,
      "metadata": {
        "id": "fL1hnnO5hRs2",
        "colab": {
          "base_uri": "https://localhost:8080/",
          "height": 117
        },
        "outputId": "091ce239-205e-4dc6-c23e-62fbf57069c6"
      },
      "outputs": [
        {
          "output_type": "execute_result",
          "data": {
            "text/plain": [
              "GridSearchCV(cv=4, estimator=DecisionTreeClassifier(random_state=1),\n",
              "             param_grid={'criterion': ['gini', 'entropy'],\n",
              "                         'max_depth': [2, 3, 4, 7],\n",
              "                         'min_samples_leaf': [3, 4, 7, 10, 20]},\n",
              "             scoring='accuracy')"
            ],
            "text/html": [
              "<style>#sk-container-id-5 {color: black;background-color: white;}#sk-container-id-5 pre{padding: 0;}#sk-container-id-5 div.sk-toggleable {background-color: white;}#sk-container-id-5 label.sk-toggleable__label {cursor: pointer;display: block;width: 100%;margin-bottom: 0;padding: 0.3em;box-sizing: border-box;text-align: center;}#sk-container-id-5 label.sk-toggleable__label-arrow:before {content: \"▸\";float: left;margin-right: 0.25em;color: #696969;}#sk-container-id-5 label.sk-toggleable__label-arrow:hover:before {color: black;}#sk-container-id-5 div.sk-estimator:hover label.sk-toggleable__label-arrow:before {color: black;}#sk-container-id-5 div.sk-toggleable__content {max-height: 0;max-width: 0;overflow: hidden;text-align: left;background-color: #f0f8ff;}#sk-container-id-5 div.sk-toggleable__content pre {margin: 0.2em;color: black;border-radius: 0.25em;background-color: #f0f8ff;}#sk-container-id-5 input.sk-toggleable__control:checked~div.sk-toggleable__content {max-height: 200px;max-width: 100%;overflow: auto;}#sk-container-id-5 input.sk-toggleable__control:checked~label.sk-toggleable__label-arrow:before {content: \"▾\";}#sk-container-id-5 div.sk-estimator input.sk-toggleable__control:checked~label.sk-toggleable__label {background-color: #d4ebff;}#sk-container-id-5 div.sk-label input.sk-toggleable__control:checked~label.sk-toggleable__label {background-color: #d4ebff;}#sk-container-id-5 input.sk-hidden--visually {border: 0;clip: rect(1px 1px 1px 1px);clip: rect(1px, 1px, 1px, 1px);height: 1px;margin: -1px;overflow: hidden;padding: 0;position: absolute;width: 1px;}#sk-container-id-5 div.sk-estimator {font-family: monospace;background-color: #f0f8ff;border: 1px dotted black;border-radius: 0.25em;box-sizing: border-box;margin-bottom: 0.5em;}#sk-container-id-5 div.sk-estimator:hover {background-color: #d4ebff;}#sk-container-id-5 div.sk-parallel-item::after {content: \"\";width: 100%;border-bottom: 1px solid gray;flex-grow: 1;}#sk-container-id-5 div.sk-label:hover label.sk-toggleable__label {background-color: #d4ebff;}#sk-container-id-5 div.sk-serial::before {content: \"\";position: absolute;border-left: 1px solid gray;box-sizing: border-box;top: 0;bottom: 0;left: 50%;z-index: 0;}#sk-container-id-5 div.sk-serial {display: flex;flex-direction: column;align-items: center;background-color: white;padding-right: 0.2em;padding-left: 0.2em;position: relative;}#sk-container-id-5 div.sk-item {position: relative;z-index: 1;}#sk-container-id-5 div.sk-parallel {display: flex;align-items: stretch;justify-content: center;background-color: white;position: relative;}#sk-container-id-5 div.sk-item::before, #sk-container-id-5 div.sk-parallel-item::before {content: \"\";position: absolute;border-left: 1px solid gray;box-sizing: border-box;top: 0;bottom: 0;left: 50%;z-index: -1;}#sk-container-id-5 div.sk-parallel-item {display: flex;flex-direction: column;z-index: 1;position: relative;background-color: white;}#sk-container-id-5 div.sk-parallel-item:first-child::after {align-self: flex-end;width: 50%;}#sk-container-id-5 div.sk-parallel-item:last-child::after {align-self: flex-start;width: 50%;}#sk-container-id-5 div.sk-parallel-item:only-child::after {width: 0;}#sk-container-id-5 div.sk-dashed-wrapped {border: 1px dashed gray;margin: 0 0.4em 0.5em 0.4em;box-sizing: border-box;padding-bottom: 0.4em;background-color: white;}#sk-container-id-5 div.sk-label label {font-family: monospace;font-weight: bold;display: inline-block;line-height: 1.2em;}#sk-container-id-5 div.sk-label-container {text-align: center;}#sk-container-id-5 div.sk-container {/* jupyter's `normalize.less` sets `[hidden] { display: none; }` but bootstrap.min.css set `[hidden] { display: none !important; }` so we also need the `!important` here to be able to override the default hidden behavior on the sphinx rendered scikit-learn.org. See: https://github.com/scikit-learn/scikit-learn/issues/21755 */display: inline-block !important;position: relative;}#sk-container-id-5 div.sk-text-repr-fallback {display: none;}</style><div id=\"sk-container-id-5\" class=\"sk-top-container\"><div class=\"sk-text-repr-fallback\"><pre>GridSearchCV(cv=4, estimator=DecisionTreeClassifier(random_state=1),\n",
              "             param_grid={&#x27;criterion&#x27;: [&#x27;gini&#x27;, &#x27;entropy&#x27;],\n",
              "                         &#x27;max_depth&#x27;: [2, 3, 4, 7],\n",
              "                         &#x27;min_samples_leaf&#x27;: [3, 4, 7, 10, 20]},\n",
              "             scoring=&#x27;accuracy&#x27;)</pre><b>In a Jupyter environment, please rerun this cell to show the HTML representation or trust the notebook. <br />On GitHub, the HTML representation is unable to render, please try loading this page with nbviewer.org.</b></div><div class=\"sk-container\" hidden><div class=\"sk-item sk-dashed-wrapped\"><div class=\"sk-label-container\"><div class=\"sk-label sk-toggleable\"><input class=\"sk-toggleable__control sk-hidden--visually\" id=\"sk-estimator-id-5\" type=\"checkbox\" ><label for=\"sk-estimator-id-5\" class=\"sk-toggleable__label sk-toggleable__label-arrow\">GridSearchCV</label><div class=\"sk-toggleable__content\"><pre>GridSearchCV(cv=4, estimator=DecisionTreeClassifier(random_state=1),\n",
              "             param_grid={&#x27;criterion&#x27;: [&#x27;gini&#x27;, &#x27;entropy&#x27;],\n",
              "                         &#x27;max_depth&#x27;: [2, 3, 4, 7],\n",
              "                         &#x27;min_samples_leaf&#x27;: [3, 4, 7, 10, 20]},\n",
              "             scoring=&#x27;accuracy&#x27;)</pre></div></div></div><div class=\"sk-parallel\"><div class=\"sk-parallel-item\"><div class=\"sk-item\"><div class=\"sk-label-container\"><div class=\"sk-label sk-toggleable\"><input class=\"sk-toggleable__control sk-hidden--visually\" id=\"sk-estimator-id-6\" type=\"checkbox\" ><label for=\"sk-estimator-id-6\" class=\"sk-toggleable__label sk-toggleable__label-arrow\">estimator: DecisionTreeClassifier</label><div class=\"sk-toggleable__content\"><pre>DecisionTreeClassifier(random_state=1)</pre></div></div></div><div class=\"sk-serial\"><div class=\"sk-item\"><div class=\"sk-estimator sk-toggleable\"><input class=\"sk-toggleable__control sk-hidden--visually\" id=\"sk-estimator-id-7\" type=\"checkbox\" ><label for=\"sk-estimator-id-7\" class=\"sk-toggleable__label sk-toggleable__label-arrow\">DecisionTreeClassifier</label><div class=\"sk-toggleable__content\"><pre>DecisionTreeClassifier(random_state=1)</pre></div></div></div></div></div></div></div></div></div></div>"
            ]
          },
          "metadata": {},
          "execution_count": 22
        }
      ],
      "source": [
        "grid_search.fit(X_train, Y_train)"
      ]
    },
    {
      "cell_type": "code",
      "execution_count": 23,
      "metadata": {
        "id": "pVYMvIGZhS7T",
        "colab": {
          "base_uri": "https://localhost:8080/",
          "height": 617
        },
        "outputId": "d454cab8-eb61-482a-b7d8-6d2aad21a77e"
      },
      "outputs": [
        {
          "output_type": "execute_result",
          "data": {
            "text/plain": [
              "   mean_fit_time  std_fit_time  mean_score_time  std_score_time  \\\n",
              "0       0.001691      0.000297         0.000859        0.000077   \n",
              "1       0.001182      0.000212         0.000697        0.000128   \n",
              "2       0.000834      0.000031         0.000493        0.000010   \n",
              "3       0.000826      0.000038         0.000490        0.000006   \n",
              "4       0.000815      0.000006         0.000476        0.000009   \n",
              "\n",
              "  param_criterion param_max_depth param_min_samples_leaf  \\\n",
              "0            gini               2                      3   \n",
              "1            gini               2                      4   \n",
              "2            gini               2                      7   \n",
              "3            gini               2                     10   \n",
              "4            gini               2                     20   \n",
              "\n",
              "                                              params  split0_test_score  \\\n",
              "0  {'criterion': 'gini', 'max_depth': 2, 'min_sam...           0.966667   \n",
              "1  {'criterion': 'gini', 'max_depth': 2, 'min_sam...           0.966667   \n",
              "2  {'criterion': 'gini', 'max_depth': 2, 'min_sam...           0.966667   \n",
              "3  {'criterion': 'gini', 'max_depth': 2, 'min_sam...           0.966667   \n",
              "4  {'criterion': 'gini', 'max_depth': 2, 'min_sam...           0.966667   \n",
              "\n",
              "   split1_test_score  split2_test_score  split3_test_score  mean_test_score  \\\n",
              "0           0.833333                0.9                0.9              0.9   \n",
              "1           0.833333                0.9                0.9              0.9   \n",
              "2           0.833333                0.9                0.9              0.9   \n",
              "3           0.833333                0.9                0.9              0.9   \n",
              "4           0.833333                0.9                0.9              0.9   \n",
              "\n",
              "   std_test_score  rank_test_score  \n",
              "0         0.04714                7  \n",
              "1         0.04714                7  \n",
              "2         0.04714                7  \n",
              "3         0.04714                7  \n",
              "4         0.04714                7  "
            ],
            "text/html": [
              "\n",
              "  <div id=\"df-277a207a-aa18-4230-9e9c-ca9d64562893\">\n",
              "    <div class=\"colab-df-container\">\n",
              "      <div>\n",
              "<style scoped>\n",
              "    .dataframe tbody tr th:only-of-type {\n",
              "        vertical-align: middle;\n",
              "    }\n",
              "\n",
              "    .dataframe tbody tr th {\n",
              "        vertical-align: top;\n",
              "    }\n",
              "\n",
              "    .dataframe thead th {\n",
              "        text-align: right;\n",
              "    }\n",
              "</style>\n",
              "<table border=\"1\" class=\"dataframe\">\n",
              "  <thead>\n",
              "    <tr style=\"text-align: right;\">\n",
              "      <th></th>\n",
              "      <th>mean_fit_time</th>\n",
              "      <th>std_fit_time</th>\n",
              "      <th>mean_score_time</th>\n",
              "      <th>std_score_time</th>\n",
              "      <th>param_criterion</th>\n",
              "      <th>param_max_depth</th>\n",
              "      <th>param_min_samples_leaf</th>\n",
              "      <th>params</th>\n",
              "      <th>split0_test_score</th>\n",
              "      <th>split1_test_score</th>\n",
              "      <th>split2_test_score</th>\n",
              "      <th>split3_test_score</th>\n",
              "      <th>mean_test_score</th>\n",
              "      <th>std_test_score</th>\n",
              "      <th>rank_test_score</th>\n",
              "    </tr>\n",
              "  </thead>\n",
              "  <tbody>\n",
              "    <tr>\n",
              "      <th>0</th>\n",
              "      <td>0.001691</td>\n",
              "      <td>0.000297</td>\n",
              "      <td>0.000859</td>\n",
              "      <td>0.000077</td>\n",
              "      <td>gini</td>\n",
              "      <td>2</td>\n",
              "      <td>3</td>\n",
              "      <td>{'criterion': 'gini', 'max_depth': 2, 'min_sam...</td>\n",
              "      <td>0.966667</td>\n",
              "      <td>0.833333</td>\n",
              "      <td>0.9</td>\n",
              "      <td>0.9</td>\n",
              "      <td>0.9</td>\n",
              "      <td>0.04714</td>\n",
              "      <td>7</td>\n",
              "    </tr>\n",
              "    <tr>\n",
              "      <th>1</th>\n",
              "      <td>0.001182</td>\n",
              "      <td>0.000212</td>\n",
              "      <td>0.000697</td>\n",
              "      <td>0.000128</td>\n",
              "      <td>gini</td>\n",
              "      <td>2</td>\n",
              "      <td>4</td>\n",
              "      <td>{'criterion': 'gini', 'max_depth': 2, 'min_sam...</td>\n",
              "      <td>0.966667</td>\n",
              "      <td>0.833333</td>\n",
              "      <td>0.9</td>\n",
              "      <td>0.9</td>\n",
              "      <td>0.9</td>\n",
              "      <td>0.04714</td>\n",
              "      <td>7</td>\n",
              "    </tr>\n",
              "    <tr>\n",
              "      <th>2</th>\n",
              "      <td>0.000834</td>\n",
              "      <td>0.000031</td>\n",
              "      <td>0.000493</td>\n",
              "      <td>0.000010</td>\n",
              "      <td>gini</td>\n",
              "      <td>2</td>\n",
              "      <td>7</td>\n",
              "      <td>{'criterion': 'gini', 'max_depth': 2, 'min_sam...</td>\n",
              "      <td>0.966667</td>\n",
              "      <td>0.833333</td>\n",
              "      <td>0.9</td>\n",
              "      <td>0.9</td>\n",
              "      <td>0.9</td>\n",
              "      <td>0.04714</td>\n",
              "      <td>7</td>\n",
              "    </tr>\n",
              "    <tr>\n",
              "      <th>3</th>\n",
              "      <td>0.000826</td>\n",
              "      <td>0.000038</td>\n",
              "      <td>0.000490</td>\n",
              "      <td>0.000006</td>\n",
              "      <td>gini</td>\n",
              "      <td>2</td>\n",
              "      <td>10</td>\n",
              "      <td>{'criterion': 'gini', 'max_depth': 2, 'min_sam...</td>\n",
              "      <td>0.966667</td>\n",
              "      <td>0.833333</td>\n",
              "      <td>0.9</td>\n",
              "      <td>0.9</td>\n",
              "      <td>0.9</td>\n",
              "      <td>0.04714</td>\n",
              "      <td>7</td>\n",
              "    </tr>\n",
              "    <tr>\n",
              "      <th>4</th>\n",
              "      <td>0.000815</td>\n",
              "      <td>0.000006</td>\n",
              "      <td>0.000476</td>\n",
              "      <td>0.000009</td>\n",
              "      <td>gini</td>\n",
              "      <td>2</td>\n",
              "      <td>20</td>\n",
              "      <td>{'criterion': 'gini', 'max_depth': 2, 'min_sam...</td>\n",
              "      <td>0.966667</td>\n",
              "      <td>0.833333</td>\n",
              "      <td>0.9</td>\n",
              "      <td>0.9</td>\n",
              "      <td>0.9</td>\n",
              "      <td>0.04714</td>\n",
              "      <td>7</td>\n",
              "    </tr>\n",
              "  </tbody>\n",
              "</table>\n",
              "</div>\n",
              "      <button class=\"colab-df-convert\" onclick=\"convertToInteractive('df-277a207a-aa18-4230-9e9c-ca9d64562893')\"\n",
              "              title=\"Convert this dataframe to an interactive table.\"\n",
              "              style=\"display:none;\">\n",
              "        \n",
              "  <svg xmlns=\"http://www.w3.org/2000/svg\" height=\"24px\"viewBox=\"0 0 24 24\"\n",
              "       width=\"24px\">\n",
              "    <path d=\"M0 0h24v24H0V0z\" fill=\"none\"/>\n",
              "    <path d=\"M18.56 5.44l.94 2.06.94-2.06 2.06-.94-2.06-.94-.94-2.06-.94 2.06-2.06.94zm-11 1L8.5 8.5l.94-2.06 2.06-.94-2.06-.94L8.5 2.5l-.94 2.06-2.06.94zm10 10l.94 2.06.94-2.06 2.06-.94-2.06-.94-.94-2.06-.94 2.06-2.06.94z\"/><path d=\"M17.41 7.96l-1.37-1.37c-.4-.4-.92-.59-1.43-.59-.52 0-1.04.2-1.43.59L10.3 9.45l-7.72 7.72c-.78.78-.78 2.05 0 2.83L4 21.41c.39.39.9.59 1.41.59.51 0 1.02-.2 1.41-.59l7.78-7.78 2.81-2.81c.8-.78.8-2.07 0-2.86zM5.41 20L4 18.59l7.72-7.72 1.47 1.35L5.41 20z\"/>\n",
              "  </svg>\n",
              "      </button>\n",
              "      \n",
              "  <style>\n",
              "    .colab-df-container {\n",
              "      display:flex;\n",
              "      flex-wrap:wrap;\n",
              "      gap: 12px;\n",
              "    }\n",
              "\n",
              "    .colab-df-convert {\n",
              "      background-color: #E8F0FE;\n",
              "      border: none;\n",
              "      border-radius: 50%;\n",
              "      cursor: pointer;\n",
              "      display: none;\n",
              "      fill: #1967D2;\n",
              "      height: 32px;\n",
              "      padding: 0 0 0 0;\n",
              "      width: 32px;\n",
              "    }\n",
              "\n",
              "    .colab-df-convert:hover {\n",
              "      background-color: #E2EBFA;\n",
              "      box-shadow: 0px 1px 2px rgba(60, 64, 67, 0.3), 0px 1px 3px 1px rgba(60, 64, 67, 0.15);\n",
              "      fill: #174EA6;\n",
              "    }\n",
              "\n",
              "    [theme=dark] .colab-df-convert {\n",
              "      background-color: #3B4455;\n",
              "      fill: #D2E3FC;\n",
              "    }\n",
              "\n",
              "    [theme=dark] .colab-df-convert:hover {\n",
              "      background-color: #434B5C;\n",
              "      box-shadow: 0px 1px 3px 1px rgba(0, 0, 0, 0.15);\n",
              "      filter: drop-shadow(0px 1px 2px rgba(0, 0, 0, 0.3));\n",
              "      fill: #FFFFFF;\n",
              "    }\n",
              "  </style>\n",
              "\n",
              "      <script>\n",
              "        const buttonEl =\n",
              "          document.querySelector('#df-277a207a-aa18-4230-9e9c-ca9d64562893 button.colab-df-convert');\n",
              "        buttonEl.style.display =\n",
              "          google.colab.kernel.accessAllowed ? 'block' : 'none';\n",
              "\n",
              "        async function convertToInteractive(key) {\n",
              "          const element = document.querySelector('#df-277a207a-aa18-4230-9e9c-ca9d64562893');\n",
              "          const dataTable =\n",
              "            await google.colab.kernel.invokeFunction('convertToInteractive',\n",
              "                                                     [key], {});\n",
              "          if (!dataTable) return;\n",
              "\n",
              "          const docLinkHtml = 'Like what you see? Visit the ' +\n",
              "            '<a target=\"_blank\" href=https://colab.research.google.com/notebooks/data_table.ipynb>data table notebook</a>'\n",
              "            + ' to learn more about interactive tables.';\n",
              "          element.innerHTML = '';\n",
              "          dataTable['output_type'] = 'display_data';\n",
              "          await google.colab.output.renderOutput(dataTable, element);\n",
              "          const docLink = document.createElement('div');\n",
              "          docLink.innerHTML = docLinkHtml;\n",
              "          element.appendChild(docLink);\n",
              "        }\n",
              "      </script>\n",
              "    </div>\n",
              "  </div>\n",
              "  "
            ]
          },
          "metadata": {},
          "execution_count": 23
        }
      ],
      "source": [
        "score_df = pd.DataFrame(grid_search.cv_results_)\n",
        "score_df.head()"
      ]
    },
    {
      "cell_type": "code",
      "execution_count": 24,
      "metadata": {
        "id": "e3S2CSZ-hhDu",
        "colab": {
          "base_uri": "https://localhost:8080/",
          "height": 582
        },
        "outputId": "dba28a22-0154-4b61-aa45-e687453a84cd"
      },
      "outputs": [
        {
          "output_type": "execute_result",
          "data": {
            "text/plain": [
              "    mean_fit_time  std_fit_time  mean_score_time  std_score_time  \\\n",
              "5        0.000910      0.000106         0.000558        0.000033   \n",
              "10       0.000825      0.000009         0.000495        0.000012   \n",
              "15       0.000865      0.000046         0.000516        0.000019   \n",
              "25       0.000850      0.000028         0.000514        0.000039   \n",
              "30       0.000848      0.000011         0.000490        0.000010   \n",
              "\n",
              "   param_criterion param_max_depth param_min_samples_leaf  \\\n",
              "5             gini               3                      3   \n",
              "10            gini               4                      3   \n",
              "15            gini               7                      3   \n",
              "25         entropy               3                      3   \n",
              "30         entropy               4                      3   \n",
              "\n",
              "                                               params  split0_test_score  \\\n",
              "5   {'criterion': 'gini', 'max_depth': 3, 'min_sam...           0.966667   \n",
              "10  {'criterion': 'gini', 'max_depth': 4, 'min_sam...           0.966667   \n",
              "15  {'criterion': 'gini', 'max_depth': 7, 'min_sam...           0.966667   \n",
              "25  {'criterion': 'entropy', 'max_depth': 3, 'min_...           0.966667   \n",
              "30  {'criterion': 'entropy', 'max_depth': 4, 'min_...           0.966667   \n",
              "\n",
              "    split1_test_score  split2_test_score  split3_test_score  mean_test_score  \\\n",
              "5            0.966667                0.9                0.9         0.933333   \n",
              "10           0.966667                0.9                0.9         0.933333   \n",
              "15           0.966667                0.9                0.9         0.933333   \n",
              "25           0.966667                0.9                0.9         0.933333   \n",
              "30           0.966667                0.9                0.9         0.933333   \n",
              "\n",
              "    std_test_score  rank_test_score  \n",
              "5         0.033333                1  \n",
              "10        0.033333                1  \n",
              "15        0.033333                1  \n",
              "25        0.033333                1  \n",
              "30        0.033333                1  "
            ],
            "text/html": [
              "\n",
              "  <div id=\"df-eb79c865-e13a-4619-bfab-966b5ac82bdf\">\n",
              "    <div class=\"colab-df-container\">\n",
              "      <div>\n",
              "<style scoped>\n",
              "    .dataframe tbody tr th:only-of-type {\n",
              "        vertical-align: middle;\n",
              "    }\n",
              "\n",
              "    .dataframe tbody tr th {\n",
              "        vertical-align: top;\n",
              "    }\n",
              "\n",
              "    .dataframe thead th {\n",
              "        text-align: right;\n",
              "    }\n",
              "</style>\n",
              "<table border=\"1\" class=\"dataframe\">\n",
              "  <thead>\n",
              "    <tr style=\"text-align: right;\">\n",
              "      <th></th>\n",
              "      <th>mean_fit_time</th>\n",
              "      <th>std_fit_time</th>\n",
              "      <th>mean_score_time</th>\n",
              "      <th>std_score_time</th>\n",
              "      <th>param_criterion</th>\n",
              "      <th>param_max_depth</th>\n",
              "      <th>param_min_samples_leaf</th>\n",
              "      <th>params</th>\n",
              "      <th>split0_test_score</th>\n",
              "      <th>split1_test_score</th>\n",
              "      <th>split2_test_score</th>\n",
              "      <th>split3_test_score</th>\n",
              "      <th>mean_test_score</th>\n",
              "      <th>std_test_score</th>\n",
              "      <th>rank_test_score</th>\n",
              "    </tr>\n",
              "  </thead>\n",
              "  <tbody>\n",
              "    <tr>\n",
              "      <th>5</th>\n",
              "      <td>0.000910</td>\n",
              "      <td>0.000106</td>\n",
              "      <td>0.000558</td>\n",
              "      <td>0.000033</td>\n",
              "      <td>gini</td>\n",
              "      <td>3</td>\n",
              "      <td>3</td>\n",
              "      <td>{'criterion': 'gini', 'max_depth': 3, 'min_sam...</td>\n",
              "      <td>0.966667</td>\n",
              "      <td>0.966667</td>\n",
              "      <td>0.9</td>\n",
              "      <td>0.9</td>\n",
              "      <td>0.933333</td>\n",
              "      <td>0.033333</td>\n",
              "      <td>1</td>\n",
              "    </tr>\n",
              "    <tr>\n",
              "      <th>10</th>\n",
              "      <td>0.000825</td>\n",
              "      <td>0.000009</td>\n",
              "      <td>0.000495</td>\n",
              "      <td>0.000012</td>\n",
              "      <td>gini</td>\n",
              "      <td>4</td>\n",
              "      <td>3</td>\n",
              "      <td>{'criterion': 'gini', 'max_depth': 4, 'min_sam...</td>\n",
              "      <td>0.966667</td>\n",
              "      <td>0.966667</td>\n",
              "      <td>0.9</td>\n",
              "      <td>0.9</td>\n",
              "      <td>0.933333</td>\n",
              "      <td>0.033333</td>\n",
              "      <td>1</td>\n",
              "    </tr>\n",
              "    <tr>\n",
              "      <th>15</th>\n",
              "      <td>0.000865</td>\n",
              "      <td>0.000046</td>\n",
              "      <td>0.000516</td>\n",
              "      <td>0.000019</td>\n",
              "      <td>gini</td>\n",
              "      <td>7</td>\n",
              "      <td>3</td>\n",
              "      <td>{'criterion': 'gini', 'max_depth': 7, 'min_sam...</td>\n",
              "      <td>0.966667</td>\n",
              "      <td>0.966667</td>\n",
              "      <td>0.9</td>\n",
              "      <td>0.9</td>\n",
              "      <td>0.933333</td>\n",
              "      <td>0.033333</td>\n",
              "      <td>1</td>\n",
              "    </tr>\n",
              "    <tr>\n",
              "      <th>25</th>\n",
              "      <td>0.000850</td>\n",
              "      <td>0.000028</td>\n",
              "      <td>0.000514</td>\n",
              "      <td>0.000039</td>\n",
              "      <td>entropy</td>\n",
              "      <td>3</td>\n",
              "      <td>3</td>\n",
              "      <td>{'criterion': 'entropy', 'max_depth': 3, 'min_...</td>\n",
              "      <td>0.966667</td>\n",
              "      <td>0.966667</td>\n",
              "      <td>0.9</td>\n",
              "      <td>0.9</td>\n",
              "      <td>0.933333</td>\n",
              "      <td>0.033333</td>\n",
              "      <td>1</td>\n",
              "    </tr>\n",
              "    <tr>\n",
              "      <th>30</th>\n",
              "      <td>0.000848</td>\n",
              "      <td>0.000011</td>\n",
              "      <td>0.000490</td>\n",
              "      <td>0.000010</td>\n",
              "      <td>entropy</td>\n",
              "      <td>4</td>\n",
              "      <td>3</td>\n",
              "      <td>{'criterion': 'entropy', 'max_depth': 4, 'min_...</td>\n",
              "      <td>0.966667</td>\n",
              "      <td>0.966667</td>\n",
              "      <td>0.9</td>\n",
              "      <td>0.9</td>\n",
              "      <td>0.933333</td>\n",
              "      <td>0.033333</td>\n",
              "      <td>1</td>\n",
              "    </tr>\n",
              "  </tbody>\n",
              "</table>\n",
              "</div>\n",
              "      <button class=\"colab-df-convert\" onclick=\"convertToInteractive('df-eb79c865-e13a-4619-bfab-966b5ac82bdf')\"\n",
              "              title=\"Convert this dataframe to an interactive table.\"\n",
              "              style=\"display:none;\">\n",
              "        \n",
              "  <svg xmlns=\"http://www.w3.org/2000/svg\" height=\"24px\"viewBox=\"0 0 24 24\"\n",
              "       width=\"24px\">\n",
              "    <path d=\"M0 0h24v24H0V0z\" fill=\"none\"/>\n",
              "    <path d=\"M18.56 5.44l.94 2.06.94-2.06 2.06-.94-2.06-.94-.94-2.06-.94 2.06-2.06.94zm-11 1L8.5 8.5l.94-2.06 2.06-.94-2.06-.94L8.5 2.5l-.94 2.06-2.06.94zm10 10l.94 2.06.94-2.06 2.06-.94-2.06-.94-.94-2.06-.94 2.06-2.06.94z\"/><path d=\"M17.41 7.96l-1.37-1.37c-.4-.4-.92-.59-1.43-.59-.52 0-1.04.2-1.43.59L10.3 9.45l-7.72 7.72c-.78.78-.78 2.05 0 2.83L4 21.41c.39.39.9.59 1.41.59.51 0 1.02-.2 1.41-.59l7.78-7.78 2.81-2.81c.8-.78.8-2.07 0-2.86zM5.41 20L4 18.59l7.72-7.72 1.47 1.35L5.41 20z\"/>\n",
              "  </svg>\n",
              "      </button>\n",
              "      \n",
              "  <style>\n",
              "    .colab-df-container {\n",
              "      display:flex;\n",
              "      flex-wrap:wrap;\n",
              "      gap: 12px;\n",
              "    }\n",
              "\n",
              "    .colab-df-convert {\n",
              "      background-color: #E8F0FE;\n",
              "      border: none;\n",
              "      border-radius: 50%;\n",
              "      cursor: pointer;\n",
              "      display: none;\n",
              "      fill: #1967D2;\n",
              "      height: 32px;\n",
              "      padding: 0 0 0 0;\n",
              "      width: 32px;\n",
              "    }\n",
              "\n",
              "    .colab-df-convert:hover {\n",
              "      background-color: #E2EBFA;\n",
              "      box-shadow: 0px 1px 2px rgba(60, 64, 67, 0.3), 0px 1px 3px 1px rgba(60, 64, 67, 0.15);\n",
              "      fill: #174EA6;\n",
              "    }\n",
              "\n",
              "    [theme=dark] .colab-df-convert {\n",
              "      background-color: #3B4455;\n",
              "      fill: #D2E3FC;\n",
              "    }\n",
              "\n",
              "    [theme=dark] .colab-df-convert:hover {\n",
              "      background-color: #434B5C;\n",
              "      box-shadow: 0px 1px 3px 1px rgba(0, 0, 0, 0.15);\n",
              "      filter: drop-shadow(0px 1px 2px rgba(0, 0, 0, 0.3));\n",
              "      fill: #FFFFFF;\n",
              "    }\n",
              "  </style>\n",
              "\n",
              "      <script>\n",
              "        const buttonEl =\n",
              "          document.querySelector('#df-eb79c865-e13a-4619-bfab-966b5ac82bdf button.colab-df-convert');\n",
              "        buttonEl.style.display =\n",
              "          google.colab.kernel.accessAllowed ? 'block' : 'none';\n",
              "\n",
              "        async function convertToInteractive(key) {\n",
              "          const element = document.querySelector('#df-eb79c865-e13a-4619-bfab-966b5ac82bdf');\n",
              "          const dataTable =\n",
              "            await google.colab.kernel.invokeFunction('convertToInteractive',\n",
              "                                                     [key], {});\n",
              "          if (!dataTable) return;\n",
              "\n",
              "          const docLinkHtml = 'Like what you see? Visit the ' +\n",
              "            '<a target=\"_blank\" href=https://colab.research.google.com/notebooks/data_table.ipynb>data table notebook</a>'\n",
              "            + ' to learn more about interactive tables.';\n",
              "          element.innerHTML = '';\n",
              "          dataTable['output_type'] = 'display_data';\n",
              "          await google.colab.output.renderOutput(dataTable, element);\n",
              "          const docLink = document.createElement('div');\n",
              "          docLink.innerHTML = docLinkHtml;\n",
              "          element.appendChild(docLink);\n",
              "        }\n",
              "      </script>\n",
              "    </div>\n",
              "  </div>\n",
              "  "
            ]
          },
          "metadata": {},
          "execution_count": 24
        }
      ],
      "source": [
        "score_df.nlargest(5,\"mean_test_score\")"
      ]
    },
    {
      "cell_type": "code",
      "execution_count": 25,
      "metadata": {
        "id": "bNJfLcMnhlaa",
        "colab": {
          "base_uri": "https://localhost:8080/",
          "height": 74
        },
        "outputId": "16c7c5df-4e04-4e5b-936f-0f52dd3033d9"
      },
      "outputs": [
        {
          "output_type": "execute_result",
          "data": {
            "text/plain": [
              "DecisionTreeClassifier(max_depth=3, min_samples_leaf=3, random_state=1)"
            ],
            "text/html": [
              "<style>#sk-container-id-6 {color: black;background-color: white;}#sk-container-id-6 pre{padding: 0;}#sk-container-id-6 div.sk-toggleable {background-color: white;}#sk-container-id-6 label.sk-toggleable__label {cursor: pointer;display: block;width: 100%;margin-bottom: 0;padding: 0.3em;box-sizing: border-box;text-align: center;}#sk-container-id-6 label.sk-toggleable__label-arrow:before {content: \"▸\";float: left;margin-right: 0.25em;color: #696969;}#sk-container-id-6 label.sk-toggleable__label-arrow:hover:before {color: black;}#sk-container-id-6 div.sk-estimator:hover label.sk-toggleable__label-arrow:before {color: black;}#sk-container-id-6 div.sk-toggleable__content {max-height: 0;max-width: 0;overflow: hidden;text-align: left;background-color: #f0f8ff;}#sk-container-id-6 div.sk-toggleable__content pre {margin: 0.2em;color: black;border-radius: 0.25em;background-color: #f0f8ff;}#sk-container-id-6 input.sk-toggleable__control:checked~div.sk-toggleable__content {max-height: 200px;max-width: 100%;overflow: auto;}#sk-container-id-6 input.sk-toggleable__control:checked~label.sk-toggleable__label-arrow:before {content: \"▾\";}#sk-container-id-6 div.sk-estimator input.sk-toggleable__control:checked~label.sk-toggleable__label {background-color: #d4ebff;}#sk-container-id-6 div.sk-label input.sk-toggleable__control:checked~label.sk-toggleable__label {background-color: #d4ebff;}#sk-container-id-6 input.sk-hidden--visually {border: 0;clip: rect(1px 1px 1px 1px);clip: rect(1px, 1px, 1px, 1px);height: 1px;margin: -1px;overflow: hidden;padding: 0;position: absolute;width: 1px;}#sk-container-id-6 div.sk-estimator {font-family: monospace;background-color: #f0f8ff;border: 1px dotted black;border-radius: 0.25em;box-sizing: border-box;margin-bottom: 0.5em;}#sk-container-id-6 div.sk-estimator:hover {background-color: #d4ebff;}#sk-container-id-6 div.sk-parallel-item::after {content: \"\";width: 100%;border-bottom: 1px solid gray;flex-grow: 1;}#sk-container-id-6 div.sk-label:hover label.sk-toggleable__label {background-color: #d4ebff;}#sk-container-id-6 div.sk-serial::before {content: \"\";position: absolute;border-left: 1px solid gray;box-sizing: border-box;top: 0;bottom: 0;left: 50%;z-index: 0;}#sk-container-id-6 div.sk-serial {display: flex;flex-direction: column;align-items: center;background-color: white;padding-right: 0.2em;padding-left: 0.2em;position: relative;}#sk-container-id-6 div.sk-item {position: relative;z-index: 1;}#sk-container-id-6 div.sk-parallel {display: flex;align-items: stretch;justify-content: center;background-color: white;position: relative;}#sk-container-id-6 div.sk-item::before, #sk-container-id-6 div.sk-parallel-item::before {content: \"\";position: absolute;border-left: 1px solid gray;box-sizing: border-box;top: 0;bottom: 0;left: 50%;z-index: -1;}#sk-container-id-6 div.sk-parallel-item {display: flex;flex-direction: column;z-index: 1;position: relative;background-color: white;}#sk-container-id-6 div.sk-parallel-item:first-child::after {align-self: flex-end;width: 50%;}#sk-container-id-6 div.sk-parallel-item:last-child::after {align-self: flex-start;width: 50%;}#sk-container-id-6 div.sk-parallel-item:only-child::after {width: 0;}#sk-container-id-6 div.sk-dashed-wrapped {border: 1px dashed gray;margin: 0 0.4em 0.5em 0.4em;box-sizing: border-box;padding-bottom: 0.4em;background-color: white;}#sk-container-id-6 div.sk-label label {font-family: monospace;font-weight: bold;display: inline-block;line-height: 1.2em;}#sk-container-id-6 div.sk-label-container {text-align: center;}#sk-container-id-6 div.sk-container {/* jupyter's `normalize.less` sets `[hidden] { display: none; }` but bootstrap.min.css set `[hidden] { display: none !important; }` so we also need the `!important` here to be able to override the default hidden behavior on the sphinx rendered scikit-learn.org. See: https://github.com/scikit-learn/scikit-learn/issues/21755 */display: inline-block !important;position: relative;}#sk-container-id-6 div.sk-text-repr-fallback {display: none;}</style><div id=\"sk-container-id-6\" class=\"sk-top-container\"><div class=\"sk-text-repr-fallback\"><pre>DecisionTreeClassifier(max_depth=3, min_samples_leaf=3, random_state=1)</pre><b>In a Jupyter environment, please rerun this cell to show the HTML representation or trust the notebook. <br />On GitHub, the HTML representation is unable to render, please try loading this page with nbviewer.org.</b></div><div class=\"sk-container\" hidden><div class=\"sk-item\"><div class=\"sk-estimator sk-toggleable\"><input class=\"sk-toggleable__control sk-hidden--visually\" id=\"sk-estimator-id-8\" type=\"checkbox\" checked><label for=\"sk-estimator-id-8\" class=\"sk-toggleable__label sk-toggleable__label-arrow\">DecisionTreeClassifier</label><div class=\"sk-toggleable__content\"><pre>DecisionTreeClassifier(max_depth=3, min_samples_leaf=3, random_state=1)</pre></div></div></div></div></div>"
            ]
          },
          "metadata": {},
          "execution_count": 25
        }
      ],
      "source": [
        "grid_search.best_estimator_"
      ]
    },
    {
      "cell_type": "code",
      "execution_count": 26,
      "metadata": {
        "id": "7qoVIZ_ohxNL"
      },
      "outputs": [],
      "source": [
        "dt_best=grid_search.best_estimator_"
      ]
    },
    {
      "cell_type": "code",
      "execution_count": 27,
      "metadata": {
        "id": "vc3ugfcXhpNc",
        "colab": {
          "base_uri": "https://localhost:8080/",
          "height": 597
        },
        "outputId": "9b40ef08-1e46-4825-acb5-df42d03c3b22"
      },
      "outputs": [
        {
          "output_type": "execute_result",
          "data": {
            "image/svg+xml": "<?xml version=\"1.0\" encoding=\"UTF-8\" standalone=\"no\"?>\n<!DOCTYPE svg PUBLIC \"-//W3C//DTD SVG 1.1//EN\"\n \"http://www.w3.org/Graphics/SVG/1.1/DTD/svg11.dtd\">\n<!-- Generated by graphviz version 2.43.0 (0)\n -->\n<!-- Title: Tree Pages: 1 -->\n<svg width=\"553pt\" height=\"433pt\"\n viewBox=\"0.00 0.00 553.00 433.00\" xmlns=\"http://www.w3.org/2000/svg\" xmlns:xlink=\"http://www.w3.org/1999/xlink\">\n<g id=\"graph0\" class=\"graph\" transform=\"scale(1 1) rotate(0) translate(4 429)\">\n<title>Tree</title>\n<polygon fill=\"white\" stroke=\"transparent\" points=\"-4,4 -4,-429 549,-429 549,4 -4,4\"/>\n<!-- 0 -->\n<g id=\"node1\" class=\"node\">\n<title>0</title>\n<polygon fill=\"#f7f3fd\" stroke=\"black\" points=\"273,-425 118,-425 118,-342 273,-342 273,-425\"/>\n<text text-anchor=\"middle\" x=\"195.5\" y=\"-409.8\" font-family=\"Helvetica,sans-Serif\" font-size=\"14.00\">petal width (cm) &lt;= 0.8</text>\n<text text-anchor=\"middle\" x=\"195.5\" y=\"-394.8\" font-family=\"Helvetica,sans-Serif\" font-size=\"14.00\">gini = 0.665</text>\n<text text-anchor=\"middle\" x=\"195.5\" y=\"-379.8\" font-family=\"Helvetica,sans-Serif\" font-size=\"14.00\">samples = 120</text>\n<text text-anchor=\"middle\" x=\"195.5\" y=\"-364.8\" font-family=\"Helvetica,sans-Serif\" font-size=\"14.00\">value = [39, 37, 44]</text>\n<text text-anchor=\"middle\" x=\"195.5\" y=\"-349.8\" font-family=\"Helvetica,sans-Serif\" font-size=\"14.00\">class = virginica</text>\n</g>\n<!-- 1 -->\n<g id=\"node2\" class=\"node\">\n<title>1</title>\n<polygon fill=\"#e58139\" stroke=\"black\" points=\"175,-298.5 58,-298.5 58,-230.5 175,-230.5 175,-298.5\"/>\n<text text-anchor=\"middle\" x=\"116.5\" y=\"-283.3\" font-family=\"Helvetica,sans-Serif\" font-size=\"14.00\">gini = 0.0</text>\n<text text-anchor=\"middle\" x=\"116.5\" y=\"-268.3\" font-family=\"Helvetica,sans-Serif\" font-size=\"14.00\">samples = 39</text>\n<text text-anchor=\"middle\" x=\"116.5\" y=\"-253.3\" font-family=\"Helvetica,sans-Serif\" font-size=\"14.00\">value = [39, 0, 0]</text>\n<text text-anchor=\"middle\" x=\"116.5\" y=\"-238.3\" font-family=\"Helvetica,sans-Serif\" font-size=\"14.00\">class = setosa</text>\n</g>\n<!-- 0&#45;&gt;1 -->\n<g id=\"edge1\" class=\"edge\">\n<title>0&#45;&gt;1</title>\n<path fill=\"none\" stroke=\"black\" d=\"M168.09,-341.91C160.49,-330.65 152.23,-318.42 144.59,-307.11\"/>\n<polygon fill=\"black\" stroke=\"black\" points=\"147.39,-305 138.89,-298.67 141.59,-308.91 147.39,-305\"/>\n<text text-anchor=\"middle\" x=\"134.14\" y=\"-319.51\" font-family=\"Helvetica,sans-Serif\" font-size=\"14.00\">True</text>\n</g>\n<!-- 2 -->\n<g id=\"node3\" class=\"node\">\n<title>2</title>\n<polygon fill=\"#ebe0fb\" stroke=\"black\" points=\"356,-306 193,-306 193,-223 356,-223 356,-306\"/>\n<text text-anchor=\"middle\" x=\"274.5\" y=\"-290.8\" font-family=\"Helvetica,sans-Serif\" font-size=\"14.00\">petal width (cm) &lt;= 1.65</text>\n<text text-anchor=\"middle\" x=\"274.5\" y=\"-275.8\" font-family=\"Helvetica,sans-Serif\" font-size=\"14.00\">gini = 0.496</text>\n<text text-anchor=\"middle\" x=\"274.5\" y=\"-260.8\" font-family=\"Helvetica,sans-Serif\" font-size=\"14.00\">samples = 81</text>\n<text text-anchor=\"middle\" x=\"274.5\" y=\"-245.8\" font-family=\"Helvetica,sans-Serif\" font-size=\"14.00\">value = [0, 37, 44]</text>\n<text text-anchor=\"middle\" x=\"274.5\" y=\"-230.8\" font-family=\"Helvetica,sans-Serif\" font-size=\"14.00\">class = virginica</text>\n</g>\n<!-- 0&#45;&gt;2 -->\n<g id=\"edge2\" class=\"edge\">\n<title>0&#45;&gt;2</title>\n<path fill=\"none\" stroke=\"black\" d=\"M222.91,-341.91C228.91,-333.01 235.33,-323.51 241.53,-314.33\"/>\n<polygon fill=\"black\" stroke=\"black\" points=\"244.44,-316.27 247.14,-306.02 238.64,-312.35 244.44,-316.27\"/>\n<text text-anchor=\"middle\" x=\"251.9\" y=\"-326.86\" font-family=\"Helvetica,sans-Serif\" font-size=\"14.00\">False</text>\n</g>\n<!-- 3 -->\n<g id=\"node4\" class=\"node\">\n<title>3</title>\n<polygon fill=\"#4fe88f\" stroke=\"black\" points=\"265.5,-187 97.5,-187 97.5,-104 265.5,-104 265.5,-187\"/>\n<text text-anchor=\"middle\" x=\"181.5\" y=\"-171.8\" font-family=\"Helvetica,sans-Serif\" font-size=\"14.00\">petal length (cm) &lt;= 4.95</text>\n<text text-anchor=\"middle\" x=\"181.5\" y=\"-156.8\" font-family=\"Helvetica,sans-Serif\" font-size=\"14.00\">gini = 0.18</text>\n<text text-anchor=\"middle\" x=\"181.5\" y=\"-141.8\" font-family=\"Helvetica,sans-Serif\" font-size=\"14.00\">samples = 40</text>\n<text text-anchor=\"middle\" x=\"181.5\" y=\"-126.8\" font-family=\"Helvetica,sans-Serif\" font-size=\"14.00\">value = [0, 36, 4]</text>\n<text text-anchor=\"middle\" x=\"181.5\" y=\"-111.8\" font-family=\"Helvetica,sans-Serif\" font-size=\"14.00\">class = versicolor</text>\n</g>\n<!-- 2&#45;&gt;3 -->\n<g id=\"edge3\" class=\"edge\">\n<title>2&#45;&gt;3</title>\n<path fill=\"none\" stroke=\"black\" d=\"M242.23,-222.91C235.09,-213.92 227.46,-204.32 220.09,-195.05\"/>\n<polygon fill=\"black\" stroke=\"black\" points=\"222.67,-192.67 213.71,-187.02 217.19,-197.03 222.67,-192.67\"/>\n</g>\n<!-- 6 -->\n<g id=\"node7\" class=\"node\">\n<title>6</title>\n<polygon fill=\"#843ee6\" stroke=\"black\" points=\"451.5,-187 283.5,-187 283.5,-104 451.5,-104 451.5,-187\"/>\n<text text-anchor=\"middle\" x=\"367.5\" y=\"-171.8\" font-family=\"Helvetica,sans-Serif\" font-size=\"14.00\">petal length (cm) &lt;= 4.85</text>\n<text text-anchor=\"middle\" x=\"367.5\" y=\"-156.8\" font-family=\"Helvetica,sans-Serif\" font-size=\"14.00\">gini = 0.048</text>\n<text text-anchor=\"middle\" x=\"367.5\" y=\"-141.8\" font-family=\"Helvetica,sans-Serif\" font-size=\"14.00\">samples = 41</text>\n<text text-anchor=\"middle\" x=\"367.5\" y=\"-126.8\" font-family=\"Helvetica,sans-Serif\" font-size=\"14.00\">value = [0, 1, 40]</text>\n<text text-anchor=\"middle\" x=\"367.5\" y=\"-111.8\" font-family=\"Helvetica,sans-Serif\" font-size=\"14.00\">class = virginica</text>\n</g>\n<!-- 2&#45;&gt;6 -->\n<g id=\"edge6\" class=\"edge\">\n<title>2&#45;&gt;6</title>\n<path fill=\"none\" stroke=\"black\" d=\"M306.77,-222.91C313.91,-213.92 321.54,-204.32 328.91,-195.05\"/>\n<polygon fill=\"black\" stroke=\"black\" points=\"331.81,-197.03 335.29,-187.02 326.33,-192.67 331.81,-197.03\"/>\n</g>\n<!-- 4 -->\n<g id=\"node5\" class=\"node\">\n<title>4</title>\n<polygon fill=\"#39e581\" stroke=\"black\" points=\"121,-68 0,-68 0,0 121,0 121,-68\"/>\n<text text-anchor=\"middle\" x=\"60.5\" y=\"-52.8\" font-family=\"Helvetica,sans-Serif\" font-size=\"14.00\">gini = 0.0</text>\n<text text-anchor=\"middle\" x=\"60.5\" y=\"-37.8\" font-family=\"Helvetica,sans-Serif\" font-size=\"14.00\">samples = 35</text>\n<text text-anchor=\"middle\" x=\"60.5\" y=\"-22.8\" font-family=\"Helvetica,sans-Serif\" font-size=\"14.00\">value = [0, 35, 0]</text>\n<text text-anchor=\"middle\" x=\"60.5\" y=\"-7.8\" font-family=\"Helvetica,sans-Serif\" font-size=\"14.00\">class = versicolor</text>\n</g>\n<!-- 3&#45;&gt;4 -->\n<g id=\"edge4\" class=\"edge\">\n<title>3&#45;&gt;4</title>\n<path fill=\"none\" stroke=\"black\" d=\"M136.44,-103.73C126.16,-94.42 115.25,-84.54 104.99,-75.26\"/>\n<polygon fill=\"black\" stroke=\"black\" points=\"107.06,-72.41 97.3,-68.3 102.36,-77.6 107.06,-72.41\"/>\n</g>\n<!-- 5 -->\n<g id=\"node6\" class=\"node\">\n<title>5</title>\n<polygon fill=\"#a06aec\" stroke=\"black\" points=\"252,-68 139,-68 139,0 252,0 252,-68\"/>\n<text text-anchor=\"middle\" x=\"195.5\" y=\"-52.8\" font-family=\"Helvetica,sans-Serif\" font-size=\"14.00\">gini = 0.32</text>\n<text text-anchor=\"middle\" x=\"195.5\" y=\"-37.8\" font-family=\"Helvetica,sans-Serif\" font-size=\"14.00\">samples = 5</text>\n<text text-anchor=\"middle\" x=\"195.5\" y=\"-22.8\" font-family=\"Helvetica,sans-Serif\" font-size=\"14.00\">value = [0, 1, 4]</text>\n<text text-anchor=\"middle\" x=\"195.5\" y=\"-7.8\" font-family=\"Helvetica,sans-Serif\" font-size=\"14.00\">class = virginica</text>\n</g>\n<!-- 3&#45;&gt;5 -->\n<g id=\"edge5\" class=\"edge\">\n<title>3&#45;&gt;5</title>\n<path fill=\"none\" stroke=\"black\" d=\"M186.71,-103.73C187.77,-95.43 188.89,-86.67 189.97,-78.28\"/>\n<polygon fill=\"black\" stroke=\"black\" points=\"193.45,-78.66 191.24,-68.3 186.5,-77.77 193.45,-78.66\"/>\n</g>\n<!-- 7 -->\n<g id=\"node8\" class=\"node\">\n<title>7</title>\n<polygon fill=\"#ab7bee\" stroke=\"black\" points=\"410,-68 297,-68 297,0 410,0 410,-68\"/>\n<text text-anchor=\"middle\" x=\"353.5\" y=\"-52.8\" font-family=\"Helvetica,sans-Serif\" font-size=\"14.00\">gini = 0.375</text>\n<text text-anchor=\"middle\" x=\"353.5\" y=\"-37.8\" font-family=\"Helvetica,sans-Serif\" font-size=\"14.00\">samples = 4</text>\n<text text-anchor=\"middle\" x=\"353.5\" y=\"-22.8\" font-family=\"Helvetica,sans-Serif\" font-size=\"14.00\">value = [0, 1, 3]</text>\n<text text-anchor=\"middle\" x=\"353.5\" y=\"-7.8\" font-family=\"Helvetica,sans-Serif\" font-size=\"14.00\">class = virginica</text>\n</g>\n<!-- 6&#45;&gt;7 -->\n<g id=\"edge7\" class=\"edge\">\n<title>6&#45;&gt;7</title>\n<path fill=\"none\" stroke=\"black\" d=\"M362.29,-103.73C361.23,-95.43 360.11,-86.67 359.03,-78.28\"/>\n<polygon fill=\"black\" stroke=\"black\" points=\"362.5,-77.77 357.76,-68.3 355.55,-78.66 362.5,-77.77\"/>\n</g>\n<!-- 8 -->\n<g id=\"node9\" class=\"node\">\n<title>8</title>\n<polygon fill=\"#8139e5\" stroke=\"black\" points=\"545,-68 428,-68 428,0 545,0 545,-68\"/>\n<text text-anchor=\"middle\" x=\"486.5\" y=\"-52.8\" font-family=\"Helvetica,sans-Serif\" font-size=\"14.00\">gini = 0.0</text>\n<text text-anchor=\"middle\" x=\"486.5\" y=\"-37.8\" font-family=\"Helvetica,sans-Serif\" font-size=\"14.00\">samples = 37</text>\n<text text-anchor=\"middle\" x=\"486.5\" y=\"-22.8\" font-family=\"Helvetica,sans-Serif\" font-size=\"14.00\">value = [0, 0, 37]</text>\n<text text-anchor=\"middle\" x=\"486.5\" y=\"-7.8\" font-family=\"Helvetica,sans-Serif\" font-size=\"14.00\">class = virginica</text>\n</g>\n<!-- 6&#45;&gt;8 -->\n<g id=\"edge8\" class=\"edge\">\n<title>6&#45;&gt;8</title>\n<path fill=\"none\" stroke=\"black\" d=\"M411.81,-103.73C421.92,-94.42 432.66,-84.54 442.75,-75.26\"/>\n<polygon fill=\"black\" stroke=\"black\" points=\"445.32,-77.65 450.31,-68.3 440.58,-72.5 445.32,-77.65\"/>\n</g>\n</g>\n</svg>\n",
            "text/plain": [
              "<graphviz.sources.Source at 0x7f444470be50>"
            ]
          },
          "metadata": {},
          "execution_count": 27
        }
      ],
      "source": [
        "export_graphviz(dt_best, out_file=\"tree.dot\", \n",
        "                class_names = iris.target_names, \n",
        "                feature_names = iris.feature_names, \n",
        "                impurity=True, filled=True)\n",
        "\n",
        "with open(\"tree.dot\") as f:\n",
        "    dot_graph = f.read()\n",
        "graphviz.Source(dot_graph)"
      ]
    },
    {
      "cell_type": "markdown",
      "metadata": {
        "id": "Hf3OnEofdCOF"
      },
      "source": [
        "# **퀴즈 1**\n",
        "\n",
        "\n",
        "*   최대 깊이가 4인 Decision Tree를 시각화하시오. (단, gini index가 아닌 entropy를 사용할 것)\n"
      ]
    },
    {
      "cell_type": "code",
      "source": [
        "iris = load_iris()\n",
        "iris_df = pd.DataFrame(iris.data, columns=iris.feature_names)\n",
        "iris_df['species'] = iris.target\n",
        "iris_df.head()"
      ],
      "metadata": {
        "id": "ldIzNGaK3B2A",
        "colab": {
          "base_uri": "https://localhost:8080/",
          "height": 206
        },
        "outputId": "07c6e1a6-6cf3-43a0-cd35-993ed0deb66f"
      },
      "execution_count": 29,
      "outputs": [
        {
          "output_type": "execute_result",
          "data": {
            "text/plain": [
              "   sepal length (cm)  sepal width (cm)  petal length (cm)  petal width (cm)  \\\n",
              "0                5.1               3.5                1.4               0.2   \n",
              "1                4.9               3.0                1.4               0.2   \n",
              "2                4.7               3.2                1.3               0.2   \n",
              "3                4.6               3.1                1.5               0.2   \n",
              "4                5.0               3.6                1.4               0.2   \n",
              "\n",
              "   species  \n",
              "0        0  \n",
              "1        0  \n",
              "2        0  \n",
              "3        0  \n",
              "4        0  "
            ],
            "text/html": [
              "\n",
              "  <div id=\"df-6fb10488-11b3-43e1-aa55-9ed48d790828\">\n",
              "    <div class=\"colab-df-container\">\n",
              "      <div>\n",
              "<style scoped>\n",
              "    .dataframe tbody tr th:only-of-type {\n",
              "        vertical-align: middle;\n",
              "    }\n",
              "\n",
              "    .dataframe tbody tr th {\n",
              "        vertical-align: top;\n",
              "    }\n",
              "\n",
              "    .dataframe thead th {\n",
              "        text-align: right;\n",
              "    }\n",
              "</style>\n",
              "<table border=\"1\" class=\"dataframe\">\n",
              "  <thead>\n",
              "    <tr style=\"text-align: right;\">\n",
              "      <th></th>\n",
              "      <th>sepal length (cm)</th>\n",
              "      <th>sepal width (cm)</th>\n",
              "      <th>petal length (cm)</th>\n",
              "      <th>petal width (cm)</th>\n",
              "      <th>species</th>\n",
              "    </tr>\n",
              "  </thead>\n",
              "  <tbody>\n",
              "    <tr>\n",
              "      <th>0</th>\n",
              "      <td>5.1</td>\n",
              "      <td>3.5</td>\n",
              "      <td>1.4</td>\n",
              "      <td>0.2</td>\n",
              "      <td>0</td>\n",
              "    </tr>\n",
              "    <tr>\n",
              "      <th>1</th>\n",
              "      <td>4.9</td>\n",
              "      <td>3.0</td>\n",
              "      <td>1.4</td>\n",
              "      <td>0.2</td>\n",
              "      <td>0</td>\n",
              "    </tr>\n",
              "    <tr>\n",
              "      <th>2</th>\n",
              "      <td>4.7</td>\n",
              "      <td>3.2</td>\n",
              "      <td>1.3</td>\n",
              "      <td>0.2</td>\n",
              "      <td>0</td>\n",
              "    </tr>\n",
              "    <tr>\n",
              "      <th>3</th>\n",
              "      <td>4.6</td>\n",
              "      <td>3.1</td>\n",
              "      <td>1.5</td>\n",
              "      <td>0.2</td>\n",
              "      <td>0</td>\n",
              "    </tr>\n",
              "    <tr>\n",
              "      <th>4</th>\n",
              "      <td>5.0</td>\n",
              "      <td>3.6</td>\n",
              "      <td>1.4</td>\n",
              "      <td>0.2</td>\n",
              "      <td>0</td>\n",
              "    </tr>\n",
              "  </tbody>\n",
              "</table>\n",
              "</div>\n",
              "      <button class=\"colab-df-convert\" onclick=\"convertToInteractive('df-6fb10488-11b3-43e1-aa55-9ed48d790828')\"\n",
              "              title=\"Convert this dataframe to an interactive table.\"\n",
              "              style=\"display:none;\">\n",
              "        \n",
              "  <svg xmlns=\"http://www.w3.org/2000/svg\" height=\"24px\"viewBox=\"0 0 24 24\"\n",
              "       width=\"24px\">\n",
              "    <path d=\"M0 0h24v24H0V0z\" fill=\"none\"/>\n",
              "    <path d=\"M18.56 5.44l.94 2.06.94-2.06 2.06-.94-2.06-.94-.94-2.06-.94 2.06-2.06.94zm-11 1L8.5 8.5l.94-2.06 2.06-.94-2.06-.94L8.5 2.5l-.94 2.06-2.06.94zm10 10l.94 2.06.94-2.06 2.06-.94-2.06-.94-.94-2.06-.94 2.06-2.06.94z\"/><path d=\"M17.41 7.96l-1.37-1.37c-.4-.4-.92-.59-1.43-.59-.52 0-1.04.2-1.43.59L10.3 9.45l-7.72 7.72c-.78.78-.78 2.05 0 2.83L4 21.41c.39.39.9.59 1.41.59.51 0 1.02-.2 1.41-.59l7.78-7.78 2.81-2.81c.8-.78.8-2.07 0-2.86zM5.41 20L4 18.59l7.72-7.72 1.47 1.35L5.41 20z\"/>\n",
              "  </svg>\n",
              "      </button>\n",
              "      \n",
              "  <style>\n",
              "    .colab-df-container {\n",
              "      display:flex;\n",
              "      flex-wrap:wrap;\n",
              "      gap: 12px;\n",
              "    }\n",
              "\n",
              "    .colab-df-convert {\n",
              "      background-color: #E8F0FE;\n",
              "      border: none;\n",
              "      border-radius: 50%;\n",
              "      cursor: pointer;\n",
              "      display: none;\n",
              "      fill: #1967D2;\n",
              "      height: 32px;\n",
              "      padding: 0 0 0 0;\n",
              "      width: 32px;\n",
              "    }\n",
              "\n",
              "    .colab-df-convert:hover {\n",
              "      background-color: #E2EBFA;\n",
              "      box-shadow: 0px 1px 2px rgba(60, 64, 67, 0.3), 0px 1px 3px 1px rgba(60, 64, 67, 0.15);\n",
              "      fill: #174EA6;\n",
              "    }\n",
              "\n",
              "    [theme=dark] .colab-df-convert {\n",
              "      background-color: #3B4455;\n",
              "      fill: #D2E3FC;\n",
              "    }\n",
              "\n",
              "    [theme=dark] .colab-df-convert:hover {\n",
              "      background-color: #434B5C;\n",
              "      box-shadow: 0px 1px 3px 1px rgba(0, 0, 0, 0.15);\n",
              "      filter: drop-shadow(0px 1px 2px rgba(0, 0, 0, 0.3));\n",
              "      fill: #FFFFFF;\n",
              "    }\n",
              "  </style>\n",
              "\n",
              "      <script>\n",
              "        const buttonEl =\n",
              "          document.querySelector('#df-6fb10488-11b3-43e1-aa55-9ed48d790828 button.colab-df-convert');\n",
              "        buttonEl.style.display =\n",
              "          google.colab.kernel.accessAllowed ? 'block' : 'none';\n",
              "\n",
              "        async function convertToInteractive(key) {\n",
              "          const element = document.querySelector('#df-6fb10488-11b3-43e1-aa55-9ed48d790828');\n",
              "          const dataTable =\n",
              "            await google.colab.kernel.invokeFunction('convertToInteractive',\n",
              "                                                     [key], {});\n",
              "          if (!dataTable) return;\n",
              "\n",
              "          const docLinkHtml = 'Like what you see? Visit the ' +\n",
              "            '<a target=\"_blank\" href=https://colab.research.google.com/notebooks/data_table.ipynb>data table notebook</a>'\n",
              "            + ' to learn more about interactive tables.';\n",
              "          element.innerHTML = '';\n",
              "          dataTable['output_type'] = 'display_data';\n",
              "          await google.colab.output.renderOutput(dataTable, element);\n",
              "          const docLink = document.createElement('div');\n",
              "          docLink.innerHTML = docLinkHtml;\n",
              "          element.appendChild(docLink);\n",
              "        }\n",
              "      </script>\n",
              "    </div>\n",
              "  </div>\n",
              "  "
            ]
          },
          "metadata": {},
          "execution_count": 29
        }
      ]
    },
    {
      "cell_type": "code",
      "source": [
        "X_train, X_test, Y_train, Y_test = train_test_split(iris.data, iris.target, test_size=0.2, random_state=1)\n",
        "\n",
        "Decision_Tree = DecisionTreeClassifier()\n",
        "Decision_Tree.fit(X_train, Y_train)\n",
        "\n",
        "Y_pred = Decision_Tree.predict(X_test)\n",
        "\n",
        "print(f'True : {Y_test}\\nPred : {Y_pred}')"
      ],
      "metadata": {
        "colab": {
          "base_uri": "https://localhost:8080/"
        },
        "id": "FtkMVye314pm",
        "outputId": "e6a9e8d1-5548-41ab-bca9-d5e72852dec7"
      },
      "execution_count": 30,
      "outputs": [
        {
          "output_type": "stream",
          "name": "stdout",
          "text": [
            "True : [0 1 1 0 2 1 2 0 0 2 1 0 2 1 1 0 1 1 0 0 1 1 1 0 2 1 0 0 1 2]\n",
            "Pred : [0 1 1 0 2 1 2 0 0 2 1 0 2 1 1 0 1 1 0 0 1 1 2 0 2 1 0 0 1 2]\n"
          ]
        }
      ]
    },
    {
      "cell_type": "code",
      "source": [
        "print(\"Accuracy:\",metrics.accuracy_score(Y_test, Y_pred))"
      ],
      "metadata": {
        "colab": {
          "base_uri": "https://localhost:8080/"
        },
        "id": "1UvKAsRn14sH",
        "outputId": "8eb0f6c7-9477-4a2a-ffba-2f40d9eb116b"
      },
      "execution_count": 31,
      "outputs": [
        {
          "output_type": "stream",
          "name": "stdout",
          "text": [
            "Accuracy: 0.9666666666666667\n"
          ]
        }
      ]
    },
    {
      "cell_type": "code",
      "source": [
        "Decision_Tree_md2 = DecisionTreeClassifier(max_depth=4 ,random_state=1, criterion=\"entropy\")\n",
        "Decision_Tree_md2.fit(X_train, Y_train)"
      ],
      "metadata": {
        "colab": {
          "base_uri": "https://localhost:8080/",
          "height": 74
        },
        "id": "lVpgaJWd14ub",
        "outputId": "0ad6e876-25af-4ef8-9864-acc01e984cf2"
      },
      "execution_count": 32,
      "outputs": [
        {
          "output_type": "execute_result",
          "data": {
            "text/plain": [
              "DecisionTreeClassifier(criterion='entropy', max_depth=4, random_state=1)"
            ],
            "text/html": [
              "<style>#sk-container-id-7 {color: black;background-color: white;}#sk-container-id-7 pre{padding: 0;}#sk-container-id-7 div.sk-toggleable {background-color: white;}#sk-container-id-7 label.sk-toggleable__label {cursor: pointer;display: block;width: 100%;margin-bottom: 0;padding: 0.3em;box-sizing: border-box;text-align: center;}#sk-container-id-7 label.sk-toggleable__label-arrow:before {content: \"▸\";float: left;margin-right: 0.25em;color: #696969;}#sk-container-id-7 label.sk-toggleable__label-arrow:hover:before {color: black;}#sk-container-id-7 div.sk-estimator:hover label.sk-toggleable__label-arrow:before {color: black;}#sk-container-id-7 div.sk-toggleable__content {max-height: 0;max-width: 0;overflow: hidden;text-align: left;background-color: #f0f8ff;}#sk-container-id-7 div.sk-toggleable__content pre {margin: 0.2em;color: black;border-radius: 0.25em;background-color: #f0f8ff;}#sk-container-id-7 input.sk-toggleable__control:checked~div.sk-toggleable__content {max-height: 200px;max-width: 100%;overflow: auto;}#sk-container-id-7 input.sk-toggleable__control:checked~label.sk-toggleable__label-arrow:before {content: \"▾\";}#sk-container-id-7 div.sk-estimator input.sk-toggleable__control:checked~label.sk-toggleable__label {background-color: #d4ebff;}#sk-container-id-7 div.sk-label input.sk-toggleable__control:checked~label.sk-toggleable__label {background-color: #d4ebff;}#sk-container-id-7 input.sk-hidden--visually {border: 0;clip: rect(1px 1px 1px 1px);clip: rect(1px, 1px, 1px, 1px);height: 1px;margin: -1px;overflow: hidden;padding: 0;position: absolute;width: 1px;}#sk-container-id-7 div.sk-estimator {font-family: monospace;background-color: #f0f8ff;border: 1px dotted black;border-radius: 0.25em;box-sizing: border-box;margin-bottom: 0.5em;}#sk-container-id-7 div.sk-estimator:hover {background-color: #d4ebff;}#sk-container-id-7 div.sk-parallel-item::after {content: \"\";width: 100%;border-bottom: 1px solid gray;flex-grow: 1;}#sk-container-id-7 div.sk-label:hover label.sk-toggleable__label {background-color: #d4ebff;}#sk-container-id-7 div.sk-serial::before {content: \"\";position: absolute;border-left: 1px solid gray;box-sizing: border-box;top: 0;bottom: 0;left: 50%;z-index: 0;}#sk-container-id-7 div.sk-serial {display: flex;flex-direction: column;align-items: center;background-color: white;padding-right: 0.2em;padding-left: 0.2em;position: relative;}#sk-container-id-7 div.sk-item {position: relative;z-index: 1;}#sk-container-id-7 div.sk-parallel {display: flex;align-items: stretch;justify-content: center;background-color: white;position: relative;}#sk-container-id-7 div.sk-item::before, #sk-container-id-7 div.sk-parallel-item::before {content: \"\";position: absolute;border-left: 1px solid gray;box-sizing: border-box;top: 0;bottom: 0;left: 50%;z-index: -1;}#sk-container-id-7 div.sk-parallel-item {display: flex;flex-direction: column;z-index: 1;position: relative;background-color: white;}#sk-container-id-7 div.sk-parallel-item:first-child::after {align-self: flex-end;width: 50%;}#sk-container-id-7 div.sk-parallel-item:last-child::after {align-self: flex-start;width: 50%;}#sk-container-id-7 div.sk-parallel-item:only-child::after {width: 0;}#sk-container-id-7 div.sk-dashed-wrapped {border: 1px dashed gray;margin: 0 0.4em 0.5em 0.4em;box-sizing: border-box;padding-bottom: 0.4em;background-color: white;}#sk-container-id-7 div.sk-label label {font-family: monospace;font-weight: bold;display: inline-block;line-height: 1.2em;}#sk-container-id-7 div.sk-label-container {text-align: center;}#sk-container-id-7 div.sk-container {/* jupyter's `normalize.less` sets `[hidden] { display: none; }` but bootstrap.min.css set `[hidden] { display: none !important; }` so we also need the `!important` here to be able to override the default hidden behavior on the sphinx rendered scikit-learn.org. See: https://github.com/scikit-learn/scikit-learn/issues/21755 */display: inline-block !important;position: relative;}#sk-container-id-7 div.sk-text-repr-fallback {display: none;}</style><div id=\"sk-container-id-7\" class=\"sk-top-container\"><div class=\"sk-text-repr-fallback\"><pre>DecisionTreeClassifier(criterion=&#x27;entropy&#x27;, max_depth=4, random_state=1)</pre><b>In a Jupyter environment, please rerun this cell to show the HTML representation or trust the notebook. <br />On GitHub, the HTML representation is unable to render, please try loading this page with nbviewer.org.</b></div><div class=\"sk-container\" hidden><div class=\"sk-item\"><div class=\"sk-estimator sk-toggleable\"><input class=\"sk-toggleable__control sk-hidden--visually\" id=\"sk-estimator-id-9\" type=\"checkbox\" checked><label for=\"sk-estimator-id-9\" class=\"sk-toggleable__label sk-toggleable__label-arrow\">DecisionTreeClassifier</label><div class=\"sk-toggleable__content\"><pre>DecisionTreeClassifier(criterion=&#x27;entropy&#x27;, max_depth=4, random_state=1)</pre></div></div></div></div></div>"
            ]
          },
          "metadata": {},
          "execution_count": 32
        }
      ]
    },
    {
      "cell_type": "code",
      "source": [
        "export_graphviz(Decision_Tree_md2, out_file=\"tree.dot\", \n",
        "                class_names = iris.target_names, \n",
        "                feature_names = iris.feature_names, \n",
        "                impurity=True, filled=True)\n",
        "\n",
        "with open(\"tree.dot\") as f:\n",
        "    dot_graph = f.read()\n",
        "graphviz.Source(dot_graph)"
      ],
      "metadata": {
        "colab": {
          "base_uri": "https://localhost:8080/",
          "height": 756
        },
        "id": "2qnyWy122FW8",
        "outputId": "3b5ca000-58c4-492d-a638-f4b531167649"
      },
      "execution_count": 33,
      "outputs": [
        {
          "output_type": "execute_result",
          "data": {
            "image/svg+xml": "<?xml version=\"1.0\" encoding=\"UTF-8\" standalone=\"no\"?>\n<!DOCTYPE svg PUBLIC \"-//W3C//DTD SVG 1.1//EN\"\n \"http://www.w3.org/Graphics/SVG/1.1/DTD/svg11.dtd\">\n<!-- Generated by graphviz version 2.43.0 (0)\n -->\n<!-- Title: Tree Pages: 1 -->\n<svg width=\"631pt\" height=\"552pt\"\n viewBox=\"0.00 0.00 631.00 552.00\" xmlns=\"http://www.w3.org/2000/svg\" xmlns:xlink=\"http://www.w3.org/1999/xlink\">\n<g id=\"graph0\" class=\"graph\" transform=\"scale(1 1) rotate(0) translate(4 548)\">\n<title>Tree</title>\n<polygon fill=\"white\" stroke=\"transparent\" points=\"-4,4 -4,-548 627,-548 627,4 -4,4\"/>\n<!-- 0 -->\n<g id=\"node1\" class=\"node\">\n<title>0</title>\n<polygon fill=\"#f7f3fd\" stroke=\"black\" points=\"315,-544 160,-544 160,-461 315,-461 315,-544\"/>\n<text text-anchor=\"middle\" x=\"237.5\" y=\"-528.8\" font-family=\"Helvetica,sans-Serif\" font-size=\"14.00\">petal width (cm) &lt;= 0.8</text>\n<text text-anchor=\"middle\" x=\"237.5\" y=\"-513.8\" font-family=\"Helvetica,sans-Serif\" font-size=\"14.00\">entropy = 1.581</text>\n<text text-anchor=\"middle\" x=\"237.5\" y=\"-498.8\" font-family=\"Helvetica,sans-Serif\" font-size=\"14.00\">samples = 120</text>\n<text text-anchor=\"middle\" x=\"237.5\" y=\"-483.8\" font-family=\"Helvetica,sans-Serif\" font-size=\"14.00\">value = [39, 37, 44]</text>\n<text text-anchor=\"middle\" x=\"237.5\" y=\"-468.8\" font-family=\"Helvetica,sans-Serif\" font-size=\"14.00\">class = virginica</text>\n</g>\n<!-- 1 -->\n<g id=\"node2\" class=\"node\">\n<title>1</title>\n<polygon fill=\"#e58139\" stroke=\"black\" points=\"217,-417.5 100,-417.5 100,-349.5 217,-349.5 217,-417.5\"/>\n<text text-anchor=\"middle\" x=\"158.5\" y=\"-402.3\" font-family=\"Helvetica,sans-Serif\" font-size=\"14.00\">entropy = 0.0</text>\n<text text-anchor=\"middle\" x=\"158.5\" y=\"-387.3\" font-family=\"Helvetica,sans-Serif\" font-size=\"14.00\">samples = 39</text>\n<text text-anchor=\"middle\" x=\"158.5\" y=\"-372.3\" font-family=\"Helvetica,sans-Serif\" font-size=\"14.00\">value = [39, 0, 0]</text>\n<text text-anchor=\"middle\" x=\"158.5\" y=\"-357.3\" font-family=\"Helvetica,sans-Serif\" font-size=\"14.00\">class = setosa</text>\n</g>\n<!-- 0&#45;&gt;1 -->\n<g id=\"edge1\" class=\"edge\">\n<title>0&#45;&gt;1</title>\n<path fill=\"none\" stroke=\"black\" d=\"M210.09,-460.91C202.49,-449.65 194.23,-437.42 186.59,-426.11\"/>\n<polygon fill=\"black\" stroke=\"black\" points=\"189.39,-424 180.89,-417.67 183.59,-427.91 189.39,-424\"/>\n<text text-anchor=\"middle\" x=\"176.14\" y=\"-438.51\" font-family=\"Helvetica,sans-Serif\" font-size=\"14.00\">True</text>\n</g>\n<!-- 2 -->\n<g id=\"node3\" class=\"node\">\n<title>2</title>\n<polygon fill=\"#ebe0fb\" stroke=\"black\" points=\"398,-425 235,-425 235,-342 398,-342 398,-425\"/>\n<text text-anchor=\"middle\" x=\"316.5\" y=\"-409.8\" font-family=\"Helvetica,sans-Serif\" font-size=\"14.00\">petal width (cm) &lt;= 1.65</text>\n<text text-anchor=\"middle\" x=\"316.5\" y=\"-394.8\" font-family=\"Helvetica,sans-Serif\" font-size=\"14.00\">entropy = 0.995</text>\n<text text-anchor=\"middle\" x=\"316.5\" y=\"-379.8\" font-family=\"Helvetica,sans-Serif\" font-size=\"14.00\">samples = 81</text>\n<text text-anchor=\"middle\" x=\"316.5\" y=\"-364.8\" font-family=\"Helvetica,sans-Serif\" font-size=\"14.00\">value = [0, 37, 44]</text>\n<text text-anchor=\"middle\" x=\"316.5\" y=\"-349.8\" font-family=\"Helvetica,sans-Serif\" font-size=\"14.00\">class = virginica</text>\n</g>\n<!-- 0&#45;&gt;2 -->\n<g id=\"edge2\" class=\"edge\">\n<title>0&#45;&gt;2</title>\n<path fill=\"none\" stroke=\"black\" d=\"M264.91,-460.91C270.91,-452.01 277.33,-442.51 283.53,-433.33\"/>\n<polygon fill=\"black\" stroke=\"black\" points=\"286.44,-435.27 289.14,-425.02 280.64,-431.35 286.44,-435.27\"/>\n<text text-anchor=\"middle\" x=\"293.9\" y=\"-445.86\" font-family=\"Helvetica,sans-Serif\" font-size=\"14.00\">False</text>\n</g>\n<!-- 3 -->\n<g id=\"node4\" class=\"node\">\n<title>3</title>\n<polygon fill=\"#4fe88f\" stroke=\"black\" points=\"307.5,-306 139.5,-306 139.5,-223 307.5,-223 307.5,-306\"/>\n<text text-anchor=\"middle\" x=\"223.5\" y=\"-290.8\" font-family=\"Helvetica,sans-Serif\" font-size=\"14.00\">petal length (cm) &lt;= 4.95</text>\n<text text-anchor=\"middle\" x=\"223.5\" y=\"-275.8\" font-family=\"Helvetica,sans-Serif\" font-size=\"14.00\">entropy = 0.469</text>\n<text text-anchor=\"middle\" x=\"223.5\" y=\"-260.8\" font-family=\"Helvetica,sans-Serif\" font-size=\"14.00\">samples = 40</text>\n<text text-anchor=\"middle\" x=\"223.5\" y=\"-245.8\" font-family=\"Helvetica,sans-Serif\" font-size=\"14.00\">value = [0, 36, 4]</text>\n<text text-anchor=\"middle\" x=\"223.5\" y=\"-230.8\" font-family=\"Helvetica,sans-Serif\" font-size=\"14.00\">class = versicolor</text>\n</g>\n<!-- 2&#45;&gt;3 -->\n<g id=\"edge3\" class=\"edge\">\n<title>2&#45;&gt;3</title>\n<path fill=\"none\" stroke=\"black\" d=\"M284.23,-341.91C277.09,-332.92 269.46,-323.32 262.09,-314.05\"/>\n<polygon fill=\"black\" stroke=\"black\" points=\"264.67,-311.67 255.71,-306.02 259.19,-316.03 264.67,-311.67\"/>\n</g>\n<!-- 8 -->\n<g id=\"node9\" class=\"node\">\n<title>8</title>\n<polygon fill=\"#843ee6\" stroke=\"black\" points=\"493.5,-306 325.5,-306 325.5,-223 493.5,-223 493.5,-306\"/>\n<text text-anchor=\"middle\" x=\"409.5\" y=\"-290.8\" font-family=\"Helvetica,sans-Serif\" font-size=\"14.00\">petal length (cm) &lt;= 4.85</text>\n<text text-anchor=\"middle\" x=\"409.5\" y=\"-275.8\" font-family=\"Helvetica,sans-Serif\" font-size=\"14.00\">entropy = 0.165</text>\n<text text-anchor=\"middle\" x=\"409.5\" y=\"-260.8\" font-family=\"Helvetica,sans-Serif\" font-size=\"14.00\">samples = 41</text>\n<text text-anchor=\"middle\" x=\"409.5\" y=\"-245.8\" font-family=\"Helvetica,sans-Serif\" font-size=\"14.00\">value = [0, 1, 40]</text>\n<text text-anchor=\"middle\" x=\"409.5\" y=\"-230.8\" font-family=\"Helvetica,sans-Serif\" font-size=\"14.00\">class = virginica</text>\n</g>\n<!-- 2&#45;&gt;8 -->\n<g id=\"edge8\" class=\"edge\">\n<title>2&#45;&gt;8</title>\n<path fill=\"none\" stroke=\"black\" d=\"M348.77,-341.91C355.91,-332.92 363.54,-323.32 370.91,-314.05\"/>\n<polygon fill=\"black\" stroke=\"black\" points=\"373.81,-316.03 377.29,-306.02 368.33,-311.67 373.81,-316.03\"/>\n</g>\n<!-- 4 -->\n<g id=\"node5\" class=\"node\">\n<title>4</title>\n<polygon fill=\"#39e581\" stroke=\"black\" points=\"121,-179.5 0,-179.5 0,-111.5 121,-111.5 121,-179.5\"/>\n<text text-anchor=\"middle\" x=\"60.5\" y=\"-164.3\" font-family=\"Helvetica,sans-Serif\" font-size=\"14.00\">entropy = 0.0</text>\n<text text-anchor=\"middle\" x=\"60.5\" y=\"-149.3\" font-family=\"Helvetica,sans-Serif\" font-size=\"14.00\">samples = 35</text>\n<text text-anchor=\"middle\" x=\"60.5\" y=\"-134.3\" font-family=\"Helvetica,sans-Serif\" font-size=\"14.00\">value = [0, 35, 0]</text>\n<text text-anchor=\"middle\" x=\"60.5\" y=\"-119.3\" font-family=\"Helvetica,sans-Serif\" font-size=\"14.00\">class = versicolor</text>\n</g>\n<!-- 3&#45;&gt;4 -->\n<g id=\"edge4\" class=\"edge\">\n<title>3&#45;&gt;4</title>\n<path fill=\"none\" stroke=\"black\" d=\"M166.95,-222.91C150.19,-210.88 131.88,-197.73 115.24,-185.79\"/>\n<polygon fill=\"black\" stroke=\"black\" points=\"116.87,-182.65 106.71,-179.67 112.79,-188.34 116.87,-182.65\"/>\n</g>\n<!-- 5 -->\n<g id=\"node6\" class=\"node\">\n<title>5</title>\n<polygon fill=\"#a06aec\" stroke=\"black\" points=\"310,-187 139,-187 139,-104 310,-104 310,-187\"/>\n<text text-anchor=\"middle\" x=\"224.5\" y=\"-171.8\" font-family=\"Helvetica,sans-Serif\" font-size=\"14.00\">sepal length (cm) &lt;= 6.05</text>\n<text text-anchor=\"middle\" x=\"224.5\" y=\"-156.8\" font-family=\"Helvetica,sans-Serif\" font-size=\"14.00\">entropy = 0.722</text>\n<text text-anchor=\"middle\" x=\"224.5\" y=\"-141.8\" font-family=\"Helvetica,sans-Serif\" font-size=\"14.00\">samples = 5</text>\n<text text-anchor=\"middle\" x=\"224.5\" y=\"-126.8\" font-family=\"Helvetica,sans-Serif\" font-size=\"14.00\">value = [0, 1, 4]</text>\n<text text-anchor=\"middle\" x=\"224.5\" y=\"-111.8\" font-family=\"Helvetica,sans-Serif\" font-size=\"14.00\">class = virginica</text>\n</g>\n<!-- 3&#45;&gt;5 -->\n<g id=\"edge5\" class=\"edge\">\n<title>3&#45;&gt;5</title>\n<path fill=\"none\" stroke=\"black\" d=\"M223.85,-222.91C223.92,-214.65 223.99,-205.86 224.07,-197.3\"/>\n<polygon fill=\"black\" stroke=\"black\" points=\"227.57,-197.05 224.15,-187.02 220.57,-196.99 227.57,-197.05\"/>\n</g>\n<!-- 6 -->\n<g id=\"node7\" class=\"node\">\n<title>6</title>\n<polygon fill=\"#ffffff\" stroke=\"black\" points=\"163,-68 42,-68 42,0 163,0 163,-68\"/>\n<text text-anchor=\"middle\" x=\"102.5\" y=\"-52.8\" font-family=\"Helvetica,sans-Serif\" font-size=\"14.00\">entropy = 1.0</text>\n<text text-anchor=\"middle\" x=\"102.5\" y=\"-37.8\" font-family=\"Helvetica,sans-Serif\" font-size=\"14.00\">samples = 2</text>\n<text text-anchor=\"middle\" x=\"102.5\" y=\"-22.8\" font-family=\"Helvetica,sans-Serif\" font-size=\"14.00\">value = [0, 1, 1]</text>\n<text text-anchor=\"middle\" x=\"102.5\" y=\"-7.8\" font-family=\"Helvetica,sans-Serif\" font-size=\"14.00\">class = versicolor</text>\n</g>\n<!-- 5&#45;&gt;6 -->\n<g id=\"edge6\" class=\"edge\">\n<title>5&#45;&gt;6</title>\n<path fill=\"none\" stroke=\"black\" d=\"M179.07,-103.73C168.6,-94.33 157.48,-84.35 147.05,-74.99\"/>\n<polygon fill=\"black\" stroke=\"black\" points=\"149.38,-72.37 139.6,-68.3 144.71,-77.58 149.38,-72.37\"/>\n</g>\n<!-- 7 -->\n<g id=\"node8\" class=\"node\">\n<title>7</title>\n<polygon fill=\"#8139e5\" stroke=\"black\" points=\"294,-68 181,-68 181,0 294,0 294,-68\"/>\n<text text-anchor=\"middle\" x=\"237.5\" y=\"-52.8\" font-family=\"Helvetica,sans-Serif\" font-size=\"14.00\">entropy = 0.0</text>\n<text text-anchor=\"middle\" x=\"237.5\" y=\"-37.8\" font-family=\"Helvetica,sans-Serif\" font-size=\"14.00\">samples = 3</text>\n<text text-anchor=\"middle\" x=\"237.5\" y=\"-22.8\" font-family=\"Helvetica,sans-Serif\" font-size=\"14.00\">value = [0, 0, 3]</text>\n<text text-anchor=\"middle\" x=\"237.5\" y=\"-7.8\" font-family=\"Helvetica,sans-Serif\" font-size=\"14.00\">class = virginica</text>\n</g>\n<!-- 5&#45;&gt;7 -->\n<g id=\"edge7\" class=\"edge\">\n<title>5&#45;&gt;7</title>\n<path fill=\"none\" stroke=\"black\" d=\"M229.34,-103.73C230.33,-95.43 231.37,-86.67 232.36,-78.28\"/>\n<polygon fill=\"black\" stroke=\"black\" points=\"235.84,-78.64 233.55,-68.3 228.89,-77.82 235.84,-78.64\"/>\n</g>\n<!-- 9 -->\n<g id=\"node10\" class=\"node\">\n<title>9</title>\n<polygon fill=\"#ab7bee\" stroke=\"black\" points=\"487.5,-187 329.5,-187 329.5,-104 487.5,-104 487.5,-187\"/>\n<text text-anchor=\"middle\" x=\"408.5\" y=\"-171.8\" font-family=\"Helvetica,sans-Serif\" font-size=\"14.00\">sepal width (cm) &lt;= 3.1</text>\n<text text-anchor=\"middle\" x=\"408.5\" y=\"-156.8\" font-family=\"Helvetica,sans-Serif\" font-size=\"14.00\">entropy = 0.811</text>\n<text text-anchor=\"middle\" x=\"408.5\" y=\"-141.8\" font-family=\"Helvetica,sans-Serif\" font-size=\"14.00\">samples = 4</text>\n<text text-anchor=\"middle\" x=\"408.5\" y=\"-126.8\" font-family=\"Helvetica,sans-Serif\" font-size=\"14.00\">value = [0, 1, 3]</text>\n<text text-anchor=\"middle\" x=\"408.5\" y=\"-111.8\" font-family=\"Helvetica,sans-Serif\" font-size=\"14.00\">class = virginica</text>\n</g>\n<!-- 8&#45;&gt;9 -->\n<g id=\"edge9\" class=\"edge\">\n<title>8&#45;&gt;9</title>\n<path fill=\"none\" stroke=\"black\" d=\"M409.15,-222.91C409.08,-214.65 409.01,-205.86 408.93,-197.3\"/>\n<polygon fill=\"black\" stroke=\"black\" points=\"412.43,-196.99 408.85,-187.02 405.43,-197.05 412.43,-196.99\"/>\n</g>\n<!-- 12 -->\n<g id=\"node13\" class=\"node\">\n<title>12</title>\n<polygon fill=\"#8139e5\" stroke=\"black\" points=\"623,-179.5 506,-179.5 506,-111.5 623,-111.5 623,-179.5\"/>\n<text text-anchor=\"middle\" x=\"564.5\" y=\"-164.3\" font-family=\"Helvetica,sans-Serif\" font-size=\"14.00\">entropy = 0.0</text>\n<text text-anchor=\"middle\" x=\"564.5\" y=\"-149.3\" font-family=\"Helvetica,sans-Serif\" font-size=\"14.00\">samples = 37</text>\n<text text-anchor=\"middle\" x=\"564.5\" y=\"-134.3\" font-family=\"Helvetica,sans-Serif\" font-size=\"14.00\">value = [0, 0, 37]</text>\n<text text-anchor=\"middle\" x=\"564.5\" y=\"-119.3\" font-family=\"Helvetica,sans-Serif\" font-size=\"14.00\">class = virginica</text>\n</g>\n<!-- 8&#45;&gt;12 -->\n<g id=\"edge12\" class=\"edge\">\n<title>8&#45;&gt;12</title>\n<path fill=\"none\" stroke=\"black\" d=\"M463.28,-222.91C479.21,-210.88 496.63,-197.73 512.45,-185.79\"/>\n<polygon fill=\"black\" stroke=\"black\" points=\"514.69,-188.49 520.56,-179.67 510.47,-182.9 514.69,-188.49\"/>\n</g>\n<!-- 10 -->\n<g id=\"node11\" class=\"node\">\n<title>10</title>\n<polygon fill=\"#8139e5\" stroke=\"black\" points=\"452,-68 339,-68 339,0 452,0 452,-68\"/>\n<text text-anchor=\"middle\" x=\"395.5\" y=\"-52.8\" font-family=\"Helvetica,sans-Serif\" font-size=\"14.00\">entropy = 0.0</text>\n<text text-anchor=\"middle\" x=\"395.5\" y=\"-37.8\" font-family=\"Helvetica,sans-Serif\" font-size=\"14.00\">samples = 3</text>\n<text text-anchor=\"middle\" x=\"395.5\" y=\"-22.8\" font-family=\"Helvetica,sans-Serif\" font-size=\"14.00\">value = [0, 0, 3]</text>\n<text text-anchor=\"middle\" x=\"395.5\" y=\"-7.8\" font-family=\"Helvetica,sans-Serif\" font-size=\"14.00\">class = virginica</text>\n</g>\n<!-- 9&#45;&gt;10 -->\n<g id=\"edge10\" class=\"edge\">\n<title>9&#45;&gt;10</title>\n<path fill=\"none\" stroke=\"black\" d=\"M403.66,-103.73C402.67,-95.43 401.63,-86.67 400.64,-78.28\"/>\n<polygon fill=\"black\" stroke=\"black\" points=\"404.11,-77.82 399.45,-68.3 397.16,-78.64 404.11,-77.82\"/>\n</g>\n<!-- 11 -->\n<g id=\"node12\" class=\"node\">\n<title>11</title>\n<polygon fill=\"#39e581\" stroke=\"black\" points=\"591,-68 470,-68 470,0 591,0 591,-68\"/>\n<text text-anchor=\"middle\" x=\"530.5\" y=\"-52.8\" font-family=\"Helvetica,sans-Serif\" font-size=\"14.00\">entropy = 0.0</text>\n<text text-anchor=\"middle\" x=\"530.5\" y=\"-37.8\" font-family=\"Helvetica,sans-Serif\" font-size=\"14.00\">samples = 1</text>\n<text text-anchor=\"middle\" x=\"530.5\" y=\"-22.8\" font-family=\"Helvetica,sans-Serif\" font-size=\"14.00\">value = [0, 1, 0]</text>\n<text text-anchor=\"middle\" x=\"530.5\" y=\"-7.8\" font-family=\"Helvetica,sans-Serif\" font-size=\"14.00\">class = versicolor</text>\n</g>\n<!-- 9&#45;&gt;11 -->\n<g id=\"edge11\" class=\"edge\">\n<title>9&#45;&gt;11</title>\n<path fill=\"none\" stroke=\"black\" d=\"M453.93,-103.73C464.4,-94.33 475.52,-84.35 485.95,-74.99\"/>\n<polygon fill=\"black\" stroke=\"black\" points=\"488.29,-77.58 493.4,-68.3 483.62,-72.37 488.29,-77.58\"/>\n</g>\n</g>\n</svg>\n",
            "text/plain": [
              "<graphviz.sources.Source at 0x7f444407a0b0>"
            ]
          },
          "metadata": {},
          "execution_count": 33
        }
      ]
    }
  ],
  "metadata": {
    "colab": {
      "provenance": []
    },
    "kernelspec": {
      "display_name": "Python 3",
      "language": "python",
      "name": "python3"
    },
    "language_info": {
      "codemirror_mode": {
        "name": "ipython",
        "version": 3
      },
      "file_extension": ".py",
      "mimetype": "text/x-python",
      "name": "python",
      "nbconvert_exporter": "python",
      "pygments_lexer": "ipython3",
      "version": "3.9.13"
    }
  },
  "nbformat": 4,
  "nbformat_minor": 0
}