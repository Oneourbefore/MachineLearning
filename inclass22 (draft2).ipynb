{
 "cells": [
  {
   "cell_type": "code",
   "execution_count": 1,
   "metadata": {
    "id": "bG_JiPHhnk4U"
   },
   "outputs": [],
   "source": [
    "import numpy as np\n",
    "import matplotlib.pyplot as plt\n",
    "\n",
    "from keras.datasets import mnist\n",
    "\n",
    "# 손글씨 이미지 데이터셋 784 x 1짜리 벡터로 변환 = 28 x 28 pixel로 이루어진 손글씨 이미지\n",
    "((x_train, y_train), (x_test, y_test)) = mnist.load_data()\n",
    "\n",
    "X_train = x_train.reshape(-1,28*28)\n",
    "X_test = x_test.reshape(-1,28*28)\n",
    "\n",
    "N_train,D = X_train.shape\n",
    "N_test,D = X_test.shape\n",
    "\n",
    "# dimensional reduction (PCA)\n",
    "# covariance\n",
    "mu = np.mean(X_train, axis = 0)\n",
    "C = X_train - mu\n",
    "C = (1/N_train) * C.T.dot(C)\n",
    "\n",
    "# SVD: C = U*S*V^T\n",
    "U, s, V = np.linalg.svd(C)\n",
    "S = np.diag(s)\n",
    "V = V.T\n",
    "\n",
    "# 전체 입력 차원 784 중에서, 차원을 축소해서 사용\n",
    "D_reduce = 30\n",
    "X_train = X_train.dot(V[:,0:D_reduce]) # N_train x D_reduce\n",
    "X_test = X_test.dot(V[:,0:D_reduce]) # N_train x D_reduce\n",
    "\n",
    "X_train = np.hstack([np.ones((N_train,1)),X_train])\n",
    "X_test = np.hstack([np.ones((N_test,1)),X_test])\n",
    "\n",
    "# one-of-K coding\n",
    "num = np.unique(y_train, axis = 0)\n",
    "num = num.shape[0]\n",
    "\n",
    "t_train = np.eye(num)[y_train]\n",
    "t_test = np.eye(num)[y_test]"
   ]
  },
  {
   "cell_type": "code",
   "execution_count": 2,
   "metadata": {
    "id": "FJi0XyPnn4Ze"
   },
   "outputs": [],
   "source": [
    "# activation function\n",
    "def act(x):\n",
    "    return np.tanh(x)\n",
    "\n",
    "def dact(x):\n",
    "    return 1 - np.tanh(x)**2\n",
    "\n",
    "# softmax\n",
    "def softmax(x):    \n",
    "    \n",
    "    if x.ndim == 1:\n",
    "        f_x = np.exp(x)\n",
    "        return f_x / np.sum(f_x)\n",
    "    \n",
    "    elif x.ndim == 2:\n",
    "        max = np.max(x,axis = 1,keepdims = True)\n",
    "        e_x = np.exp(x - max)\n",
    "        sum = np.sum(e_x,axis = 1,keepdims = True)\n",
    "        f_x = e_x / sum \n",
    "        return f_x\n",
    "\n",
    "# cross entropy\n",
    "def cross_entropy(y,t):\n",
    "    N,K = y.shape\n",
    "    e = np.sum(- t * np.log(y), axis = 1)\n",
    "    e = np.mean(e)\n",
    "    \n",
    "    return e"
   ]
  },
  {
   "cell_type": "code",
   "execution_count": 3,
   "metadata": {
    "id": "10ukmWYknpdE"
   },
   "outputs": [],
   "source": [
    "eta = 1e-5\n",
    "maxEpoch = 30\n",
    "\n",
    "M = np.array([X_train.shape[1], 100, 1000, 10])\n",
    "\n",
    "W1 = np.random.randn(M[1], M[0])\n",
    "W2 = np.random.randn(M[2], M[1])\n",
    "W3 = np.random.randn(M[3], M[2])\n",
    "\n",
    "z1 = np.zeros(M[1])\n",
    "z2 = np.zeros(M[2])\n",
    "z3 = np.zeros(M[3])\n",
    "\n",
    "a1 = np.zeros(M[1])\n",
    "a2 = np.zeros(M[2])\n",
    "y = np.zeros(M[3])\n",
    "\n",
    "delta1 = np.zeros(M[1])\n",
    "delta2 = np.zeros(M[2])\n",
    "delta3 = np.zeros(M[3])\n",
    "\n",
    "pred_train = np.zeros((N_train, M[-1]))"
   ]
  },
  {
   "cell_type": "code",
   "execution_count": 4,
   "metadata": {
    "colab": {
     "base_uri": "https://localhost:8080/"
    },
    "id": "Flr13Ew3oOFN",
    "outputId": "7a56d1e1-bffd-4d38-8aac-4fbf10243532"
   },
   "outputs": [
    {
     "name": "stdout",
     "output_type": "stream",
     "text": [
      "[epoch 0] cross entropy: 21.8971, accuracy: 0.2879\n",
      "[epoch 1] cross entropy: 16.6734, accuracy: 0.3693\n",
      "[epoch 2] cross entropy: 13.1634, accuracy: 0.4462\n",
      "[epoch 3] cross entropy: 11.3289, accuracy: 0.5000\n",
      "[epoch 4] cross entropy: 10.6999, accuracy: 0.5277\n",
      "[epoch 5] cross entropy: 9.6957, accuracy: 0.5557\n",
      "[epoch 6] cross entropy: 9.0353, accuracy: 0.5834\n",
      "[epoch 7] cross entropy: 8.4944, accuracy: 0.5878\n",
      "[epoch 8] cross entropy: 7.7107, accuracy: 0.6147\n",
      "[epoch 9] cross entropy: 7.6818, accuracy: 0.6205\n",
      "[epoch 10] cross entropy: 7.1504, accuracy: 0.6411\n",
      "[epoch 11] cross entropy: 6.9620, accuracy: 0.6403\n",
      "[epoch 12] cross entropy: 6.6502, accuracy: 0.6524\n",
      "[epoch 13] cross entropy: 6.4032, accuracy: 0.6584\n",
      "[epoch 14] cross entropy: 6.3940, accuracy: 0.6704\n",
      "[epoch 15] cross entropy: 6.3324, accuracy: 0.6602\n",
      "[epoch 16] cross entropy: 6.3137, accuracy: 0.6698\n",
      "[epoch 17] cross entropy: 6.2569, accuracy: 0.6726\n",
      "[epoch 18] cross entropy: 5.9792, accuracy: 0.6843\n",
      "[epoch 19] cross entropy: 5.8089, accuracy: 0.6986\n",
      "[epoch 20] cross entropy: 5.5833, accuracy: 0.7031\n",
      "[epoch 21] cross entropy: 5.4998, accuracy: 0.7103\n",
      "[epoch 22] cross entropy: 5.4563, accuracy: 0.7089\n",
      "[epoch 23] cross entropy: 5.3721, accuracy: 0.7072\n",
      "[epoch 24] cross entropy: 5.2444, accuracy: 0.7196\n",
      "[epoch 25] cross entropy: 5.0802, accuracy: 0.7184\n",
      "[epoch 26] cross entropy: 5.0691, accuracy: 0.7179\n",
      "[epoch 27] cross entropy: 4.8576, accuracy: 0.7272\n",
      "[epoch 28] cross entropy: 4.6613, accuracy: 0.7369\n",
      "[epoch 29] cross entropy: 4.6313, accuracy: 0.7359\n"
     ]
    }
   ],
   "source": [
    "cost = []\n",
    "accuracy = []\n",
    "\n",
    "for epoch in range(maxEpoch):\n",
    "    for n in range(N_train):\n",
    "        x = X_train[n,:]\n",
    "        t = t_train[n,:]\n",
    "\n",
    "        W1_new = W1\n",
    "        W2_new = W2\n",
    "        W3_new = W3\n",
    "\n",
    "        z1 = W1.dot(x)\n",
    "        a1 = act(z1)\n",
    "\n",
    "        z2 = W2.dot(a1)\n",
    "        a2 = act(z2)\n",
    "\n",
    "        z3 = W3.dot(a2)\n",
    "        y = softmax(z3)\n",
    "\n",
    "        delta3 = -(t - y)\n",
    "        delta2 = W3.T.dot(delta3) * dact(z2)\n",
    "        delta1 = W2.T.dot(delta2) * dact(z1)\n",
    "\n",
    "        W1_new = W1_new - eta*delta1.reshape(-1,1).dot(x.reshape(1,-1))\n",
    "        W2_new = W2_new - eta*delta2.reshape(-1,1).dot(a1.reshape(1,-1))\n",
    "        W3_new = W3_new - eta*delta3.reshape(-1,1).dot(a2.reshape(1,-1))\n",
    "\n",
    "        W1 = W1_new\n",
    "        W2 = W2_new\n",
    "        W3 = W3_new\n",
    "\n",
    "    for n in range(N_train):\n",
    "        x = X_train[n,:]\n",
    "        t = t_train[n,:]\n",
    "\n",
    "        z1 = W1.dot(x)\n",
    "        a1 = act(z1)\n",
    "\n",
    "        z2 = W2.dot(a1)\n",
    "        a2 = act(z2)\n",
    "\n",
    "        z3 = W3.dot(a2)\n",
    "        y = softmax(z3)\n",
    "\n",
    "        pred_train[n,:] = y\n",
    "\n",
    "    cost.append(cross_entropy(pred_train,t_train))\n",
    "    accuracy.append(np.sum(y_train == np.argmax(pred_train, axis = 1)) / N_train)\n",
    "    print('[epoch %d] cross entropy: %.4f, accuracy: %.4f'%(epoch,cost[-1],accuracy[-1]))   "
   ]
  },
  {
   "cell_type": "code",
   "execution_count": 5,
   "metadata": {
    "colab": {
     "base_uri": "https://localhost:8080/",
     "height": 714
    },
    "id": "L-rjofOUqMu0",
    "outputId": "b697140f-dac9-4250-e2c9-e32582513fc0"
   },
   "outputs": [
    {
     "data": {
      "text/plain": [
       "Text(0, 0.5, 'accuracy')"
      ]
     },
     "execution_count": 5,
     "metadata": {},
     "output_type": "execute_result"
    },
    {
     "data": {
      "image/png": "[encoded data removed]",
      "text/plain": [
       "<Figure size 800x800 with 2 Axes>"
      ]
     },
     "metadata": {},
     "output_type": "display_data"
    }
   ],
   "source": [
    "plt.figure(figsize = (8,8))\n",
    "plt.subplot(2,1,1)\n",
    "plt.plot(cost)\n",
    "plt.xlabel('epoch')\n",
    "plt.ylabel('cross entropy')\n",
    "plt.subplot(2,1,2)\n",
    "plt.plot(accuracy)\n",
    "plt.xlabel('epoch')\n",
    "plt.ylabel('accuracy')"
   ]
  },
  {
   "cell_type": "code",
   "execution_count": 6,
   "metadata": {
    "colab": {
     "base_uri": "https://localhost:8080/"
    },
    "id": "Ac2465FFsMlu",
    "outputId": "3d4229ee-567d-4c61-8ac3-95bc9ceae7f4"
   },
   "outputs": [
    {
     "name": "stdout",
     "output_type": "stream",
     "text": [
      "(100, 31)\n",
      "(200, 100)\n",
      "(500, 200)\n",
      "(10, 500)\n"
     ]
    }
   ],
   "source": [
    "M = np.array([X_train.shape[1],100,200,500,10])\n",
    "L = M.shape[0] - 1\n",
    "\n",
    "# initialize for a single input\n",
    "W = []\n",
    "for l in range(L):\n",
    "    W.append(np.random.randn(M[l + 1],M[l]))\n",
    "    print(W[l].shape)\n",
    "\n",
    "# forward propagation\n",
    "z = []\n",
    "a = []\n",
    "for l in range(L):    \n",
    "    z.append(np.zeros((M[l + 1])))\n",
    "    a.append(np.zeros((M[l + 1])))    \n",
    "y = softmax(z[-1])    \n",
    "\n",
    "# backpropagation\n",
    "delta = []\n",
    "for l in np.arange(L):    \n",
    "    delta.append(np.zeros((M[l + 1])))\n",
    "    \n",
    "pred_train = np.zeros((N_train, M[-1]))"
   ]
  },
  {
   "cell_type": "code",
   "execution_count": 7,
   "metadata": {
    "colab": {
     "base_uri": "https://localhost:8080/"
    },
    "id": "rs-AUdqwsNmD",
    "outputId": "e9a5904c-729c-4c7b-eaf1-85facec2d48b"
   },
   "outputs": [
    {
     "name": "stdout",
     "output_type": "stream",
     "text": [
      "[epoch 0] cross entropy: 21.6824, accuracy: 0.1559\n",
      "[epoch 1] cross entropy: 15.7009, accuracy: 0.2676\n",
      "[epoch 2] cross entropy: 12.4414, accuracy: 0.3346\n",
      "[epoch 3] cross entropy: 12.2814, accuracy: 0.3327\n",
      "[epoch 4] cross entropy: 11.4440, accuracy: 0.3632\n",
      "[epoch 5] cross entropy: 10.0640, accuracy: 0.3775\n",
      "[epoch 6] cross entropy: 8.8643, accuracy: 0.4204\n",
      "[epoch 7] cross entropy: 8.3962, accuracy: 0.4270\n",
      "[epoch 8] cross entropy: 8.2484, accuracy: 0.4355\n",
      "[epoch 9] cross entropy: 8.0314, accuracy: 0.4431\n",
      "[epoch 10] cross entropy: 7.3304, accuracy: 0.4979\n",
      "[epoch 11] cross entropy: 6.5546, accuracy: 0.5261\n",
      "[epoch 12] cross entropy: 7.1101, accuracy: 0.4893\n",
      "[epoch 13] cross entropy: 6.6007, accuracy: 0.5065\n",
      "[epoch 14] cross entropy: 6.2565, accuracy: 0.5098\n",
      "[epoch 15] cross entropy: 5.7349, accuracy: 0.5277\n",
      "[epoch 16] cross entropy: 5.4816, accuracy: 0.5383\n",
      "[epoch 17] cross entropy: 5.0130, accuracy: 0.5531\n",
      "[epoch 18] cross entropy: 5.1338, accuracy: 0.5378\n",
      "[epoch 19] cross entropy: 4.4093, accuracy: 0.5517\n",
      "[epoch 20] cross entropy: 4.3748, accuracy: 0.5528\n",
      "[epoch 21] cross entropy: 4.8323, accuracy: 0.5475\n",
      "[epoch 22] cross entropy: 5.0411, accuracy: 0.5488\n",
      "[epoch 23] cross entropy: 4.6144, accuracy: 0.5641\n",
      "[epoch 24] cross entropy: 4.5396, accuracy: 0.5650\n",
      "[epoch 25] cross entropy: 4.3898, accuracy: 0.5727\n",
      "[epoch 26] cross entropy: 4.6076, accuracy: 0.5436\n",
      "[epoch 27] cross entropy: 4.5042, accuracy: 0.5488\n",
      "[epoch 28] cross entropy: 4.5818, accuracy: 0.5434\n",
      "[epoch 29] cross entropy: 3.9776, accuracy: 0.5685\n"
     ]
    }
   ],
   "source": [
    "cost = []\n",
    "accuracy = []\n",
    "\n",
    "# stochastic gradient descent\n",
    "for epoch in range(maxEpoch):  \n",
    "    N_perm = np.random.permutation(N_train)    \n",
    "    \n",
    "    for n in N_perm:        \n",
    "        W_new = W\n",
    "        \n",
    "        x = X_train[n,:]\n",
    "        t = t_train[n,:] \n",
    "\n",
    "        ### forward propagation\n",
    "        z[0] = W[0].dot(x)\n",
    "        a[0] = act(z[0])\n",
    "\n",
    "        # propagation\n",
    "        for layer in range(L - 1):    \n",
    "            z[layer + 1] = W[layer + 1].dot(a[layer])\n",
    "            a[layer + 1] = act(z[layer + 1])\n",
    "\n",
    "        # output layer\n",
    "        y = softmax(z[-1])\n",
    "    \n",
    "        ### backpropagation\n",
    "        # output layer\n",
    "        delta[L - 1] = -(t - y)\n",
    "\n",
    "        # propagation\n",
    "        for layer in np.arange(L - 1,1,-1):\n",
    "            delta[layer - 1] = W[layer].T.dot(delta[layer]) * dact(z[layer - 1])         \n",
    "        \n",
    "        # input layer        \n",
    "        delta[0] = W[1].T.dot(delta[1]) * dact(z[0])\n",
    "\n",
    "        ### update\n",
    "        W_new[L - 1] = W_new[L - 1] - eta*delta[L - 1].reshape(-1,1).dot(a[L - 2].reshape(1,-1))\n",
    "        for layer in np.arange(L - 1,1,-1):\n",
    "            W_new[layer - 1] = W_new[layer - 1] - eta*delta[layer - 1].reshape(-1,1).dot(a[layer - 2].reshape(1,-1))\n",
    "        W_new[0] = W_new[0] - eta*delta[0].reshape(-1,1).dot(x.reshape(1,-1))\n",
    "        \n",
    "        W = W_new\n",
    "        \n",
    "    for n in range(N_train):  \n",
    "        x = X_train[n,:]\n",
    "        t = t_train[n,:] \n",
    "\n",
    "        ### forward propagation\n",
    "        z[0] = W[0].dot(x)\n",
    "        a[0] = act(z[0])\n",
    "\n",
    "        # propagation\n",
    "        for layer in range(L - 1):    \n",
    "            z[layer + 1] = W[layer + 1].dot(a[layer])\n",
    "            a[layer + 1] = act(z[layer + 1])\n",
    "\n",
    "        # output layer\n",
    "        y = softmax(z[-1])\n",
    "\n",
    "        pred_train[n,:] = y\n",
    "        \n",
    "    # performance\n",
    "    cost.append(cross_entropy(pred_train,t_train))\n",
    "    accuracy.append(np.sum(y_train == np.argmax(pred_train, axis = 1)) / N_train)\n",
    "    \n",
    "    print('[epoch %d] cross entropy: %.4f, accuracy: %.4f'%(epoch,cost[-1],accuracy[-1]))     "
   ]
  },
  {
   "cell_type": "code",
   "execution_count": 8,
   "metadata": {
    "id": "If1lsR5Jtdur"
   },
   "outputs": [
    {
     "data": {
      "text/plain": [
       "Text(0, 0.5, 'accuracy')"
      ]
     },
     "execution_count": 8,
     "metadata": {},
     "output_type": "execute_result"
    },
    {
     "data": {
      "image/png": "[encoded data removed]",
      "text/plain": [
       "<Figure size 800x800 with 2 Axes>"
      ]
     },
     "metadata": {},
     "output_type": "display_data"
    }
   ],
   "source": [
    "plt.figure(figsize = (8,8))\n",
    "plt.subplot(2,1,1)\n",
    "plt.plot(cost)\n",
    "plt.xlabel('epoch')\n",
    "plt.ylabel('cross entropy')\n",
    "plt.subplot(2,1,2)\n",
    "plt.plot(accuracy)\n",
    "plt.xlabel('epoch')\n",
    "plt.ylabel('accuracy')"
   ]
  },
  {
   "cell_type": "code",
   "execution_count": 9,
   "metadata": {
    "id": "03Pgk95DqNpV"
   },
   "outputs": [
    {
     "name": "stdout",
     "output_type": "stream",
     "text": [
      "Model: \"sequential\"\n",
      "_________________________________________________________________\n",
      " Layer (type)                Output Shape              Param #   \n",
      "=================================================================\n",
      " dense (Dense)               (None, 100)               3100      \n",
      "                                                                 \n",
      " dense_1 (Dense)             (None, 1000)              100000    \n",
      "                                                                 \n",
      " dense_2 (Dense)             (None, 10)                10000     \n",
      "                                                                 \n",
      "=================================================================\n",
      "Total params: 113,100\n",
      "Trainable params: 113,100\n",
      "Non-trainable params: 0\n",
      "_________________________________________________________________\n",
      "Epoch 1/30\n",
      "1875/1875 [==============================] - 2s 1ms/step - loss: 2.4173 - accuracy: 0.1034\n",
      "Epoch 2/30\n",
      "1875/1875 [==============================] - 2s 1ms/step - loss: 2.2570 - accuracy: 0.1445\n",
      "Epoch 3/30\n",
      "1875/1875 [==============================] - 2s 917us/step - loss: 2.1160 - accuracy: 0.2113\n",
      "Epoch 4/30\n",
      "1875/1875 [==============================] - 2s 913us/step - loss: 1.9923 - accuracy: 0.2998\n",
      "Epoch 5/30\n",
      "1875/1875 [==============================] - 2s 915us/step - loss: 1.8827 - accuracy: 0.3890\n",
      "Epoch 6/30\n",
      "1875/1875 [==============================] - 2s 912us/step - loss: 1.7860 - accuracy: 0.4612\n",
      "Epoch 7/30\n",
      "1875/1875 [==============================] - 2s 909us/step - loss: 1.7008 - accuracy: 0.5180\n",
      "Epoch 8/30\n",
      "1875/1875 [==============================] - 2s 898us/step - loss: 1.6241 - accuracy: 0.5624\n",
      "Epoch 9/30\n",
      "1875/1875 [==============================] - 4s 2ms/step - loss: 1.5546 - accuracy: 0.5986\n",
      "Epoch 10/30\n",
      "1875/1875 [==============================] - 8s 4ms/step - loss: 1.4918 - accuracy: 0.6242\n",
      "Epoch 11/30\n",
      "1875/1875 [==============================] - 3s 2ms/step - loss: 1.4348 - accuracy: 0.6463\n",
      "Epoch 12/30\n",
      "1875/1875 [==============================] - 3s 2ms/step - loss: 1.3821 - accuracy: 0.6648\n",
      "Epoch 13/30\n",
      "1875/1875 [==============================] - 2s 1ms/step - loss: 1.3336 - accuracy: 0.6809\n",
      "Epoch 14/30\n",
      "1875/1875 [==============================] - 2s 1ms/step - loss: 1.2889 - accuracy: 0.6949\n",
      "Epoch 15/30\n",
      "1875/1875 [==============================] - 2s 1ms/step - loss: 1.2473 - accuracy: 0.7071\n",
      "Epoch 16/30\n",
      "1875/1875 [==============================] - 2s 1ms/step - loss: 1.2092 - accuracy: 0.7173\n",
      "Epoch 17/30\n",
      "1875/1875 [==============================] - 2s 1ms/step - loss: 1.1736 - accuracy: 0.7258\n",
      "Epoch 18/30\n",
      "1875/1875 [==============================] - 2s 1ms/step - loss: 1.1406 - accuracy: 0.7343\n",
      "Epoch 19/30\n",
      "1875/1875 [==============================] - 2s 1ms/step - loss: 1.1100 - accuracy: 0.7422\n",
      "Epoch 20/30\n",
      "1875/1875 [==============================] - 2s 1ms/step - loss: 1.0812 - accuracy: 0.7501\n",
      "Epoch 21/30\n",
      "1875/1875 [==============================] - 2s 1ms/step - loss: 1.0539 - accuracy: 0.7561\n",
      "Epoch 22/30\n",
      "1875/1875 [==============================] - 2s 1ms/step - loss: 1.0285 - accuracy: 0.7627\n",
      "Epoch 23/30\n",
      "1875/1875 [==============================] - 2s 1ms/step - loss: 1.0049 - accuracy: 0.7678\n",
      "Epoch 24/30\n",
      "1875/1875 [==============================] - 2s 1ms/step - loss: 0.9827 - accuracy: 0.7728\n",
      "Epoch 25/30\n",
      "1875/1875 [==============================] - 2s 1ms/step - loss: 0.9620 - accuracy: 0.7766\n",
      "Epoch 26/30\n",
      "1875/1875 [==============================] - 2s 1ms/step - loss: 0.9423 - accuracy: 0.7808\n",
      "Epoch 27/30\n",
      "1875/1875 [==============================] - 2s 1ms/step - loss: 0.9235 - accuracy: 0.7853\n",
      "Epoch 28/30\n",
      "1875/1875 [==============================] - 2s 1ms/step - loss: 0.9059 - accuracy: 0.7893\n",
      "Epoch 29/30\n",
      "1875/1875 [==============================] - 2s 1ms/step - loss: 0.8893 - accuracy: 0.7926\n",
      "Epoch 30/30\n",
      "1875/1875 [==============================] - 2s 1ms/step - loss: 0.8734 - accuracy: 0.7958\n"
     ]
    }
   ],
   "source": [
    "import keras\n",
    "from keras.models import Sequential\n",
    "from keras.layers import Dense\n",
    "\n",
    "num_classes = 10\n",
    "epochs = maxEpoch\n",
    "\n",
    "opt = keras.optimizers.SGD(learning_rate=eta, name=\"SGD\")\n",
    "\n",
    "model = Sequential()\n",
    "model.add(Dense(100, activation='tanh', input_dim = X_train.shape[1], use_bias = False, kernel_initializer='random_normal'))\n",
    "model.add(Dense(1000, activation='tanh', use_bias = False, kernel_initializer='random_normal'))\n",
    "model.add(Dense(num_classes, activation='softmax', use_bias = False, kernel_initializer='random_normal'))\n",
    "model.summary()\n",
    "\n",
    "model.compile(loss = 'categorical_crossentropy', optimizer = opt, metrics = ['accuracy'])\n",
    "hist = model.fit(X_train, t_train, epochs = epochs, verbose = 1)"
   ]
  }
 ],
 "metadata": {
  "colab": {
   "provenance": []
  },
  "kernelspec": {
   "display_name": "Python 3 (ipykernel)",
   "language": "python",
   "name": "python3"
  },
  "language_info": {
   "codemirror_mode": {
    "name": "ipython",
    "version": 3
   },
   "file_extension": ".py",
   "mimetype": "text/x-python",
   "name": "python",
   "nbconvert_exporter": "python",
   "pygments_lexer": "ipython3",
   "version": "3.9.13"
  }
 },
 "nbformat": 4,
 "nbformat_minor": 1
}
