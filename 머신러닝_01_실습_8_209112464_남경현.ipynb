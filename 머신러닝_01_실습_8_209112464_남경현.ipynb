{
  "nbformat": 4,
  "nbformat_minor": 0,
  "metadata": {
    "colab": {
      "provenance": []
    },
    "kernelspec": {
      "name": "python3",
      "display_name": "Python 3"
    },
    "language_info": {
      "name": "python"
    }
  },
  "cells": [
    {
      "cell_type": "markdown",
      "source": [
        "# **Ensemble**"
      ],
      "metadata": {
        "id": "Ycssxh-Uo5An"
      }
    },
    {
      "cell_type": "code",
      "execution_count": 2,
      "metadata": {
        "id": "PnB3YswOecD2"
      },
      "outputs": [],
      "source": [
        "import pandas as pd\n",
        "from sklearn.ensemble import VotingClassifier\n",
        "from sklearn.linear_model import LogisticRegression\n",
        "from sklearn.neighbors import KNeighborsClassifier\n",
        "from sklearn.naive_bayes import GaussianNB\n",
        "from sklearn.datasets import load_breast_cancer\n",
        "from sklearn.model_selection import train_test_split\n",
        "from sklearn.metrics import accuracy_score\n",
        "from sklearn.ensemble import AdaBoostClassifier\n",
        "from sklearn.tree import DecisionTreeClassifier"
      ]
    },
    {
      "cell_type": "code",
      "source": [
        "cancer=load_breast_cancer()\n",
        "\n",
        "df = pd.DataFrame(data=cancer.data, columns=cancer.feature_names) \n",
        "df[\"class\"] = cancer.target \n",
        "df.head()"
      ],
      "metadata": {
        "id": "sANa5w9eh5os",
        "colab": {
          "base_uri": "https://localhost:8080/",
          "height": 331
        },
        "outputId": "6095e789-8e93-4507-96d6-53bc81a24496"
      },
      "execution_count": 3,
      "outputs": [
        {
          "output_type": "execute_result",
          "data": {
            "text/plain": [
              "   mean radius  mean texture  mean perimeter  mean area  mean smoothness  \\\n",
              "0        17.99         10.38          122.80     1001.0          0.11840   \n",
              "1        20.57         17.77          132.90     1326.0          0.08474   \n",
              "2        19.69         21.25          130.00     1203.0          0.10960   \n",
              "3        11.42         20.38           77.58      386.1          0.14250   \n",
              "4        20.29         14.34          135.10     1297.0          0.10030   \n",
              "\n",
              "   mean compactness  mean concavity  mean concave points  mean symmetry  \\\n",
              "0           0.27760          0.3001              0.14710         0.2419   \n",
              "1           0.07864          0.0869              0.07017         0.1812   \n",
              "2           0.15990          0.1974              0.12790         0.2069   \n",
              "3           0.28390          0.2414              0.10520         0.2597   \n",
              "4           0.13280          0.1980              0.10430         0.1809   \n",
              "\n",
              "   mean fractal dimension  ...  worst texture  worst perimeter  worst area  \\\n",
              "0                 0.07871  ...          17.33           184.60      2019.0   \n",
              "1                 0.05667  ...          23.41           158.80      1956.0   \n",
              "2                 0.05999  ...          25.53           152.50      1709.0   \n",
              "3                 0.09744  ...          26.50            98.87       567.7   \n",
              "4                 0.05883  ...          16.67           152.20      1575.0   \n",
              "\n",
              "   worst smoothness  worst compactness  worst concavity  worst concave points  \\\n",
              "0            0.1622             0.6656           0.7119                0.2654   \n",
              "1            0.1238             0.1866           0.2416                0.1860   \n",
              "2            0.1444             0.4245           0.4504                0.2430   \n",
              "3            0.2098             0.8663           0.6869                0.2575   \n",
              "4            0.1374             0.2050           0.4000                0.1625   \n",
              "\n",
              "   worst symmetry  worst fractal dimension  class  \n",
              "0          0.4601                  0.11890      0  \n",
              "1          0.2750                  0.08902      0  \n",
              "2          0.3613                  0.08758      0  \n",
              "3          0.6638                  0.17300      0  \n",
              "4          0.2364                  0.07678      0  \n",
              "\n",
              "[5 rows x 31 columns]"
            ],
            "text/html": [
              "\n",
              "  <div id=\"df-3375f0d7-cd8b-4860-abb1-97416320c258\">\n",
              "    <div class=\"colab-df-container\">\n",
              "      <div>\n",
              "<style scoped>\n",
              "    .dataframe tbody tr th:only-of-type {\n",
              "        vertical-align: middle;\n",
              "    }\n",
              "\n",
              "    .dataframe tbody tr th {\n",
              "        vertical-align: top;\n",
              "    }\n",
              "\n",
              "    .dataframe thead th {\n",
              "        text-align: right;\n",
              "    }\n",
              "</style>\n",
              "<table border=\"1\" class=\"dataframe\">\n",
              "  <thead>\n",
              "    <tr style=\"text-align: right;\">\n",
              "      <th></th>\n",
              "      <th>mean radius</th>\n",
              "      <th>mean texture</th>\n",
              "      <th>mean perimeter</th>\n",
              "      <th>mean area</th>\n",
              "      <th>mean smoothness</th>\n",
              "      <th>mean compactness</th>\n",
              "      <th>mean concavity</th>\n",
              "      <th>mean concave points</th>\n",
              "      <th>mean symmetry</th>\n",
              "      <th>mean fractal dimension</th>\n",
              "      <th>...</th>\n",
              "      <th>worst texture</th>\n",
              "      <th>worst perimeter</th>\n",
              "      <th>worst area</th>\n",
              "      <th>worst smoothness</th>\n",
              "      <th>worst compactness</th>\n",
              "      <th>worst concavity</th>\n",
              "      <th>worst concave points</th>\n",
              "      <th>worst symmetry</th>\n",
              "      <th>worst fractal dimension</th>\n",
              "      <th>class</th>\n",
              "    </tr>\n",
              "  </thead>\n",
              "  <tbody>\n",
              "    <tr>\n",
              "      <th>0</th>\n",
              "      <td>17.99</td>\n",
              "      <td>10.38</td>\n",
              "      <td>122.80</td>\n",
              "      <td>1001.0</td>\n",
              "      <td>0.11840</td>\n",
              "      <td>0.27760</td>\n",
              "      <td>0.3001</td>\n",
              "      <td>0.14710</td>\n",
              "      <td>0.2419</td>\n",
              "      <td>0.07871</td>\n",
              "      <td>...</td>\n",
              "      <td>17.33</td>\n",
              "      <td>184.60</td>\n",
              "      <td>2019.0</td>\n",
              "      <td>0.1622</td>\n",
              "      <td>0.6656</td>\n",
              "      <td>0.7119</td>\n",
              "      <td>0.2654</td>\n",
              "      <td>0.4601</td>\n",
              "      <td>0.11890</td>\n",
              "      <td>0</td>\n",
              "    </tr>\n",
              "    <tr>\n",
              "      <th>1</th>\n",
              "      <td>20.57</td>\n",
              "      <td>17.77</td>\n",
              "      <td>132.90</td>\n",
              "      <td>1326.0</td>\n",
              "      <td>0.08474</td>\n",
              "      <td>0.07864</td>\n",
              "      <td>0.0869</td>\n",
              "      <td>0.07017</td>\n",
              "      <td>0.1812</td>\n",
              "      <td>0.05667</td>\n",
              "      <td>...</td>\n",
              "      <td>23.41</td>\n",
              "      <td>158.80</td>\n",
              "      <td>1956.0</td>\n",
              "      <td>0.1238</td>\n",
              "      <td>0.1866</td>\n",
              "      <td>0.2416</td>\n",
              "      <td>0.1860</td>\n",
              "      <td>0.2750</td>\n",
              "      <td>0.08902</td>\n",
              "      <td>0</td>\n",
              "    </tr>\n",
              "    <tr>\n",
              "      <th>2</th>\n",
              "      <td>19.69</td>\n",
              "      <td>21.25</td>\n",
              "      <td>130.00</td>\n",
              "      <td>1203.0</td>\n",
              "      <td>0.10960</td>\n",
              "      <td>0.15990</td>\n",
              "      <td>0.1974</td>\n",
              "      <td>0.12790</td>\n",
              "      <td>0.2069</td>\n",
              "      <td>0.05999</td>\n",
              "      <td>...</td>\n",
              "      <td>25.53</td>\n",
              "      <td>152.50</td>\n",
              "      <td>1709.0</td>\n",
              "      <td>0.1444</td>\n",
              "      <td>0.4245</td>\n",
              "      <td>0.4504</td>\n",
              "      <td>0.2430</td>\n",
              "      <td>0.3613</td>\n",
              "      <td>0.08758</td>\n",
              "      <td>0</td>\n",
              "    </tr>\n",
              "    <tr>\n",
              "      <th>3</th>\n",
              "      <td>11.42</td>\n",
              "      <td>20.38</td>\n",
              "      <td>77.58</td>\n",
              "      <td>386.1</td>\n",
              "      <td>0.14250</td>\n",
              "      <td>0.28390</td>\n",
              "      <td>0.2414</td>\n",
              "      <td>0.10520</td>\n",
              "      <td>0.2597</td>\n",
              "      <td>0.09744</td>\n",
              "      <td>...</td>\n",
              "      <td>26.50</td>\n",
              "      <td>98.87</td>\n",
              "      <td>567.7</td>\n",
              "      <td>0.2098</td>\n",
              "      <td>0.8663</td>\n",
              "      <td>0.6869</td>\n",
              "      <td>0.2575</td>\n",
              "      <td>0.6638</td>\n",
              "      <td>0.17300</td>\n",
              "      <td>0</td>\n",
              "    </tr>\n",
              "    <tr>\n",
              "      <th>4</th>\n",
              "      <td>20.29</td>\n",
              "      <td>14.34</td>\n",
              "      <td>135.10</td>\n",
              "      <td>1297.0</td>\n",
              "      <td>0.10030</td>\n",
              "      <td>0.13280</td>\n",
              "      <td>0.1980</td>\n",
              "      <td>0.10430</td>\n",
              "      <td>0.1809</td>\n",
              "      <td>0.05883</td>\n",
              "      <td>...</td>\n",
              "      <td>16.67</td>\n",
              "      <td>152.20</td>\n",
              "      <td>1575.0</td>\n",
              "      <td>0.1374</td>\n",
              "      <td>0.2050</td>\n",
              "      <td>0.4000</td>\n",
              "      <td>0.1625</td>\n",
              "      <td>0.2364</td>\n",
              "      <td>0.07678</td>\n",
              "      <td>0</td>\n",
              "    </tr>\n",
              "  </tbody>\n",
              "</table>\n",
              "<p>5 rows × 31 columns</p>\n",
              "</div>\n",
              "      <button class=\"colab-df-convert\" onclick=\"convertToInteractive('df-3375f0d7-cd8b-4860-abb1-97416320c258')\"\n",
              "              title=\"Convert this dataframe to an interactive table.\"\n",
              "              style=\"display:none;\">\n",
              "        \n",
              "  <svg xmlns=\"http://www.w3.org/2000/svg\" height=\"24px\"viewBox=\"0 0 24 24\"\n",
              "       width=\"24px\">\n",
              "    <path d=\"M0 0h24v24H0V0z\" fill=\"none\"/>\n",
              "    <path d=\"M18.56 5.44l.94 2.06.94-2.06 2.06-.94-2.06-.94-.94-2.06-.94 2.06-2.06.94zm-11 1L8.5 8.5l.94-2.06 2.06-.94-2.06-.94L8.5 2.5l-.94 2.06-2.06.94zm10 10l.94 2.06.94-2.06 2.06-.94-2.06-.94-.94-2.06-.94 2.06-2.06.94z\"/><path d=\"M17.41 7.96l-1.37-1.37c-.4-.4-.92-.59-1.43-.59-.52 0-1.04.2-1.43.59L10.3 9.45l-7.72 7.72c-.78.78-.78 2.05 0 2.83L4 21.41c.39.39.9.59 1.41.59.51 0 1.02-.2 1.41-.59l7.78-7.78 2.81-2.81c.8-.78.8-2.07 0-2.86zM5.41 20L4 18.59l7.72-7.72 1.47 1.35L5.41 20z\"/>\n",
              "  </svg>\n",
              "      </button>\n",
              "      \n",
              "  <style>\n",
              "    .colab-df-container {\n",
              "      display:flex;\n",
              "      flex-wrap:wrap;\n",
              "      gap: 12px;\n",
              "    }\n",
              "\n",
              "    .colab-df-convert {\n",
              "      background-color: #E8F0FE;\n",
              "      border: none;\n",
              "      border-radius: 50%;\n",
              "      cursor: pointer;\n",
              "      display: none;\n",
              "      fill: #1967D2;\n",
              "      height: 32px;\n",
              "      padding: 0 0 0 0;\n",
              "      width: 32px;\n",
              "    }\n",
              "\n",
              "    .colab-df-convert:hover {\n",
              "      background-color: #E2EBFA;\n",
              "      box-shadow: 0px 1px 2px rgba(60, 64, 67, 0.3), 0px 1px 3px 1px rgba(60, 64, 67, 0.15);\n",
              "      fill: #174EA6;\n",
              "    }\n",
              "\n",
              "    [theme=dark] .colab-df-convert {\n",
              "      background-color: #3B4455;\n",
              "      fill: #D2E3FC;\n",
              "    }\n",
              "\n",
              "    [theme=dark] .colab-df-convert:hover {\n",
              "      background-color: #434B5C;\n",
              "      box-shadow: 0px 1px 3px 1px rgba(0, 0, 0, 0.15);\n",
              "      filter: drop-shadow(0px 1px 2px rgba(0, 0, 0, 0.3));\n",
              "      fill: #FFFFFF;\n",
              "    }\n",
              "  </style>\n",
              "\n",
              "      <script>\n",
              "        const buttonEl =\n",
              "          document.querySelector('#df-3375f0d7-cd8b-4860-abb1-97416320c258 button.colab-df-convert');\n",
              "        buttonEl.style.display =\n",
              "          google.colab.kernel.accessAllowed ? 'block' : 'none';\n",
              "\n",
              "        async function convertToInteractive(key) {\n",
              "          const element = document.querySelector('#df-3375f0d7-cd8b-4860-abb1-97416320c258');\n",
              "          const dataTable =\n",
              "            await google.colab.kernel.invokeFunction('convertToInteractive',\n",
              "                                                     [key], {});\n",
              "          if (!dataTable) return;\n",
              "\n",
              "          const docLinkHtml = 'Like what you see? Visit the ' +\n",
              "            '<a target=\"_blank\" href=https://colab.research.google.com/notebooks/data_table.ipynb>data table notebook</a>'\n",
              "            + ' to learn more about interactive tables.';\n",
              "          element.innerHTML = '';\n",
              "          dataTable['output_type'] = 'display_data';\n",
              "          await google.colab.output.renderOutput(dataTable, element);\n",
              "          const docLink = document.createElement('div');\n",
              "          docLink.innerHTML = docLinkHtml;\n",
              "          element.appendChild(docLink);\n",
              "        }\n",
              "      </script>\n",
              "    </div>\n",
              "  </div>\n",
              "  "
            ]
          },
          "metadata": {},
          "execution_count": 3
        }
      ]
    },
    {
      "cell_type": "markdown",
      "source": [
        "![image.png](data:image/png;base64,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!)![image.png](data:image/png;base64,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)"
      ],
      "metadata": {
        "id": "VZR9ciseDuK3"
      }
    },
    {
      "cell_type": "markdown",
      "source": [
        "![image.png](data:image/png;base64,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)"
      ],
      "metadata": {
        "id": "pEV2sFhXECdV"
      }
    },
    {
      "cell_type": "code",
      "source": [
        "X_train, X_test, Y_train, Y_test = train_test_split(df.iloc[:,:-1], df.iloc[:,-1],test_size=0.3,random_state=100)\n",
        "\n",
        "lr_clf=LogisticRegression(max_iter=10000)\n",
        "nb_clf=GaussianNB()\n",
        "# knn_clf=KNeighborsClassifier(n_neighbors=8)\n",
        "\n",
        "vo_clf=VotingClassifier(estimators=[('LR',lr_clf),('NB',nb_clf)],voting='soft')\n",
        "\n",
        "vo_clf.fit(X_train,Y_train)\n",
        "Y_pred=vo_clf.predict(X_test)\n",
        "print('Voting Classifier Accuracy : {0:.4f}'.format(accuracy_score(Y_test,Y_pred)))"
      ],
      "metadata": {
        "id": "RHEmQo60h3nx",
        "colab": {
          "base_uri": "https://localhost:8080/"
        },
        "outputId": "3d621500-1554-4c2c-96dd-38c92723d2d9"
      },
      "execution_count": 4,
      "outputs": [
        {
          "output_type": "stream",
          "name": "stdout",
          "text": [
            "Voting Classifier Accuracy : 0.9415\n"
          ]
        }
      ]
    },
    {
      "cell_type": "code",
      "source": [
        "classifiers=[lr_clf,nb_clf]\n",
        "\n",
        "for clf in classifiers:\n",
        "    clf.fit(X_train,Y_train)\n",
        "    y_pred=clf.predict(X_test)\n",
        "    acc = accuracy_score(Y_test, y_pred)\n",
        "    print('{} 정확도: {:.4f}'.format(clf,acc))"
      ],
      "metadata": {
        "id": "i0PCVg9Kmjhh",
        "colab": {
          "base_uri": "https://localhost:8080/"
        },
        "outputId": "e1fc8bc0-ce66-42ba-f8a3-b34dd3df1b6e"
      },
      "execution_count": 5,
      "outputs": [
        {
          "output_type": "stream",
          "name": "stdout",
          "text": [
            "LogisticRegression(max_iter=10000) 정확도: 0.9532\n",
            "GaussianNB() 정확도: 0.9240\n"
          ]
        }
      ]
    },
    {
      "cell_type": "markdown",
      "source": [
        "![image.png](data:image/png;base64,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)"
      ],
      "metadata": {
        "id": "vENz_7NuFuj5"
      }
    },
    {
      "cell_type": "markdown",
      "source": [
        "# **Adaptive Boosting**"
      ],
      "metadata": {
        "id": "nd3EdCeUo0Ko"
      }
    },
    {
      "cell_type": "code",
      "source": [
        "# 가장 기본적인 AdaBoost\n",
        "clf = AdaBoostClassifier(n_estimators=100, random_state=0)\n",
        "clf.fit(X_train, Y_train) \n",
        "y_pred=clf.predict(X_test)\n",
        "print(accuracy_score(Y_test, y_pred))"
      ],
      "metadata": {
        "id": "fViY_i46nALs",
        "colab": {
          "base_uri": "https://localhost:8080/"
        },
        "outputId": "917c6832-b029-4b1c-da44-690a3f2aa3f9"
      },
      "execution_count": 6,
      "outputs": [
        {
          "output_type": "stream",
          "name": "stdout",
          "text": [
            "0.9532163742690059\n"
          ]
        }
      ]
    },
    {
      "cell_type": "code",
      "source": [
        "# DecisionTree를 활용한 Adaboost\n",
        "tree_model = DecisionTreeClassifier(max_depth=3)\n",
        "clf = AdaBoostClassifier(estimator = tree_model, n_estimators=10, random_state=0)\n",
        "clf.fit(X_train, Y_train) \n",
        "y_pred=clf.predict(X_test)\n",
        "print(accuracy_score(Y_test, y_pred))"
      ],
      "metadata": {
        "id": "pi3W0qvboLqj",
        "colab": {
          "base_uri": "https://localhost:8080/"
        },
        "outputId": "8adfe5f1-3c16-4aca-94bb-3b547d96d1da"
      },
      "execution_count": 7,
      "outputs": [
        {
          "output_type": "stream",
          "name": "stdout",
          "text": [
            "0.9707602339181286\n"
          ]
        }
      ]
    },
    {
      "cell_type": "code",
      "source": [
        "# 추정 횟수를 증가시킨 AdaBoost\n",
        "tree_model = DecisionTreeClassifier(max_depth=3)\n",
        "clf = AdaBoostClassifier(estimator = tree_model, n_estimators=50, random_state=0)\n",
        "clf.fit(X_train, Y_train) \n",
        "y_pred=clf.predict(X_test)\n",
        "print(accuracy_score(Y_test, y_pred))"
      ],
      "metadata": {
        "id": "6wq2eL3hoY6A",
        "colab": {
          "base_uri": "https://localhost:8080/"
        },
        "outputId": "369cede8-b3a4-4c9d-ed3e-fd1f9c617e93"
      },
      "execution_count": 8,
      "outputs": [
        {
          "output_type": "stream",
          "name": "stdout",
          "text": [
            "0.9590643274853801\n"
          ]
        }
      ]
    },
    {
      "cell_type": "markdown",
      "source": [
        "# **퀴즈 1**\n",
        "\n",
        "*   make_moons 데이터에 대하여, 현재까지 배운 여러 가지 분류 알고리즘을 Ensemble하여 Test set 성능을 평가하시오. (2종류 이상)\n",
        "\n",
        "\n",
        "\n"
      ],
      "metadata": {
        "id": "YdHJCzdho8Pj"
      }
    },
    {
      "cell_type": "code",
      "source": [
        "from sklearn.datasets import make_moons\n",
        "from sklearn.svm import SVC\n",
        "X, y = make_moons(n_samples=100, noise=0.25, random_state=0)\n",
        "X_train, X_test, y_train, y_test = train_test_split(X, y, random_state=0)"
      ],
      "metadata": {
        "id": "-0-1QTd7sF2C"
      },
      "execution_count": 26,
      "outputs": []
    },
    {
      "cell_type": "code",
      "source": [
        "lr_clf=LogisticRegression(max_iter=10000)\n",
        "nb_clf=GaussianNB()\n",
        "vo_clf=VotingClassifier(estimators=[('LR',lr_clf),('NB',nb_clf)],voting='soft')\n",
        "vo_clf.fit(X_train,y_train)\n",
        "Y_pred=vo_clf.predict(X_test)\n",
        "print('Voting Classifier Accuracy : {0:.4f}'.format(accuracy_score(y_test,Y_pred)))"
      ],
      "metadata": {
        "colab": {
          "base_uri": "https://localhost:8080/"
        },
        "id": "mYfe1VCbJ4Vx",
        "outputId": "621155e4-ec2a-48e2-e70f-13fde27f1e7d"
      },
      "execution_count": 27,
      "outputs": [
        {
          "output_type": "stream",
          "name": "stdout",
          "text": [
            "Voting Classifier Accuracy : 0.8400\n"
          ]
        }
      ]
    },
    {
      "cell_type": "code",
      "source": [
        "lr_clf=LogisticRegression(max_iter=10000)\n",
        "nb_clf=GaussianNB()\n",
        "vo_clf=VotingClassifier(estimators=[('LR',lr_clf),('NB',nb_clf)],voting='hard')\n",
        "vo_clf.fit(X_train,y_train)\n",
        "Y_pred=vo_clf.predict(X_test)\n",
        "print('Voting Classifier Accuracy : {0:.4f}'.format(accuracy_score(y_test,Y_pred)))"
      ],
      "metadata": {
        "id": "hdtJsJLOLEFv",
        "outputId": "89702860-da40-44da-c01e-71830d0da3bc",
        "colab": {
          "base_uri": "https://localhost:8080/"
        }
      },
      "execution_count": 28,
      "outputs": [
        {
          "output_type": "stream",
          "name": "stdout",
          "text": [
            "Voting Classifier Accuracy : 0.8400\n"
          ]
        }
      ]
    },
    {
      "cell_type": "code",
      "source": [
        "lr_clf=LogisticRegression(max_iter=1000)\n",
        "nb_clf=GaussianNB()\n",
        "Decision_Tree = DecisionTreeClassifier()\n",
        "\n",
        "\n",
        "vo_clf=VotingClassifier(estimators=[('LR',lr_clf),('NB',nb_clf),('DT',Decision_Tree)],voting='soft')\n",
        "\n",
        "vo_clf.fit(X_train,y_train)\n",
        "y_pred=vo_clf.predict(X_test)\n",
        "print('Voting Classifier Accuracy : {0:.4f}'.format(accuracy_score(y_test,y_pred)))"
      ],
      "metadata": {
        "colab": {
          "base_uri": "https://localhost:8080/"
        },
        "id": "I27piGSNDmaD",
        "outputId": "c1694daa-8913-436d-b436-a84c4569752b"
      },
      "execution_count": 29,
      "outputs": [
        {
          "output_type": "stream",
          "name": "stdout",
          "text": [
            "Voting Classifier Accuracy : 0.8800\n"
          ]
        }
      ]
    },
    {
      "cell_type": "code",
      "source": [
        "lr_clf=LogisticRegression(max_iter=1000)\n",
        "nb_clf=GaussianNB()\n",
        "Decision_Tree = DecisionTreeClassifier()\n",
        "\n",
        "vo_clf=VotingClassifier(estimators=[('LR',lr_clf),('NB',nb_clf),('DT',Decision_Tree)],voting='hard')\n",
        "\n",
        "vo_clf.fit(X_train,y_train)\n",
        "y_pred=vo_clf.predict(X_test)\n",
        "print('Voting Classifier Accuracy : {0:.4f}'.format(accuracy_score(y_test,y_pred)))"
      ],
      "metadata": {
        "colab": {
          "base_uri": "https://localhost:8080/"
        },
        "id": "PLTmzH0hDpV9",
        "outputId": "90ab1a80-c33d-4f05-e6bb-f9a18b72a65f"
      },
      "execution_count": 30,
      "outputs": [
        {
          "output_type": "stream",
          "name": "stdout",
          "text": [
            "Voting Classifier Accuracy : 0.8400\n"
          ]
        }
      ]
    },
    {
      "cell_type": "code",
      "source": [
        "svm = SVC(kernel='poly', C = 3,degree=3, probability=True)\n",
        "lr_clf=LogisticRegression(max_iter=1000)\n",
        "nb_clf=GaussianNB()\n",
        "Decision_Tree = DecisionTreeClassifier()\n",
        "\n",
        "vo_clf=VotingClassifier(estimators=[('LR',lr_clf),('NB',nb_clf),('DT',Decision_Tree),('svm',svm)],voting='soft')\n",
        "\n",
        "vo_clf.fit(X_train,y_train)\n",
        "y_pred=vo_clf.predict(X_test)\n",
        "print('Voting Classifier Accuracy : {0:.4f}'.format(accuracy_score(y_test,y_pred)))"
      ],
      "metadata": {
        "colab": {
          "base_uri": "https://localhost:8080/"
        },
        "id": "5HV7tEH0D4_I",
        "outputId": "dfb44630-2022-49a3-c132-290507b940c6"
      },
      "execution_count": 31,
      "outputs": [
        {
          "output_type": "stream",
          "name": "stdout",
          "text": [
            "Voting Classifier Accuracy : 0.9200\n"
          ]
        }
      ]
    },
    {
      "cell_type": "code",
      "source": [
        "svm = SVC(kernel='poly', C = 3,degree=3, probability=True)\n",
        "lr_clf=LogisticRegression(max_iter=1000)\n",
        "nb_clf=GaussianNB()\n",
        "Decision_Tree = DecisionTreeClassifier()\n",
        "\n",
        "vo_clf=VotingClassifier(estimators=[('LR',lr_clf),('NB',nb_clf),('DT',Decision_Tree),('svm',svm)],voting='hard')\n",
        "\n",
        "vo_clf.fit(X_train,y_train)\n",
        "y_pred=vo_clf.predict(X_test)\n",
        "print('Voting Classifier Accuracy : {0:.4f}'.format(accuracy_score(y_test,y_pred)))"
      ],
      "metadata": {
        "colab": {
          "base_uri": "https://localhost:8080/"
        },
        "id": "HHGXyhL7ECzO",
        "outputId": "edf6e4cd-b77a-4f72-e339-8a51f2eb4732"
      },
      "execution_count": 32,
      "outputs": [
        {
          "output_type": "stream",
          "name": "stdout",
          "text": [
            "Voting Classifier Accuracy : 0.8400\n"
          ]
        }
      ]
    },
    {
      "cell_type": "code",
      "source": [],
      "metadata": {
        "id": "u8kFsR3BFBUK"
      },
      "execution_count": null,
      "outputs": []
    }
  ]
}